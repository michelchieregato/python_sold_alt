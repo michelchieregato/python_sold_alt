{
 "cells": [
  {
   "cell_type": "code",
   "execution_count": 17,
   "metadata": {},
   "outputs": [
    {
     "data": {
      "text/html": [
       "<script>requirejs.config({paths: { 'plotly': ['https://cdn.plot.ly/plotly-latest.min']},});if(!window.Plotly) {{require(['plotly'],function(plotly) {window.Plotly=plotly;});}}</script>"
      ],
      "text/vnd.plotly.v1+html": [
       "<script>requirejs.config({paths: { 'plotly': ['https://cdn.plot.ly/plotly-latest.min']},});if(!window.Plotly) {{require(['plotly'],function(plotly) {window.Plotly=plotly;});}}</script>"
      ]
     },
     "metadata": {},
     "output_type": "display_data"
    }
   ],
   "source": [
    "import pandas as pd\n",
    "import numpy as np\n",
    "\n",
    "import matplotlib.pyplot as plt\n",
    "\n",
    "import plotly.offline as py\n",
    "import plotly.graph_objs as go\n",
    "import plotly.tools as tls\n",
    "py.init_notebook_mode(connected=True)"
   ]
  },
  {
   "cell_type": "code",
   "execution_count": 18,
   "metadata": {},
   "outputs": [
    {
     "ename": "FileNotFoundError",
     "evalue": "File b'./data/raw/Vendas.csv' does not exist",
     "output_type": "error",
     "traceback": [
      "\u001b[1;31m---------------------------------------------------------------------------\u001b[0m",
      "\u001b[1;31mFileNotFoundError\u001b[0m                         Traceback (most recent call last)",
      "\u001b[1;32m<ipython-input-18-21647f286acb>\u001b[0m in \u001b[0;36m<module>\u001b[1;34m()\u001b[0m\n\u001b[1;32m----> 1\u001b[1;33m \u001b[0mvendas\u001b[0m \u001b[1;33m=\u001b[0m \u001b[0mpd\u001b[0m\u001b[1;33m.\u001b[0m\u001b[0mread_csv\u001b[0m\u001b[1;33m(\u001b[0m\u001b[1;34m'./data/raw/Vendas.csv'\u001b[0m\u001b[1;33m,\u001b[0m \u001b[0msep\u001b[0m\u001b[1;33m=\u001b[0m\u001b[1;34m';'\u001b[0m\u001b[1;33m)\u001b[0m\u001b[1;33m\u001b[0m\u001b[0m\n\u001b[0m",
      "\u001b[1;32m~\\Anaconda3\\lib\\site-packages\\pandas\\io\\parsers.py\u001b[0m in \u001b[0;36mparser_f\u001b[1;34m(filepath_or_buffer, sep, delimiter, header, names, index_col, usecols, squeeze, prefix, mangle_dupe_cols, dtype, engine, converters, true_values, false_values, skipinitialspace, skiprows, nrows, na_values, keep_default_na, na_filter, verbose, skip_blank_lines, parse_dates, infer_datetime_format, keep_date_col, date_parser, dayfirst, iterator, chunksize, compression, thousands, decimal, lineterminator, quotechar, quoting, escapechar, comment, encoding, dialect, tupleize_cols, error_bad_lines, warn_bad_lines, skipfooter, skip_footer, doublequote, delim_whitespace, as_recarray, compact_ints, use_unsigned, low_memory, buffer_lines, memory_map, float_precision)\u001b[0m\n\u001b[0;32m    653\u001b[0m                     skip_blank_lines=skip_blank_lines)\n\u001b[0;32m    654\u001b[0m \u001b[1;33m\u001b[0m\u001b[0m\n\u001b[1;32m--> 655\u001b[1;33m         \u001b[1;32mreturn\u001b[0m \u001b[0m_read\u001b[0m\u001b[1;33m(\u001b[0m\u001b[0mfilepath_or_buffer\u001b[0m\u001b[1;33m,\u001b[0m \u001b[0mkwds\u001b[0m\u001b[1;33m)\u001b[0m\u001b[1;33m\u001b[0m\u001b[0m\n\u001b[0m\u001b[0;32m    656\u001b[0m \u001b[1;33m\u001b[0m\u001b[0m\n\u001b[0;32m    657\u001b[0m     \u001b[0mparser_f\u001b[0m\u001b[1;33m.\u001b[0m\u001b[0m__name__\u001b[0m \u001b[1;33m=\u001b[0m \u001b[0mname\u001b[0m\u001b[1;33m\u001b[0m\u001b[0m\n",
      "\u001b[1;32m~\\Anaconda3\\lib\\site-packages\\pandas\\io\\parsers.py\u001b[0m in \u001b[0;36m_read\u001b[1;34m(filepath_or_buffer, kwds)\u001b[0m\n\u001b[0;32m    403\u001b[0m \u001b[1;33m\u001b[0m\u001b[0m\n\u001b[0;32m    404\u001b[0m     \u001b[1;31m# Create the parser.\u001b[0m\u001b[1;33m\u001b[0m\u001b[1;33m\u001b[0m\u001b[0m\n\u001b[1;32m--> 405\u001b[1;33m     \u001b[0mparser\u001b[0m \u001b[1;33m=\u001b[0m \u001b[0mTextFileReader\u001b[0m\u001b[1;33m(\u001b[0m\u001b[0mfilepath_or_buffer\u001b[0m\u001b[1;33m,\u001b[0m \u001b[1;33m**\u001b[0m\u001b[0mkwds\u001b[0m\u001b[1;33m)\u001b[0m\u001b[1;33m\u001b[0m\u001b[0m\n\u001b[0m\u001b[0;32m    406\u001b[0m \u001b[1;33m\u001b[0m\u001b[0m\n\u001b[0;32m    407\u001b[0m     \u001b[1;32mif\u001b[0m \u001b[0mchunksize\u001b[0m \u001b[1;32mor\u001b[0m \u001b[0miterator\u001b[0m\u001b[1;33m:\u001b[0m\u001b[1;33m\u001b[0m\u001b[0m\n",
      "\u001b[1;32m~\\Anaconda3\\lib\\site-packages\\pandas\\io\\parsers.py\u001b[0m in \u001b[0;36m__init__\u001b[1;34m(self, f, engine, **kwds)\u001b[0m\n\u001b[0;32m    762\u001b[0m             \u001b[0mself\u001b[0m\u001b[1;33m.\u001b[0m\u001b[0moptions\u001b[0m\u001b[1;33m[\u001b[0m\u001b[1;34m'has_index_names'\u001b[0m\u001b[1;33m]\u001b[0m \u001b[1;33m=\u001b[0m \u001b[0mkwds\u001b[0m\u001b[1;33m[\u001b[0m\u001b[1;34m'has_index_names'\u001b[0m\u001b[1;33m]\u001b[0m\u001b[1;33m\u001b[0m\u001b[0m\n\u001b[0;32m    763\u001b[0m \u001b[1;33m\u001b[0m\u001b[0m\n\u001b[1;32m--> 764\u001b[1;33m         \u001b[0mself\u001b[0m\u001b[1;33m.\u001b[0m\u001b[0m_make_engine\u001b[0m\u001b[1;33m(\u001b[0m\u001b[0mself\u001b[0m\u001b[1;33m.\u001b[0m\u001b[0mengine\u001b[0m\u001b[1;33m)\u001b[0m\u001b[1;33m\u001b[0m\u001b[0m\n\u001b[0m\u001b[0;32m    765\u001b[0m \u001b[1;33m\u001b[0m\u001b[0m\n\u001b[0;32m    766\u001b[0m     \u001b[1;32mdef\u001b[0m \u001b[0mclose\u001b[0m\u001b[1;33m(\u001b[0m\u001b[0mself\u001b[0m\u001b[1;33m)\u001b[0m\u001b[1;33m:\u001b[0m\u001b[1;33m\u001b[0m\u001b[0m\n",
      "\u001b[1;32m~\\Anaconda3\\lib\\site-packages\\pandas\\io\\parsers.py\u001b[0m in \u001b[0;36m_make_engine\u001b[1;34m(self, engine)\u001b[0m\n\u001b[0;32m    983\u001b[0m     \u001b[1;32mdef\u001b[0m \u001b[0m_make_engine\u001b[0m\u001b[1;33m(\u001b[0m\u001b[0mself\u001b[0m\u001b[1;33m,\u001b[0m \u001b[0mengine\u001b[0m\u001b[1;33m=\u001b[0m\u001b[1;34m'c'\u001b[0m\u001b[1;33m)\u001b[0m\u001b[1;33m:\u001b[0m\u001b[1;33m\u001b[0m\u001b[0m\n\u001b[0;32m    984\u001b[0m         \u001b[1;32mif\u001b[0m \u001b[0mengine\u001b[0m \u001b[1;33m==\u001b[0m \u001b[1;34m'c'\u001b[0m\u001b[1;33m:\u001b[0m\u001b[1;33m\u001b[0m\u001b[0m\n\u001b[1;32m--> 985\u001b[1;33m             \u001b[0mself\u001b[0m\u001b[1;33m.\u001b[0m\u001b[0m_engine\u001b[0m \u001b[1;33m=\u001b[0m \u001b[0mCParserWrapper\u001b[0m\u001b[1;33m(\u001b[0m\u001b[0mself\u001b[0m\u001b[1;33m.\u001b[0m\u001b[0mf\u001b[0m\u001b[1;33m,\u001b[0m \u001b[1;33m**\u001b[0m\u001b[0mself\u001b[0m\u001b[1;33m.\u001b[0m\u001b[0moptions\u001b[0m\u001b[1;33m)\u001b[0m\u001b[1;33m\u001b[0m\u001b[0m\n\u001b[0m\u001b[0;32m    986\u001b[0m         \u001b[1;32melse\u001b[0m\u001b[1;33m:\u001b[0m\u001b[1;33m\u001b[0m\u001b[0m\n\u001b[0;32m    987\u001b[0m             \u001b[1;32mif\u001b[0m \u001b[0mengine\u001b[0m \u001b[1;33m==\u001b[0m \u001b[1;34m'python'\u001b[0m\u001b[1;33m:\u001b[0m\u001b[1;33m\u001b[0m\u001b[0m\n",
      "\u001b[1;32m~\\Anaconda3\\lib\\site-packages\\pandas\\io\\parsers.py\u001b[0m in \u001b[0;36m__init__\u001b[1;34m(self, src, **kwds)\u001b[0m\n\u001b[0;32m   1603\u001b[0m         \u001b[0mkwds\u001b[0m\u001b[1;33m[\u001b[0m\u001b[1;34m'allow_leading_cols'\u001b[0m\u001b[1;33m]\u001b[0m \u001b[1;33m=\u001b[0m \u001b[0mself\u001b[0m\u001b[1;33m.\u001b[0m\u001b[0mindex_col\u001b[0m \u001b[1;32mis\u001b[0m \u001b[1;32mnot\u001b[0m \u001b[1;32mFalse\u001b[0m\u001b[1;33m\u001b[0m\u001b[0m\n\u001b[0;32m   1604\u001b[0m \u001b[1;33m\u001b[0m\u001b[0m\n\u001b[1;32m-> 1605\u001b[1;33m         \u001b[0mself\u001b[0m\u001b[1;33m.\u001b[0m\u001b[0m_reader\u001b[0m \u001b[1;33m=\u001b[0m \u001b[0mparsers\u001b[0m\u001b[1;33m.\u001b[0m\u001b[0mTextReader\u001b[0m\u001b[1;33m(\u001b[0m\u001b[0msrc\u001b[0m\u001b[1;33m,\u001b[0m \u001b[1;33m**\u001b[0m\u001b[0mkwds\u001b[0m\u001b[1;33m)\u001b[0m\u001b[1;33m\u001b[0m\u001b[0m\n\u001b[0m\u001b[0;32m   1606\u001b[0m \u001b[1;33m\u001b[0m\u001b[0m\n\u001b[0;32m   1607\u001b[0m         \u001b[1;31m# XXX\u001b[0m\u001b[1;33m\u001b[0m\u001b[1;33m\u001b[0m\u001b[0m\n",
      "\u001b[1;32mpandas/_libs/parsers.pyx\u001b[0m in \u001b[0;36mpandas._libs.parsers.TextReader.__cinit__ (pandas\\_libs\\parsers.c:4209)\u001b[1;34m()\u001b[0m\n",
      "\u001b[1;32mpandas/_libs/parsers.pyx\u001b[0m in \u001b[0;36mpandas._libs.parsers.TextReader._setup_parser_source (pandas\\_libs\\parsers.c:8873)\u001b[1;34m()\u001b[0m\n",
      "\u001b[1;31mFileNotFoundError\u001b[0m: File b'./data/raw/Vendas.csv' does not exist"
     ]
    }
   ],
   "source": [
    "vendas = pd.read_csv('./data/raw/Vendas.csv', sep=';')"
   ]
  },
  {
   "cell_type": "code",
   "execution_count": 106,
   "metadata": {
    "collapsed": true
   },
   "outputs": [],
   "source": [
    "vendas['DIA'] = vendas.DATA.apply(lambda x: int(x.split('.')[0]))"
   ]
  },
  {
   "cell_type": "code",
   "execution_count": 107,
   "metadata": {
    "collapsed": true
   },
   "outputs": [],
   "source": [
    "vendas['MES'] = vendas.DATA.apply(lambda x: int(x.split('.')[1]))"
   ]
  },
  {
   "cell_type": "code",
   "execution_count": 108,
   "metadata": {
    "collapsed": true
   },
   "outputs": [],
   "source": [
    "vendas['ANO'] = vendas.DATA.apply(lambda x: int(x.split('.')[2]))"
   ]
  },
  {
   "cell_type": "code",
   "execution_count": 109,
   "metadata": {
    "collapsed": true
   },
   "outputs": [],
   "source": [
    "vendas['VLR_UNIT'] = vendas.VLR_UNIT.apply(lambda x: float(x.replace(',','.')))"
   ]
  },
  {
   "cell_type": "code",
   "execution_count": 110,
   "metadata": {},
   "outputs": [
    {
     "data": {
      "text/plain": [
       "1,000          8815\n",
       "2,000          4464\n",
       "3,000          1437\n",
       "4,000           708\n",
       "5,000           338\n",
       "6,000           107\n",
       "7,000            16\n",
       "8,000            15\n",
       "10,000           13\n",
       "9,000             5\n",
       "106.320,000       1\n",
       "12,000            1\n",
       "173.413,000       1\n",
       "0,100             1\n",
       "31,000            1\n",
       "383.413,000       1\n",
       "20,000            1\n",
       "89,000            1\n",
       "Name: QUANTIDADE, dtype: int64"
      ]
     },
     "execution_count": 110,
     "metadata": {},
     "output_type": "execute_result"
    }
   ],
   "source": [
    "vendas.QUANTIDADE.value_counts()"
   ]
  },
  {
   "cell_type": "code",
   "execution_count": 111,
   "metadata": {
    "collapsed": true
   },
   "outputs": [],
   "source": [
    "vendas.replace(['383.413,000', '106.320,000', '173.413,000', '89,000', '31,000', '0,100', '20,000'], '1,000', inplace=True)"
   ]
  },
  {
   "cell_type": "code",
   "execution_count": 112,
   "metadata": {
    "collapsed": true
   },
   "outputs": [],
   "source": [
    "vendas.replace('BERMUDA DE MOLETOM TAMANHO06', 'BERMUDA DE MOLETOM TAMANHO 06', inplace=True)"
   ]
  },
  {
   "cell_type": "code",
   "execution_count": 113,
   "metadata": {
    "collapsed": true
   },
   "outputs": [],
   "source": [
    "vendas.replace('CICISTA', 'CICLISTA', inplace=True)"
   ]
  },
  {
   "cell_type": "code",
   "execution_count": 114,
   "metadata": {
    "collapsed": true
   },
   "outputs": [],
   "source": [
    "vendas.replace('TAM10', 'TAM 10', inplace=True)"
   ]
  },
  {
   "cell_type": "code",
   "execution_count": 115,
   "metadata": {
    "collapsed": true
   },
   "outputs": [],
   "source": [
    "vendas.replace('SEM TAMANHO', 'TAM ST', inplace=True)"
   ]
  },
  {
   "cell_type": "code",
   "execution_count": 116,
   "metadata": {
    "collapsed": true
   },
   "outputs": [],
   "source": [
    "vendas['QUANTIDADE'] = vendas.QUANTIDADE.apply(lambda x: float(x.replace(',','.')))"
   ]
  },
  {
   "cell_type": "code",
   "execution_count": 117,
   "metadata": {},
   "outputs": [
    {
     "data": {
      "text/html": [
       "<div>\n",
       "<style>\n",
       "    .dataframe thead tr:only-child th {\n",
       "        text-align: right;\n",
       "    }\n",
       "\n",
       "    .dataframe thead th {\n",
       "        text-align: left;\n",
       "    }\n",
       "\n",
       "    .dataframe tbody tr th {\n",
       "        vertical-align: top;\n",
       "    }\n",
       "</style>\n",
       "<table border=\"1\" class=\"dataframe\">\n",
       "  <thead>\n",
       "    <tr style=\"text-align: right;\">\n",
       "      <th></th>\n",
       "      <th>DATA</th>\n",
       "      <th>HORA</th>\n",
       "      <th>NUMERO</th>\n",
       "      <th>NOME</th>\n",
       "      <th>MATERIAL</th>\n",
       "      <th>DESCRICAO</th>\n",
       "      <th>TAMANHO</th>\n",
       "      <th>QUANTIDADE</th>\n",
       "      <th>VLR_UNIT</th>\n",
       "      <th>DIA</th>\n",
       "      <th>MES</th>\n",
       "      <th>ANO</th>\n",
       "    </tr>\n",
       "  </thead>\n",
       "  <tbody>\n",
       "    <tr>\n",
       "      <th>0</th>\n",
       "      <td>12.01.2016</td>\n",
       "      <td>14:54</td>\n",
       "      <td>11.0</td>\n",
       "      <td>VERBO DIVINO</td>\n",
       "      <td>1121</td>\n",
       "      <td>CAMISETA 1/2 MALHA MC U REF. MC1</td>\n",
       "      <td>00</td>\n",
       "      <td>7.0</td>\n",
       "      <td>35.5</td>\n",
       "      <td>12</td>\n",
       "      <td>1</td>\n",
       "      <td>2016</td>\n",
       "    </tr>\n",
       "    <tr>\n",
       "      <th>1</th>\n",
       "      <td>12.01.2016</td>\n",
       "      <td>15:08</td>\n",
       "      <td>15.0</td>\n",
       "      <td>VERBO DIVINO</td>\n",
       "      <td>198437</td>\n",
       "      <td>BERMUDA CICL COTTON U REF: BER COTTON</td>\n",
       "      <td>08</td>\n",
       "      <td>1.0</td>\n",
       "      <td>51.0</td>\n",
       "      <td>12</td>\n",
       "      <td>1</td>\n",
       "      <td>2016</td>\n",
       "    </tr>\n",
       "    <tr>\n",
       "      <th>2</th>\n",
       "      <td>12.01.2016</td>\n",
       "      <td>15:08</td>\n",
       "      <td>15.0</td>\n",
       "      <td>VERBO DIVINO</td>\n",
       "      <td>27227</td>\n",
       "      <td>CAMISETA 1/2 MALHA MC U REF: MC2</td>\n",
       "      <td>PP</td>\n",
       "      <td>5.0</td>\n",
       "      <td>37.5</td>\n",
       "      <td>12</td>\n",
       "      <td>1</td>\n",
       "      <td>2016</td>\n",
       "    </tr>\n",
       "    <tr>\n",
       "      <th>3</th>\n",
       "      <td>12.01.2016</td>\n",
       "      <td>15:27</td>\n",
       "      <td>16.0</td>\n",
       "      <td>VERBO DIVINO</td>\n",
       "      <td>157429</td>\n",
       "      <td>BLUSÃO MOL CANG COM FLAN U REF: BL 2  FLAN</td>\n",
       "      <td>M</td>\n",
       "      <td>1.0</td>\n",
       "      <td>115.0</td>\n",
       "      <td>12</td>\n",
       "      <td>1</td>\n",
       "      <td>2016</td>\n",
       "    </tr>\n",
       "    <tr>\n",
       "      <th>4</th>\n",
       "      <td>12.01.2016</td>\n",
       "      <td>15:27</td>\n",
       "      <td>16.0</td>\n",
       "      <td>VERBO DIVINO</td>\n",
       "      <td>27228</td>\n",
       "      <td>CAMISETA 1/2 MALHA MC U REF: MC2</td>\n",
       "      <td>P</td>\n",
       "      <td>5.0</td>\n",
       "      <td>37.5</td>\n",
       "      <td>12</td>\n",
       "      <td>1</td>\n",
       "      <td>2016</td>\n",
       "    </tr>\n",
       "  </tbody>\n",
       "</table>\n",
       "</div>"
      ],
      "text/plain": [
       "         DATA   HORA  NUMERO          NOME  MATERIAL  \\\n",
       "0  12.01.2016  14:54    11.0  VERBO DIVINO      1121   \n",
       "1  12.01.2016  15:08    15.0  VERBO DIVINO    198437   \n",
       "2  12.01.2016  15:08    15.0  VERBO DIVINO     27227   \n",
       "3  12.01.2016  15:27    16.0  VERBO DIVINO    157429   \n",
       "4  12.01.2016  15:27    16.0  VERBO DIVINO     27228   \n",
       "\n",
       "                                    DESCRICAO TAMANHO  QUANTIDADE  VLR_UNIT  \\\n",
       "0            CAMISETA 1/2 MALHA MC U REF. MC1      00         7.0      35.5   \n",
       "1       BERMUDA CICL COTTON U REF: BER COTTON      08         1.0      51.0   \n",
       "2            CAMISETA 1/2 MALHA MC U REF: MC2      PP         5.0      37.5   \n",
       "3  BLUSÃO MOL CANG COM FLAN U REF: BL 2  FLAN       M         1.0     115.0   \n",
       "4            CAMISETA 1/2 MALHA MC U REF: MC2       P         5.0      37.5   \n",
       "\n",
       "   DIA  MES   ANO  \n",
       "0   12    1  2016  \n",
       "1   12    1  2016  \n",
       "2   12    1  2016  \n",
       "3   12    1  2016  \n",
       "4   12    1  2016  "
      ]
     },
     "execution_count": 117,
     "metadata": {},
     "output_type": "execute_result"
    }
   ],
   "source": [
    "vendas.head()"
   ]
  },
  {
   "cell_type": "code",
   "execution_count": 118,
   "metadata": {
    "scrolled": false
   },
   "outputs": [
    {
     "name": "stderr",
     "output_type": "stream",
     "text": [
      "C:\\Users\\miche\\Anaconda3\\lib\\site-packages\\ipykernel_launcher.py:1: UserWarning:\n",
      "\n",
      "Boolean Series key will be reindexed to match DataFrame index.\n",
      "\n"
     ]
    }
   ],
   "source": [
    "vendas[vendas.ANO >= 2017] = vendas[vendas.ANO >= 2017][vendas.TAMANHO == 'UNI']"
   ]
  },
  {
   "cell_type": "code",
   "execution_count": 119,
   "metadata": {
    "collapsed": true
   },
   "outputs": [],
   "source": [
    "a = vendas[vendas.ANO < 2017].DESCRICAO"
   ]
  },
  {
   "cell_type": "code",
   "execution_count": 120,
   "metadata": {
    "collapsed": true
   },
   "outputs": [],
   "source": [
    "b = vendas[vendas.ANO >= 2017].DESCRICAO"
   ]
  },
  {
   "cell_type": "code",
   "execution_count": 121,
   "metadata": {
    "collapsed": true
   },
   "outputs": [],
   "source": [
    "b = b.apply(lambda x: ' '.join(x.split()))"
   ]
  },
  {
   "cell_type": "code",
   "execution_count": 122,
   "metadata": {},
   "outputs": [
    {
     "data": {
      "text/plain": [
       "(array([], dtype=int64),)"
      ]
     },
     "execution_count": 122,
     "metadata": {},
     "output_type": "execute_result"
    }
   ],
   "source": [
    "np.where(b == 'CAMISETA 1/2 MALHA ML U REF: ML')"
   ]
  },
  {
   "cell_type": "code",
   "execution_count": 123,
   "metadata": {
    "collapsed": true
   },
   "outputs": [],
   "source": [
    "desc = []\n",
    "tam = []\n",
    "\n",
    "for i, j in enumerate(b):\n",
    "    if 'TAM' in j:\n",
    "        desc.append(' '.join(j.split(' ')[:-2]))\n",
    "        tam.append(j.split(' ')[-1])\n",
    "    else:\n",
    "        desc.append(' '.join(j.split(' ')[:-1]))\n",
    "        tam.append(j.split(' ')[-1])"
   ]
  },
  {
   "cell_type": "code",
   "execution_count": 124,
   "metadata": {},
   "outputs": [
    {
     "name": "stderr",
     "output_type": "stream",
     "text": [
      "C:\\Users\\miche\\Anaconda3\\lib\\site-packages\\ipykernel_launcher.py:1: SettingWithCopyWarning:\n",
      "\n",
      "\n",
      "A value is trying to be set on a copy of a slice from a DataFrame\n",
      "\n",
      "See the caveats in the documentation: http://pandas.pydata.org/pandas-docs/stable/indexing.html#indexing-view-versus-copy\n",
      "\n",
      "C:\\Users\\miche\\Anaconda3\\lib\\site-packages\\ipykernel_launcher.py:2: SettingWithCopyWarning:\n",
      "\n",
      "\n",
      "A value is trying to be set on a copy of a slice from a DataFrame\n",
      "\n",
      "See the caveats in the documentation: http://pandas.pydata.org/pandas-docs/stable/indexing.html#indexing-view-versus-copy\n",
      "\n"
     ]
    }
   ],
   "source": [
    "vendas['DESCRICAO'][vendas.ANO >= 2017] = desc\n",
    "vendas['TAMANHO'][vendas.ANO >= 2017] = tam"
   ]
  },
  {
   "cell_type": "code",
   "execution_count": 125,
   "metadata": {
    "collapsed": true
   },
   "outputs": [],
   "source": [
    "vendas.replace(to_replace='CALÇA MOLETOM FEMININA LISA', value='CALÇA DE MOLETOM COLEGIAL FEMININA', inplace=True)"
   ]
  },
  {
   "cell_type": "code",
   "execution_count": 126,
   "metadata": {},
   "outputs": [
    {
     "data": {
      "text/plain": [
       "CAMISETA MANGA CURTA                  2222\n",
       "CALÇA MOLETOM UNIS.                   1050\n",
       "BERMUDA DE MOLETOM                     645\n",
       "BLUSA DE MOLETOM LISO                  639\n",
       "CAMISETA MANGA LONGA                   609\n",
       "BLUSA MOLETOM FLANELADA                472\n",
       "SHORT SAIA                             446\n",
       "CALÇA DE MOL. FLANELADA UNISSEX        340\n",
       "CORSARIO SUPLEX                        292\n",
       "CORSARIO COTTON                        248\n",
       "REGATA                                 164\n",
       "BERMUDA CICLISTA SUPLEX                161\n",
       "BERMUDA CICLISTA COTTON                160\n",
       "CALÇA DE MOLETOM FEMININA              154\n",
       "JALECO                                 135\n",
       "CAMISETA COLEGIAL MASCULINA             98\n",
       "CALÇA DE MOL. FLANELADA FEMININA        69\n",
       "CAMISETA COLEGIAL FEMININA              68\n",
       "BERMUDA SARJA MASC                      52\n",
       "CALÇA SARJA MASC                        33\n",
       "BLUSÃO COLEGIAL LISO                    22\n",
       "BLUSÃO COLEGIAL FLANELADO               20\n",
       "CORSÁRIO COLEGIAL                       18\n",
       "CALÇA DE MOLETOM COLEGIAL FEMININA      15\n",
       "BERMUDA CICLISTA COLEGIAL               12\n",
       "CALÇA MOLETON UNIS.                     12\n",
       "BERM. CICISTA COTTON                     8\n",
       "CORSÁRIO SUPPLEX                         4\n",
       "BERM. CICISTA                            2\n",
       "CALÇA DE MOL. FEMININA                   1\n",
       "Name: DESCRICAO, dtype: int64"
      ]
     },
     "execution_count": 126,
     "metadata": {},
     "output_type": "execute_result"
    }
   ],
   "source": [
    "vendas['DESCRICAO'][vendas.ANO >= 2017].value_counts()"
   ]
  },
  {
   "cell_type": "code",
   "execution_count": 127,
   "metadata": {},
   "outputs": [
    {
     "data": {
      "text/plain": [
       "CAMISETA 1/2 MALHA MC U REF. MC1                 1535\n",
       "CAMISETA 1/2 MALHA  ML U REF: ML                  707\n",
       "BERMUDA MOL SEM FLAN U REF: BER MOL 1             521\n",
       "CALÇA MOL SEM FLAN U UNISSEX REF: CML             443\n",
       "CAMISETA 1/2 MALHA MC U REF: MC2                  359\n",
       "CALÇA MOL SEM FLAN M REF: CMLM1                   338\n",
       "SHORTS SAIA F REF: SH SAIA                        327\n",
       "BLUSÃO MOL CANGURU SEM FLAN U REF: BL 1 LISO      291\n",
       "BLUSÃO MOL CANG COM FLAN U REF: BL 1 FLAN         259\n",
       "CALÇA MOL COM FLAN U UNISSEX REF: CMF             224\n",
       "BLUSÃO MOL FECH S/ FLAN U REF: BL LISO            208\n",
       "BLUSÃO MOL FECH COM FLAN U REF: BL FLAN           206\n",
       "CALÇA MOL SEM FLAN M REF: CMLM2                   188\n",
       "REGATA 1/2 MALHA U REF: REG                       183\n",
       "CALÇA FUSEAU CORSÁRIO U REF: CL COR               172\n",
       "CALÇA FUSEAU CORSÁRIO U SUP REF: CL SUP1          141\n",
       "BERMUDA CICL COTTON U REF: BER COTTON             135\n",
       "CALÇA MOL COM FLAN M REF: CMFM1                   134\n",
       "JALECO U REF: JAL                                 132\n",
       "BERMUDA CICL SUPLEX U REF: BER SUP1               124\n",
       "CALÇA FUSEAU CORSÁRIO U SUP REF: CL SUP2          115\n",
       "BERMUDA MOL SEM FLAN U REF: BER MOL 2             103\n",
       "BLUSÃO MOL CANG COM FLAN U REF: BL 2  FLAN        100\n",
       "BLUSÃO MOL CANG SEM FLAN U REF: BL 2 LISO          98\n",
       "CALÇA MOL SEM FLAN F REF: CMLF1                    94\n",
       "CAMISETA COLEGIAL M REF: MC MASC                   76\n",
       "BERMUDA CICL SUPLEX U REF: BER SUP2                64\n",
       "CALÇA MOL COM FLAN M REF: CMFM2                    63\n",
       "CALÇA MOL SEM FLAN F REF: CMLF2                    60\n",
       "BERMUDA SARJA M REF: BER SARJA                     55\n",
       "CALÇA MOL COM FLAN F REF: CMFF1                    55\n",
       "CAMISETA COLEGIAL F REF: MC FM                     54\n",
       "CALÇA SARJA M REF: CL SARJA                        51\n",
       "CALÇA CORSÁRIO COLEGIAL U SUP REF: CL COL SUP      28\n",
       "BLUSÃO COL COM FLAN U ZIPER REF: BLCF              27\n",
       "BLUSÃO COL SEM FLAN U ZIPER REF: BLCL              25\n",
       "CALÇA MOL COM FLAN F REF: CMFF2                    21\n",
       "CALÇA MOL SEM FLAN F REF: CLMLF COL                20\n",
       "BERMUDA CICL COLEGIAL U SUP REF: BER COL SUP        8\n",
       "Name: DESCRICAO, dtype: int64"
      ]
     },
     "execution_count": 127,
     "metadata": {},
     "output_type": "execute_result"
    }
   ],
   "source": [
    "vendas['DESCRICAO'][vendas.ANO <= 2016].value_counts()"
   ]
  },
  {
   "cell_type": "code",
   "execution_count": 128,
   "metadata": {
    "collapsed": true
   },
   "outputs": [],
   "source": [
    "correcao = {\n",
    "    'CAMISETA 1/2 MALHA MC U REF: MC2' : 'CAMISETA MANGA CURTA',\n",
    "    'CAMISETA 1/2 MALHA MC U REF. MC1' : 'CAMISETA MANGA CURTA',\n",
    "    'CAMISETA 1/2 MALHA  ML U REF: ML' : 'CAMISETA MANGA LONGA',\n",
    "    'BERMUDA MOL SEM FLAN U REF: BER MOL 1' : 'BERMUDA DE MOLETOM',\n",
    "    'CALÇA MOL SEM FLAN M REF: CMLM1' : 'CALÇA MOLETOM UNIS.',\n",
    "    'SHORTS SAIA F REF: SH SAIA' : 'SHORT SAIA',\n",
    "    'BLUSÃO MOL CANGURU SEM FLAN U REF: BL 1 LISO' : 'BLUSA DE MOLETOM LISO',\n",
    "    'BLUSÃO MOL CANG COM FLAN U REF: BL 1 FLAN' : 'BLUSA MOLETOM FLANELADA',\n",
    "    'CALÇA MOL COM FLAN U UNISSEX REF: CMF' : 'CALÇA DE MOL. FLANELADA UNISSEX',\n",
    "    'BLUSÃO MOL FECH S/ FLAN U REF: BL LISO ' : 'BLUSA DE MOLETOM LISO',\n",
    "    'BLUSÃO MOL FECH COM FLAN U REF: BL FLAN' : 'BLUSA MOLETOM FLANELADA',\n",
    "    'CALÇA MOL SEM FLAN M REF: CMLM2' : 'CALÇA MOLETOM UNIS.',\n",
    "    'REGATA 1/2 MALHA U REF: REG' : 'REGATA',\n",
    "    'CALÇA FUSEAU CORSÁRIO U SUP REF: CL SUP1' : 'CORSARIO SUPLEX',\n",
    "    'CALÇA FUSEAU CORSÁRIO U REF: CL COR' : 'CORSARIO COTTON',\n",
    "    'BERMUDA CICL SUPLEX U REF: BER SUP1' : 'BERMUDA CICLISTA SUPLEX',\n",
    "    'BERMUDA CICL COTTON U REF: BER COTTON' : 'BERMUDA CICLISTA COTTON',\n",
    "    'CALÇA MOL COM FLAN M REF: CMFM1' : 'CALÇA DE MOL. FLANELADA UNISSEX',\n",
    "    'JALECO U REF: JAL' : 'JALECO',\n",
    "    'CALÇA FUSEAU CORSÁRIO U SUP REF: CL SUP2' : 'CORSARIO SUPLEX',\n",
    "    'BERMUDA MOL SEM FLAN U REF: BER MOL 2' : 'BERMUDA DE MOLETOM',\n",
    "    'BLUSÃO MOL CANG COM FLAN U REF: BL 2  FLAN' : 'BLUSA MOLETOM FLANELADA',\n",
    "    'BLUSÃO MOL CANG SEM FLAN U REF: BL 2 LISO' : 'BLUSA DE MOLETOM LISO',\n",
    "    'CALÇA MOL SEM FLAN F REF: CMLF1' : 'CALÇA DE MOLETOM FEMININA',\n",
    "    'CAMISETA COLEGIAL M REF: MC MASC' : 'CAMISETA COLEGIAL MASCULINA',\n",
    "    'BERMUDA CICL SUPLEX U REF: BER SUP2' : 'BERMUDA CICLISTA SUPLEX',\n",
    "    'CALÇA MOL COM FLAN M REF: CMFM2' : 'CALÇA DE MOL. FLANELADA UNISSEX',\n",
    "    'CALÇA MOL SEM FLAN F REF: CMLF2' : 'CALÇA DE MOLETOM FEMININA',\n",
    "    'CALÇA MOL COM FLAN F REF: CMFF1' : 'CALÇA DE MOL. FLANELADA FEMININA',\n",
    "    'BERMUDA SARJA M REF: BER SARJA' : 'BERMUDA SARJA MASC',\n",
    "    'CAMISETA COLEGIAL F REF: MC FM' : 'CAMISETA COLEGIAL FEMININA',\n",
    "    'CALÇA SARJA M REF: CL SARJA' : 'CALÇA SARJA MASC',\n",
    "    'CALÇA CORSÁRIO COLEGIAL U SUP REF: CL COL SUP' : 'CORSÁRIO COLEGIAL',\n",
    "    'BLUSÃO COL COM FLAN U ZIPER REF: BLCF' : 'BLUSÃO COLEGIAL FLANELADO',\n",
    "    'BLUSÃO COL SEM FLAN U ZIPER REF: BLCL' : 'BLUSÃO COLEGIAL LISO ',\n",
    "    'CALÇA MOL COM FLAN F REF: CMFF2' : 'CALÇA DE MOL. FLANELADA FEMININA',\n",
    "    'CALÇA MOL SEM FLAN F REF: CLMLF COL' : 'CALÇA DE MOLETOM COLEGIAL FEMININA',\n",
    "    'BERMUDA CICL COLEGIAL U SUP REF: BER COL SUP' : 'BERMUDA CICLISTA COLEGIAL',\n",
    "    'BLUSÃO MOL FECH S/ FLAN U REF: BL LISO' : 'BLUSA DE MOLETOM LISO',\n",
    "    'CALÇA MOL SEM FLAN U UNISSEX REF: CML' : 'CALÇA MOLETOM UNIS.',\n",
    "}"
   ]
  },
  {
   "cell_type": "code",
   "execution_count": 129,
   "metadata": {},
   "outputs": [
    {
     "name": "stderr",
     "output_type": "stream",
     "text": [
      "C:\\Users\\miche\\Anaconda3\\lib\\site-packages\\ipykernel_launcher.py:1: SettingWithCopyWarning:\n",
      "\n",
      "\n",
      "A value is trying to be set on a copy of a slice from a DataFrame\n",
      "\n",
      "See the caveats in the documentation: http://pandas.pydata.org/pandas-docs/stable/indexing.html#indexing-view-versus-copy\n",
      "\n"
     ]
    }
   ],
   "source": [
    "vendas['DESCRICAO'][vendas.ANO < 2017] = vendas[vendas.ANO < 2017].DESCRICAO.apply(lambda x: correcao[x])"
   ]
  },
  {
   "cell_type": "code",
   "execution_count": 130,
   "metadata": {
    "collapsed": true
   },
   "outputs": [],
   "source": [
    "import MySQLdb\n",
    "import pandas as pd\n",
    "\n",
    "db_connection = MySQLdb.connect(host='mysql.pueristore.com.br', database='pueristore', user='pueristore', password='guitarra123')"
   ]
  },
  {
   "cell_type": "code",
   "execution_count": 131,
   "metadata": {
    "collapsed": true
   },
   "outputs": [],
   "source": [
    "vendas_verbo_2018 = pd.read_sql(sql='SELECT * from tbvenda JOIN tbitens_venda ON tbvenda.IdVenda = tbitens_venda.IdVenda  \\\n",
    "                                JOIN tbprodutos ON tbitens_venda.IdProduto = tbprodutos.Codigo', con=db_connection)"
   ]
  },
  {
   "cell_type": "code",
   "execution_count": 132,
   "metadata": {
    "collapsed": true
   },
   "outputs": [],
   "source": [
    "vendas_verbo_2018 = vendas_verbo_2018[['IdVenda', 'Dia', 'Vendedor', 'Unidade', 'Quantidade', 'Codigo', 'Descricao', 'Tamanho', 'Preco', 'Quantidade', 'Total']]"
   ]
  },
  {
   "cell_type": "code",
   "execution_count": 133,
   "metadata": {
    "collapsed": true
   },
   "outputs": [],
   "source": [
    "vendas_verbo_2018 = vendas_verbo_2018.loc[:,~vendas_verbo_2018.columns.duplicated()]"
   ]
  },
  {
   "cell_type": "code",
   "execution_count": 134,
   "metadata": {
    "collapsed": true
   },
   "outputs": [],
   "source": [
    "vendas_verbo_2018 = vendas_verbo_2018.sort_values(by=['IdVenda', 'Dia'])"
   ]
  },
  {
   "cell_type": "code",
   "execution_count": 135,
   "metadata": {
    "collapsed": true
   },
   "outputs": [],
   "source": [
    "vendas_verbo_2018['Mes'] = vendas_verbo_2018.Dia.apply(lambda x: x.month)\n",
    "vendas_verbo_2018['Ano'] = vendas_verbo_2018.Dia.apply(lambda x: x.year)\n",
    "vendas_verbo_2018['Hora'] = vendas_verbo_2018.Dia.apply(lambda x: str(x.hour) + ':' + str(x.minute).zfill(2))\n",
    "vendas_verbo_2018['Dia'] = vendas_verbo_2018.Dia.apply(lambda x: x.day)"
   ]
  },
  {
   "cell_type": "code",
   "execution_count": 136,
   "metadata": {
    "collapsed": true
   },
   "outputs": [],
   "source": [
    "vendas_verbo_2018 = vendas_verbo_2018[~vendas_verbo_2018.Unidade.isnull()]"
   ]
  },
  {
   "cell_type": "code",
   "execution_count": 137,
   "metadata": {
    "collapsed": true
   },
   "outputs": [],
   "source": [
    "vendas = vendas[~vendas.TAMANHO.isin(['TAM10', 'TAMANHO', 'TAM'])]"
   ]
  },
  {
   "cell_type": "code",
   "execution_count": 138,
   "metadata": {
    "collapsed": true
   },
   "outputs": [],
   "source": [
    "vendas.replace(to_replace=['BERM. CICISTA COTTON', 'CALÇA DE MOL. FEMININA', 'CALÇA MOLETOM FEMININA LISA', 'CALÇA MOLETON UNIS.'], value=['BERMUDA CICLISTA COTTON', 'CALÇA DE MOLETOM FEMININA', 'CALÇA DE MOLETOM FEMININA', 'CALÇA MOLETOM UNIS.'], inplace=True)"
   ]
  },
  {
   "cell_type": "code",
   "execution_count": 139,
   "metadata": {},
   "outputs": [
    {
     "data": {
      "text/plain": [
       "array(['', 'BERMUDA CICLISTA COLEGIAL', 'BERMUDA CICLISTA COTTON',\n",
       "       'BERMUDA CICLISTA SUPLEX', 'BERMUDA DE MOLETOM',\n",
       "       'BERMUDA SARJA MASC', 'BLUSA DE MOLETOM LISO',\n",
       "       'BLUSA MOLETOM FLANELADA', 'BLUSÃO COLEGIAL FLANELADO',\n",
       "       'BLUSÃO COLEGIAL LISO', 'BLUSÃO COLEGIAL LISO ',\n",
       "       'CALÇA DE MOL. FLANELADA FEMININA',\n",
       "       'CALÇA DE MOL. FLANELADA UNISSEX',\n",
       "       'CALÇA DE MOLETOM COLEGIAL FEMININA', 'CALÇA DE MOLETOM FEMININA',\n",
       "       'CALÇA MOLETOM UNIS.', 'CALÇA SARJA MASC',\n",
       "       'CAMISETA COLEGIAL FEMININA', 'CAMISETA COLEGIAL MASCULINA',\n",
       "       'CAMISETA MANGA CURTA', 'CAMISETA MANGA LONGA', 'CORSARIO COTTON',\n",
       "       'CORSARIO SUPLEX', 'CORSÁRIO COLEGIAL', 'CORSÁRIO SUPPLEX',\n",
       "       'JALECO', 'REGATA', 'SHORT SAIA'], dtype=object)"
      ]
     },
     "execution_count": 139,
     "metadata": {},
     "output_type": "execute_result"
    }
   ],
   "source": [
    "np.unique(vendas.DESCRICAO.fillna(''))"
   ]
  },
  {
   "cell_type": "code",
   "execution_count": 140,
   "metadata": {
    "collapsed": true
   },
   "outputs": [],
   "source": [
    "dict_2 = {\n",
    "    'BERMUDA CICLISTA COTTON' : 'BERMUDA CICLISTA COTTON',\n",
    "    'BERMUDA CICLISTA SUPLEX' : 'BERMUDA CICLISTA SUPLEX',\n",
    "    'BERMUDA MOLETOM LISO' : 'BERMUDA DE MOLETOM',\n",
    "    'BERMUDA SARJA  ' : 'BERMUDA SARJA MASC',\n",
    "    'BLUSAO COLEGIAL COM FLANELA' : 'BLUSÃO COLEGIAL FLANELADO',\n",
    "    'BLUSAO COLEGIAL LISO' : 'BLUSÃO COLEGIAL LISO ',\n",
    "    'BLUSAO MOLETOM COM FLANELA' : 'BLUSA MOLETOM FLANELADA',\n",
    "    'BLUSAO MOLETOM LISO' : 'BLUSA DE MOLETOM LISO',\n",
    "    'CALÇA CORSARIO COLEGIAL' : 'CORSÁRIO COLEGIAL',\n",
    "    'CALÇA CORSARIO COTTON' : 'CORSARIO COTTON',\n",
    "    'CALÇA CORSARIO SUPLEX' : 'CORSÁRIO SUPLEX',\n",
    "    'CALÇA MOLETOM COLEGIAL FEMININO' : 'CALÇA DE MOLETOM COLEGIAL FEMININA',\n",
    "    'CALÇA MOLETOM COM FLANELA' : 'CALÇA DE MOL. FLANELADA UNISSEX',\n",
    "    'CALÇA MOLETOM COM FLANELA FEMININO' : 'CALÇA DE MOL. FLANELADA FEMININA',\n",
    "    'CALÇA MOLETOM COM FLANELA MASCULINO' : 'CALÇA DE MOL. FLANELADA UNISSEX',\n",
    "    'CALÇA MOLETOM LISO' : 'CALÇA MOLETOM UNIS.',\n",
    "    'CALÇA MOLETOM LISO FEMININO' : 'CALÇA DE MOLETOM FEMININA',\n",
    "    'CALÇA SARJA  ' : 'CALÇA SARJA MASC',\n",
    "    'CAMISETA  COLEGIAL FEMININO' : 'CAMISETA COLEGIAL FEMININA',\n",
    "    'CAMISETA  COLEGIAL MASCULINO' : 'CAMISETA COLEGIAL MASCULINA',\n",
    "    'CAMISETA MC  ' : 'CAMISETA MANGA CURTA',\n",
    "    'CAMISETA ML  ' : 'CAMISETA MANGA LONGA',\n",
    "    'JALECO    ' : 'JALECO',\n",
    "    'REGATA    ' : 'REGATA',\n",
    "    'SHORT SAIA  ' : 'SHORT SAIA',\n",
    "}"
   ]
  },
  {
   "cell_type": "code",
   "execution_count": 141,
   "metadata": {
    "collapsed": true
   },
   "outputs": [],
   "source": [
    "vendas_verbo_2018['Descricao'] = vendas_verbo_2018.Descricao.apply(lambda x: dict_2[x])"
   ]
  },
  {
   "cell_type": "code",
   "execution_count": 143,
   "metadata": {
    "collapsed": true
   },
   "outputs": [],
   "source": [
    "vendas_verbo_2018.Unidade = vendas_verbo_2018.Unidade.apply(lambda s: s.upper())"
   ]
  },
  {
   "cell_type": "code",
   "execution_count": 144,
   "metadata": {
    "collapsed": true
   },
   "outputs": [],
   "source": [
    "vendas.drop(['NUMERO', 'DATA', 'MATERIAL'], 1, inplace=True)"
   ]
  },
  {
   "cell_type": "code",
   "execution_count": 146,
   "metadata": {
    "collapsed": true
   },
   "outputs": [],
   "source": [
    "vendas2 = pd.DataFrame({\n",
    "    'HORA' :  vendas_verbo_2018.Hora,\n",
    "    'NOME' :  vendas_verbo_2018.Unidade,\n",
    "    'DESCRICAO' :  vendas_verbo_2018.Descricao,\n",
    "    'TAMANHO' :  vendas_verbo_2018.Tamanho,\n",
    "    'QUANTIDADE' :  vendas_verbo_2018.Quantidade.astype(float),\n",
    "    'VLR_UNIT' :  vendas_verbo_2018.Preco / vendas_verbo_2018.Quantidade.astype(float),\n",
    "    'DIA' :  vendas_verbo_2018.Dia.astype(float),\n",
    "    'MES' :  vendas_verbo_2018.Mes.astype(float),\n",
    "    'ANO' :  vendas_verbo_2018.Ano.astype(float),\n",
    "})"
   ]
  },
  {
   "cell_type": "code",
   "execution_count": 147,
   "metadata": {
    "collapsed": true
   },
   "outputs": [],
   "source": [
    "vendas = vendas.append(vendas2, ignore_index=True)"
   ]
  },
  {
   "cell_type": "code",
   "execution_count": 148,
   "metadata": {
    "collapsed": true
   },
   "outputs": [],
   "source": [
    "vendas = vendas.sort_values(by=['ANO', 'MES', 'DIA', 'HORA', 'DESCRICAO', 'TAMANHO'])"
   ]
  },
  {
   "cell_type": "code",
   "execution_count": 150,
   "metadata": {
    "collapsed": true
   },
   "outputs": [],
   "source": [
    "vendas = vendas[~vendas.isnull().all(axis=1)]"
   ]
  },
  {
   "cell_type": "code",
   "execution_count": 151,
   "metadata": {
    "collapsed": true
   },
   "outputs": [],
   "source": [
    "vendas = vendas[vendas.NOME != 'CENTRAL']"
   ]
  },
  {
   "cell_type": "code",
   "execution_count": 101,
   "metadata": {
    "collapsed": true
   },
   "outputs": [],
   "source": [
    "vendas.to_csv('./data/interim/Vendas_arrumada.csv', index=False)"
   ]
  },
  {
   "cell_type": "code",
   "execution_count": 102,
   "metadata": {
    "collapsed": true
   },
   "outputs": [],
   "source": [
    "vendas_verbo_2018.to_csv('./data/interim/Vendas_verbo_2018.csv', index=False)"
   ]
  },
  {
   "cell_type": "code",
   "execution_count": 103,
   "metadata": {},
   "outputs": [
    {
     "data": {
      "text/plain": [
       "CAMISETA MANGA CURTA                  896\n",
       "CALÇA MOLETOM UNIS.                   288\n",
       "BLUSA DE MOLETOM LISO                 251\n",
       "BERMUDA DE MOLETOM                    247\n",
       "CAMISETA MANGA LONGA                  208\n",
       "CALÇA DE MOL. FLANELADA UNISSEX       169\n",
       "BLUSA MOLETOM FLANELADA               155\n",
       "SHORT SAIA                            122\n",
       "CORSÁRIO SUPLEX                       102\n",
       "CORSARIO COTTON                        72\n",
       "JALECO                                 64\n",
       "BERMUDA CICLISTA COTTON                54\n",
       "BERMUDA CICLISTA SUPLEX                52\n",
       "REGATA                                 51\n",
       "CALÇA DE MOLETOM FEMININA              43\n",
       "CALÇA DE MOL. FLANELADA FEMININA       24\n",
       "CAMISETA COLEGIAL MASCULINA            17\n",
       "CAMISETA COLEGIAL FEMININA             16\n",
       "CORSÁRIO COLEGIAL                      11\n",
       "BERMUDA SARJA MASC                      7\n",
       "CALÇA SARJA MASC                        5\n",
       "BLUSÃO COLEGIAL FLANELADO               4\n",
       "CALÇA DE MOLETOM COLEGIAL FEMININA      2\n",
       "BLUSÃO COLEGIAL LISO                    2\n",
       "Name: Descricao, dtype: int64"
      ]
     },
     "execution_count": 103,
     "metadata": {},
     "output_type": "execute_result"
    }
   ],
   "source": [
    "vendas_verbo_2018.Descricao.value_counts()"
   ]
  },
  {
   "cell_type": "code",
   "execution_count": null,
   "metadata": {
    "collapsed": true
   },
   "outputs": [],
   "source": []
  }
 ],
 "metadata": {
  "kernelspec": {
   "display_name": "Python 3",
   "language": "python",
   "name": "python3"
  },
  "language_info": {
   "codemirror_mode": {
    "name": "ipython",
    "version": 3
   },
   "file_extension": ".py",
   "mimetype": "text/x-python",
   "name": "python",
   "nbconvert_exporter": "python",
   "pygments_lexer": "ipython3",
   "version": "3.6.3"
  }
 },
 "nbformat": 4,
 "nbformat_minor": 2
}
