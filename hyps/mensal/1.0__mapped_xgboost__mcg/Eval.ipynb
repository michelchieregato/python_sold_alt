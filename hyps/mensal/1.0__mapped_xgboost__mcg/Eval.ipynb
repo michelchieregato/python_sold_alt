{
 "cells": [
  {
   "cell_type": "code",
   "execution_count": 6,
   "metadata": {},
   "outputs": [
    {
     "data": {
      "text/html": [
       "<script>requirejs.config({paths: { 'plotly': ['https://cdn.plot.ly/plotly-latest.min']},});if(!window.Plotly) {{require(['plotly'],function(plotly) {window.Plotly=plotly;});}}</script>"
      ],
      "text/vnd.plotly.v1+html": [
       "<script>requirejs.config({paths: { 'plotly': ['https://cdn.plot.ly/plotly-latest.min']},});if(!window.Plotly) {{require(['plotly'],function(plotly) {window.Plotly=plotly;});}}</script>"
      ]
     },
     "metadata": {},
     "output_type": "display_data"
    }
   ],
   "source": [
    "import pandas as pd\n",
    "import numpy as np\n",
    "\n",
    "from ipywidgets import interact, fixed\n",
    "from sklearn.metrics import mean_squared_error\n",
    "\n",
    "from plotly.offline import download_plotlyjs, init_notebook_mode, plot, iplot\n",
    "import plotly.graph_objs as go\n",
    "import plotly.figure_factory as ff\n",
    "init_notebook_mode(connected=True)"
   ]
  },
  {
   "cell_type": "code",
   "execution_count": 7,
   "metadata": {
    "collapsed": true
   },
   "outputs": [],
   "source": [
    "def round_thresh(x, t):\n",
    "    if x % 1 > t:\n",
    "        return np.ceil(x)\n",
    "    else:\n",
    "        return np.floor(x)\n",
    "\n",
    "def rsme(y1, y2):\n",
    "    return np.sqrt(mean_squared_error(y1, y2))"
   ]
  },
  {
   "cell_type": "code",
   "execution_count": 21,
   "metadata": {
    "collapsed": true
   },
   "outputs": [],
   "source": [
    "respostas = pd.read_csv('./results/validacao.csv', encoding = \"ISO-8859-1\")"
   ]
  },
  {
   "cell_type": "code",
   "execution_count": 67,
   "metadata": {},
   "outputs": [],
   "source": [
    "erro_ano_passado = rsme(respostas.QUANTIDADE, respostas.LAST_YEAR)\n",
    "erro_2_ano = rsme(respostas.QUANTIDADE, respostas.LAST_YEAR_2)\n",
    "erro_media_dos_anos = rsme(respostas.QUANTIDADE, np.round(respostas.LAST_YEAR_MEAN))\n",
    "erro_preds_all = rsme(respostas.QUANTIDADE, respostas.preds_all)\n",
    "erro_preds_retrain = rsme(respostas.QUANTIDADE, np.round(respostas.preds_retrain))\n",
    "erro_mes = rsme(respostas.QUANTIDADE, respostas.LAST_MONTH)"
   ]
  },
  {
   "cell_type": "code",
   "execution_count": 68,
   "metadata": {},
   "outputs": [
    {
     "data": {
      "text/plain": [
       "(4.0871165332366743, 4.789359042926411)"
      ]
     },
     "execution_count": 68,
     "metadata": {},
     "output_type": "execute_result"
    }
   ],
   "source": [
    "erro_preds_retrain, erro_media_dos_anos"
   ]
  },
  {
   "cell_type": "markdown",
   "metadata": {},
   "source": [
    "## Comparação entre erros"
   ]
  },
  {
   "cell_type": "code",
   "execution_count": 93,
   "metadata": {
    "collapsed": true
   },
   "outputs": [],
   "source": [
    "def plot_erros(erros, nomes):\n",
    "        \n",
    "    trace1 = go.Scatter(\n",
    "        x=nomes,\n",
    "        y=erros,\n",
    "        name='Erros das previsões 2018',\n",
    "        text=np.round(erros, 2),\n",
    "#         textposition = 'auto',\n",
    "        marker=dict(\n",
    "            sizemode = 'diameter',\n",
    "            sizeref = 2,\n",
    "            size = 30,\n",
    "            color=erros,\n",
    "            colorscale='Portland',\n",
    "            showscale=False,\n",
    "            reversescale = True\n",
    "            ),\n",
    "        mode='markers',\n",
    "    )\n",
    "\n",
    "    data = [trace1]\n",
    "\n",
    "    layout = dict(title='Erros das previsões 2018', showlegend=False)\n",
    "\n",
    "    fig = go.Figure(data=data, layout=layout)\n",
    "    iplot(fig)"
   ]
  },
  {
   "cell_type": "code",
   "execution_count": 94,
   "metadata": {},
   "outputs": [
    {
     "data": {
      "application/vnd.plotly.v1+json": {
       "data": [
        {
         "marker": {
          "color": [
           5.6950639981669795,
           6.140015447460847,
           4.789359042926411,
           4.2449427071194705,
           4.087116533236674
          ],
          "colorscale": "Portland",
          "reversescale": true,
          "showscale": false,
          "size": 30,
          "sizemode": "diameter",
          "sizeref": 2
         },
         "mode": "markers",
         "name": "Erros das previsões 2018",
         "text": [
          5.7,
          6.14,
          4.79,
          4.24,
          4.09
         ],
         "type": "scatter",
         "x": [
          "Ano passado",
          "2 anos atrás",
          "Média dos anos",
          "Previsão no começo do ano",
          "Previsão de mês em mês"
         ],
         "y": [
          5.6950639981669795,
          6.140015447460847,
          4.789359042926411,
          4.2449427071194705,
          4.087116533236674
         ]
        }
       ],
       "layout": {
        "showlegend": false,
        "title": "Erros das previsões 2018"
       }
      },
      "text/html": [
       "<div id=\"42017cf4-bae9-40a1-aef9-f16cfd92fd9b\" style=\"height: 525px; width: 100%;\" class=\"plotly-graph-div\"></div><script type=\"text/javascript\">require([\"plotly\"], function(Plotly) { window.PLOTLYENV=window.PLOTLYENV || {};window.PLOTLYENV.BASE_URL=\"https://plot.ly\";Plotly.newPlot(\"42017cf4-bae9-40a1-aef9-f16cfd92fd9b\", [{\"type\": \"scatter\", \"x\": [\"Ano passado\", \"2 anos atr\\u00e1s\", \"M\\u00e9dia dos anos\", \"Previs\\u00e3o no come\\u00e7o do ano\", \"Previs\\u00e3o de m\\u00eas em m\\u00eas\"], \"y\": [5.6950639981669795, 6.140015447460847, 4.789359042926411, 4.2449427071194705, 4.087116533236674], \"name\": \"Erros das previs\\u00f5es 2018\", \"text\": [5.7, 6.14, 4.79, 4.24, 4.09], \"marker\": {\"sizemode\": \"diameter\", \"sizeref\": 2, \"size\": 30, \"color\": [5.6950639981669795, 6.140015447460847, 4.789359042926411, 4.2449427071194705, 4.087116533236674], \"colorscale\": \"Portland\", \"showscale\": false, \"reversescale\": true}, \"mode\": \"markers\"}], {\"title\": \"Erros das previs\\u00f5es 2018\", \"showlegend\": false}, {\"showLink\": true, \"linkText\": \"Export to plot.ly\"})});</script>"
      ],
      "text/vnd.plotly.v1+html": [
       "<div id=\"42017cf4-bae9-40a1-aef9-f16cfd92fd9b\" style=\"height: 525px; width: 100%;\" class=\"plotly-graph-div\"></div><script type=\"text/javascript\">require([\"plotly\"], function(Plotly) { window.PLOTLYENV=window.PLOTLYENV || {};window.PLOTLYENV.BASE_URL=\"https://plot.ly\";Plotly.newPlot(\"42017cf4-bae9-40a1-aef9-f16cfd92fd9b\", [{\"type\": \"scatter\", \"x\": [\"Ano passado\", \"2 anos atr\\u00e1s\", \"M\\u00e9dia dos anos\", \"Previs\\u00e3o no come\\u00e7o do ano\", \"Previs\\u00e3o de m\\u00eas em m\\u00eas\"], \"y\": [5.6950639981669795, 6.140015447460847, 4.789359042926411, 4.2449427071194705, 4.087116533236674], \"name\": \"Erros das previs\\u00f5es 2018\", \"text\": [5.7, 6.14, 4.79, 4.24, 4.09], \"marker\": {\"sizemode\": \"diameter\", \"sizeref\": 2, \"size\": 30, \"color\": [5.6950639981669795, 6.140015447460847, 4.789359042926411, 4.2449427071194705, 4.087116533236674], \"colorscale\": \"Portland\", \"showscale\": false, \"reversescale\": true}, \"mode\": \"markers\"}], {\"title\": \"Erros das previs\\u00f5es 2018\", \"showlegend\": false}, {\"showLink\": true, \"linkText\": \"Export to plot.ly\"})});</script>"
      ]
     },
     "metadata": {},
     "output_type": "display_data"
    }
   ],
   "source": [
    "plot_erros([erro_ano_passado, erro_2_ano, erro_media_dos_anos, erro_preds_all, erro_preds_retrain], ['Ano passado', '2 anos atrás', 'Média dos anos', 'Previsão no começo do ano', 'Previsão de mês em mês'])"
   ]
  },
  {
   "cell_type": "code",
   "execution_count": 41,
   "metadata": {},
   "outputs": [
    {
     "data": {
      "text/plain": [
       "(0.14478925751540517, 0.28343456800395328)"
      ]
     },
     "execution_count": 41,
     "metadata": {},
     "output_type": "execute_result"
    }
   ],
   "source": [
    "1 - erro_preds_retrain / erro_media_dos_anos, 1 - erro_preds_retrain / erro_ano_passado"
   ]
  },
  {
   "cell_type": "markdown",
   "metadata": {},
   "source": [
    "#### Ouve uma melhoria aproximada de 28% na predições se comparado ao método antigo usado, e de aproximadamente 14% se comparado com a comparação entre a média do histórico de vendas"
   ]
  },
  {
   "cell_type": "code",
   "execution_count": 136,
   "metadata": {},
   "outputs": [],
   "source": [
    "def plot_erros(df, produto):\n",
    "    \n",
    "#     total = df[df.DESCRICAO == produto][respostas.TAMANHO == tamanho].groupby(['MES', 'ANO', 'DESCRICAO', 'PRECO_PRODUTO']).sum()\n",
    "    total = df[df.DESCRICAO == produto].groupby(['MES', 'ANO', 'DESCRICAO', 'PRECO_PRODUTO']).sum()\n",
    "\n",
    "    meses = ['Jan/18', 'Fev/18', 'Março/18', 'Abril/18', 'Maio/18']\n",
    "    \n",
    "    trace1 = go.Scatter(\n",
    "        x=meses,\n",
    "        y=total.QUANTIDADE,\n",
    "        name='Real',\n",
    "        marker=dict(\n",
    "            color='black'\n",
    "            ),\n",
    "        opacity=0.6\n",
    "    )\n",
    "    \n",
    "    trace2 = go.Scatter(\n",
    "        x=meses,\n",
    "        y=np.round((total.preds_retrain + total.preds_all)/2),\n",
    "        name='Machine Learning - Pred',\n",
    "        marker=dict(\n",
    "            color='green'\n",
    "            ),\n",
    "        opacity=0.6,\n",
    "        mode='line',\n",
    "        line = dict(dash = 'dot')\n",
    "    )\n",
    "    \n",
    "    trace3 = go.Scatter(\n",
    "        x=meses,\n",
    "        y=np.round(total.LAST_YEAR),\n",
    "        name='Historical data',\n",
    "        marker=dict(\n",
    "            color='red'\n",
    "            ),\n",
    "        opacity=0.6,\n",
    "        line = dict(dash = 'dot')\n",
    "    )\n",
    "\n",
    "    data = [trace1, trace2, trace3]\n",
    "\n",
    "    layout = dict(title='Erros das previsões por produto', showlegend=True)\n",
    "\n",
    "    fig = go.Figure(data=data, layout=layout)\n",
    "    iplot(fig)"
   ]
  },
  {
   "cell_type": "code",
   "execution_count": 137,
   "metadata": {},
   "outputs": [
    {
     "data": {
      "application/vnd.plotly.v1+json": {
       "data": [
        {
         "marker": {
          "color": "black"
         },
         "name": "Real",
         "opacity": 0.6,
         "type": "scatter",
         "x": [
          "Jan/18",
          "Fev/18",
          "Março/18",
          "Abril/18",
          "Maio/18"
         ],
         "y": [
          108,
          42,
          16,
          19,
          20
         ]
        },
        {
         "line": {
          "dash": "dot"
         },
         "marker": {
          "color": "green"
         },
         "mode": "line",
         "name": "Machine Learning - Pred",
         "opacity": 0.6,
         "type": "scatter",
         "x": [
          "Jan/18",
          "Fev/18",
          "Março/18",
          "Abril/18",
          "Maio/18"
         ],
         "y": [
          120,
          39,
          28,
          5,
          7
         ]
        },
        {
         "line": {
          "dash": "dot"
         },
         "marker": {
          "color": "red"
         },
         "name": "Historical data",
         "opacity": 0.6,
         "type": "scatter",
         "x": [
          "Jan/18",
          "Fev/18",
          "Março/18",
          "Abril/18",
          "Maio/18"
         ],
         "y": [
          137,
          53,
          32,
          6,
          3
         ]
        }
       ],
       "layout": {
        "showlegend": true,
        "title": "Erros das previsões por produto"
       }
      },
      "text/html": [
       "<div id=\"4863f868-1128-400f-9643-f96868ac2cd0\" style=\"height: 525px; width: 100%;\" class=\"plotly-graph-div\"></div><script type=\"text/javascript\">require([\"plotly\"], function(Plotly) { window.PLOTLYENV=window.PLOTLYENV || {};window.PLOTLYENV.BASE_URL=\"https://plot.ly\";Plotly.newPlot(\"4863f868-1128-400f-9643-f96868ac2cd0\", [{\"type\": \"scatter\", \"x\": [\"Jan/18\", \"Fev/18\", \"Mar\\u00e7o/18\", \"Abril/18\", \"Maio/18\"], \"y\": [108.0, 42.0, 16.0, 19.0, 20.0], \"name\": \"Real\", \"marker\": {\"color\": \"black\"}, \"opacity\": 0.6}, {\"type\": \"scatter\", \"x\": [\"Jan/18\", \"Fev/18\", \"Mar\\u00e7o/18\", \"Abril/18\", \"Maio/18\"], \"y\": [120.0, 39.0, 28.0, 5.0, 7.0], \"name\": \"Machine Learning - Pred\", \"marker\": {\"color\": \"green\"}, \"opacity\": 0.6, \"mode\": \"line\", \"line\": {\"dash\": \"dot\"}}, {\"type\": \"scatter\", \"x\": [\"Jan/18\", \"Fev/18\", \"Mar\\u00e7o/18\", \"Abril/18\", \"Maio/18\"], \"y\": [137.0, 53.0, 32.0, 6.0, 3.0], \"name\": \"Historical data\", \"marker\": {\"color\": \"red\"}, \"opacity\": 0.6, \"line\": {\"dash\": \"dot\"}}], {\"title\": \"Erros das previs\\u00f5es por produto\", \"showlegend\": true}, {\"showLink\": true, \"linkText\": \"Export to plot.ly\"})});</script>"
      ],
      "text/vnd.plotly.v1+html": [
       "<div id=\"4863f868-1128-400f-9643-f96868ac2cd0\" style=\"height: 525px; width: 100%;\" class=\"plotly-graph-div\"></div><script type=\"text/javascript\">require([\"plotly\"], function(Plotly) { window.PLOTLYENV=window.PLOTLYENV || {};window.PLOTLYENV.BASE_URL=\"https://plot.ly\";Plotly.newPlot(\"4863f868-1128-400f-9643-f96868ac2cd0\", [{\"type\": \"scatter\", \"x\": [\"Jan/18\", \"Fev/18\", \"Mar\\u00e7o/18\", \"Abril/18\", \"Maio/18\"], \"y\": [108.0, 42.0, 16.0, 19.0, 20.0], \"name\": \"Real\", \"marker\": {\"color\": \"black\"}, \"opacity\": 0.6}, {\"type\": \"scatter\", \"x\": [\"Jan/18\", \"Fev/18\", \"Mar\\u00e7o/18\", \"Abril/18\", \"Maio/18\"], \"y\": [120.0, 39.0, 28.0, 5.0, 7.0], \"name\": \"Machine Learning - Pred\", \"marker\": {\"color\": \"green\"}, \"opacity\": 0.6, \"mode\": \"line\", \"line\": {\"dash\": \"dot\"}}, {\"type\": \"scatter\", \"x\": [\"Jan/18\", \"Fev/18\", \"Mar\\u00e7o/18\", \"Abril/18\", \"Maio/18\"], \"y\": [137.0, 53.0, 32.0, 6.0, 3.0], \"name\": \"Historical data\", \"marker\": {\"color\": \"red\"}, \"opacity\": 0.6, \"line\": {\"dash\": \"dot\"}}], {\"title\": \"Erros das previs\\u00f5es por produto\", \"showlegend\": true}, {\"showLink\": true, \"linkText\": \"Export to plot.ly\"})});</script>"
      ]
     },
     "metadata": {},
     "output_type": "display_data"
    }
   ],
   "source": [
    "plot_erros(respostas, 'CORSARIO SUPLEX')\n",
    "# interact(plot_erros, df=fixed(respostas), produto=pd.unique(respostas.DESCRICAO))"
   ]
  },
  {
   "cell_type": "code",
   "execution_count": 291,
   "metadata": {},
   "outputs": [],
   "source": [
    "soma = respostas.groupby(['DESCRICAO', 'MES', 'TAMANHO', 'PRECO_PRODUTO']).sum().reset_index()"
   ]
  },
  {
   "cell_type": "code",
   "execution_count": 292,
   "metadata": {},
   "outputs": [],
   "source": [
    "soma['LAST_YEAR'] = soma.LAST_YEAR.apply(np.round)\n",
    "soma['preds_retrain'] = soma.preds_retrain.apply(np.round)"
   ]
  },
  {
   "cell_type": "code",
   "execution_count": 293,
   "metadata": {},
   "outputs": [],
   "source": [
    "soma['DIFERENCA_LAST_YEAR'] = soma['LAST_YEAR'] - soma['QUANTIDADE']\n",
    "soma['DIFERENCA_PREDS'] = soma['preds_retrain'] - soma['QUANTIDADE']"
   ]
  },
  {
   "cell_type": "code",
   "execution_count": 297,
   "metadata": {},
   "outputs": [],
   "source": [
    "soma['VALOR_PREDS'] = soma.PRECO_PRODUTO * soma.DIFERENCA_PREDS\n",
    "soma['VALOR_LAST_YEAR'] = soma.PRECO_PRODUTO * soma.DIFERENCA_LAST_YEAR"
   ]
  },
  {
   "cell_type": "code",
   "execution_count": 304,
   "metadata": {},
   "outputs": [],
   "source": [
    "em_estoque_pred = soma['VALOR_PREDS'][soma.VALOR_PREDS > 0 ].sum()\n",
    "em_estoque_ultimo = soma['VALOR_LAST_YEAR'][soma.VALOR_LAST_YEAR > 0 ].sum()\n",
    "deixou_de_vender_pred = soma['VALOR_PREDS'][soma.VALOR_PREDS < 0 ].sum()\n",
    "deixou_de_vender_ultimo = soma['VALOR_LAST_YEAR'][soma.VALOR_LAST_YEAR < 0 ].sum()"
   ]
  },
  {
   "cell_type": "code",
   "execution_count": 330,
   "metadata": {},
   "outputs": [],
   "source": [
    "trace1 = go.Bar(\n",
    "        y=[em_estoque_ultimo, em_estoque_pred],\n",
    "        x=['Ultimo Ano', 'Previsão'],\n",
    "        name='Real',\n",
    "        marker=dict(\n",
    "            color='green'\n",
    "            ),\n",
    "    )\n",
    "\n",
    "trace2 = go.Bar(\n",
    "        y=[deixou_de_vender_ultimo, deixou_de_vender_pred],\n",
    "        x=['Ultimo Ano', 'Previsão'],\n",
    "        name='Real',\n",
    "        marker=dict(\n",
    "            color='red'\n",
    "            ),\n",
    "    )"
   ]
  },
  {
   "cell_type": "code",
   "execution_count": 332,
   "metadata": {},
   "outputs": [
    {
     "data": {
      "application/vnd.plotly.v1+json": {
       "data": [
        {
         "marker": {
          "color": "green"
         },
         "name": "Real",
         "type": "bar",
         "x": [
          "Ultimo Ano",
          "Previsão"
         ],
         "y": [
          128293.5,
          106352
         ]
        },
        {
         "marker": {
          "color": "red"
         },
         "name": "Real",
         "type": "bar",
         "x": [
          "Ultimo Ano",
          "Previsão"
         ],
         "y": [
          -125792,
          -100488.5
         ]
        }
       ],
       "layout": {
        "title": "Melhoria Financeira da previsão"
       }
      },
      "text/html": [
       "<div id=\"c6849361-d625-4c3c-bef6-060b9c11d4cc\" style=\"height: 525px; width: 100%;\" class=\"plotly-graph-div\"></div><script type=\"text/javascript\">require([\"plotly\"], function(Plotly) { window.PLOTLYENV=window.PLOTLYENV || {};window.PLOTLYENV.BASE_URL=\"https://plot.ly\";Plotly.newPlot(\"c6849361-d625-4c3c-bef6-060b9c11d4cc\", [{\"type\": \"bar\", \"y\": [128293.5, 106352.0], \"x\": [\"Ultimo Ano\", \"Previs\\u00e3o\"], \"name\": \"Real\", \"marker\": {\"color\": \"green\"}}, {\"type\": \"bar\", \"y\": [-125792.0, -100488.5], \"x\": [\"Ultimo Ano\", \"Previs\\u00e3o\"], \"name\": \"Real\", \"marker\": {\"color\": \"red\"}}], {\"title\": \"Melhoria Financeira da previs\\u00e3o\"}, {\"showLink\": true, \"linkText\": \"Export to plot.ly\"})});</script>"
      ],
      "text/vnd.plotly.v1+html": [
       "<div id=\"c6849361-d625-4c3c-bef6-060b9c11d4cc\" style=\"height: 525px; width: 100%;\" class=\"plotly-graph-div\"></div><script type=\"text/javascript\">require([\"plotly\"], function(Plotly) { window.PLOTLYENV=window.PLOTLYENV || {};window.PLOTLYENV.BASE_URL=\"https://plot.ly\";Plotly.newPlot(\"c6849361-d625-4c3c-bef6-060b9c11d4cc\", [{\"type\": \"bar\", \"y\": [128293.5, 106352.0], \"x\": [\"Ultimo Ano\", \"Previs\\u00e3o\"], \"name\": \"Real\", \"marker\": {\"color\": \"green\"}}, {\"type\": \"bar\", \"y\": [-125792.0, -100488.5], \"x\": [\"Ultimo Ano\", \"Previs\\u00e3o\"], \"name\": \"Real\", \"marker\": {\"color\": \"red\"}}], {\"title\": \"Melhoria Financeira da previs\\u00e3o\"}, {\"showLink\": true, \"linkText\": \"Export to plot.ly\"})});</script>"
      ]
     },
     "metadata": {},
     "output_type": "display_data"
    }
   ],
   "source": [
    "fig = go.Figure(data=[trace1, trace2], layout={'title':\"Melhoria Financeira da previsão\"})\n",
    "iplot(fig)"
   ]
  },
  {
   "cell_type": "code",
   "execution_count": 339,
   "metadata": {},
   "outputs": [
    {
     "name": "stdout",
     "output_type": "stream",
     "text": [
      "R$ 25303.5 a menos parado em estoque\n",
      "Economia de  20.12 %\n"
     ]
    }
   ],
   "source": [
    "print(\"R$\", deixou_de_vender_pred - deixou_de_vender_ultimo, \"a menos parado em estoque\")\n",
    "print(\"Economia de \", np.round(100*(1 - deixou_de_vender_pred / deixou_de_vender_ultimo),2), \"%\")"
   ]
  },
  {
   "cell_type": "code",
   "execution_count": 344,
   "metadata": {},
   "outputs": [
    {
     "name": "stdout",
     "output_type": "stream",
     "text": [
      "R$ -21941.5  a mais de venda devido a falta de estoque\n",
      "Melhoria de  17.1 %\n"
     ]
    }
   ],
   "source": [
    "print(\"R$\", em_estoque_pred - em_estoque_ultimo, \" a mais de venda devido a falta de estoque\")\n",
    "print(\"Melhoria de \", np.round(100*(1 - em_estoque_pred / em_estoque_ultimo),2), \"%\")"
   ]
  },
  {
   "cell_type": "code",
   "execution_count": null,
   "metadata": {
    "collapsed": true
   },
   "outputs": [],
   "source": []
  }
 ],
 "metadata": {
  "kernelspec": {
   "display_name": "Python 3",
   "language": "python",
   "name": "python3"
  },
  "language_info": {
   "codemirror_mode": {
    "name": "ipython",
    "version": 3
   },
   "file_extension": ".py",
   "mimetype": "text/x-python",
   "name": "python",
   "nbconvert_exporter": "python",
   "pygments_lexer": "ipython3",
   "version": "3.6.3"
  }
 },
 "nbformat": 4,
 "nbformat_minor": 2
}
