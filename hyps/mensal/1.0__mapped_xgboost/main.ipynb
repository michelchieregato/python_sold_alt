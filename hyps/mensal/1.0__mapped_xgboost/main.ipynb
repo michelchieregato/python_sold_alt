{
 "cells": [
  {
   "cell_type": "code",
   "execution_count": 238,
   "metadata": {
    "collapsed": true
   },
   "outputs": [],
   "source": [
    "import pandas as pd\n",
    "import numpy as np\n",
    "from sklearn.preprocessing import LabelEncoder\n",
    "from sklearn.metrics import mean_squared_error\n",
    "from tqdm import tqdm, tqdm_notebook\n",
    "import warnings\n",
    "warnings.filterwarnings('ignore')"
   ]
  },
  {
   "cell_type": "code",
   "execution_count": 136,
   "metadata": {
    "collapsed": true
   },
   "outputs": [],
   "source": [
    "vendas = pd.read_csv('../../../data/interim/Vendas.csv', encoding = \"ISO-8859-1\")"
   ]
  },
  {
   "cell_type": "code",
   "execution_count": 137,
   "metadata": {
    "collapsed": true
   },
   "outputs": [],
   "source": [
    "vendas = vendas.replace(['ST', 'CORSÁRIO SUPLEX', 'ESP', 'ESPECIAL'], ['00','CORSARIO SUPLEX', 'GG', 'GG'])"
   ]
  },
  {
   "cell_type": "code",
   "execution_count": 138,
   "metadata": {
    "collapsed": true
   },
   "outputs": [],
   "source": [
    "vendas['DATE_BLOCK'] = LabelEncoder().fit_transform(vendas.ANO.apply(str) + vendas.MES.apply(lambda x: str(x).zfill(5)))"
   ]
  },
  {
   "cell_type": "markdown",
   "metadata": {},
   "source": [
    "### Fazer as vendas mensais "
   ]
  },
  {
   "cell_type": "code",
   "execution_count": 139,
   "metadata": {
    "collapsed": true
   },
   "outputs": [],
   "source": [
    "a = vendas.groupby(['ANO', 'MES', 'DESCRICAO', 'NOME', 'TAMANHO', 'DATE_BLOCK'])"
   ]
  },
  {
   "cell_type": "code",
   "execution_count": 140,
   "metadata": {
    "collapsed": true
   },
   "outputs": [],
   "source": [
    "df = a.sum().reset_index().drop(['DIA', 'VLR_UNIT'], 1)\n",
    "df = df.sort_values(by=['ANO','MES', 'DESCRICAO', 'TAMANHO', 'NOME'])"
   ]
  },
  {
   "cell_type": "code",
   "execution_count": 141,
   "metadata": {},
   "outputs": [
    {
     "data": {
      "text/html": [
       "<div>\n",
       "<style>\n",
       "    .dataframe thead tr:only-child th {\n",
       "        text-align: right;\n",
       "    }\n",
       "\n",
       "    .dataframe thead th {\n",
       "        text-align: left;\n",
       "    }\n",
       "\n",
       "    .dataframe tbody tr th {\n",
       "        vertical-align: top;\n",
       "    }\n",
       "</style>\n",
       "<table border=\"1\" class=\"dataframe\">\n",
       "  <thead>\n",
       "    <tr style=\"text-align: right;\">\n",
       "      <th></th>\n",
       "      <th>ANO</th>\n",
       "      <th>MES</th>\n",
       "      <th>DESCRICAO</th>\n",
       "      <th>NOME</th>\n",
       "      <th>TAMANHO</th>\n",
       "      <th>DATE_BLOCK</th>\n",
       "      <th>QUANTIDADE</th>\n",
       "    </tr>\n",
       "  </thead>\n",
       "  <tbody>\n",
       "    <tr>\n",
       "      <th>4399</th>\n",
       "      <td>2018.0</td>\n",
       "      <td>1.0</td>\n",
       "      <td>BERMUDA CICLISTA COTTON</td>\n",
       "      <td>ALDEIA DA SERRA</td>\n",
       "      <td>02</td>\n",
       "      <td>24</td>\n",
       "      <td>1.0</td>\n",
       "    </tr>\n",
       "    <tr>\n",
       "      <th>4402</th>\n",
       "      <td>2018.0</td>\n",
       "      <td>1.0</td>\n",
       "      <td>BERMUDA CICLISTA COTTON</td>\n",
       "      <td>VERBO DIVINO</td>\n",
       "      <td>02</td>\n",
       "      <td>24</td>\n",
       "      <td>3.0</td>\n",
       "    </tr>\n",
       "    <tr>\n",
       "      <th>4396</th>\n",
       "      <td>2018.0</td>\n",
       "      <td>1.0</td>\n",
       "      <td>BERMUDA CICLISTA COTTON</td>\n",
       "      <td>ACLIMAÇÃO</td>\n",
       "      <td>04</td>\n",
       "      <td>24</td>\n",
       "      <td>8.0</td>\n",
       "    </tr>\n",
       "    <tr>\n",
       "      <th>4400</th>\n",
       "      <td>2018.0</td>\n",
       "      <td>1.0</td>\n",
       "      <td>BERMUDA CICLISTA COTTON</td>\n",
       "      <td>ALDEIA DA SERRA</td>\n",
       "      <td>04</td>\n",
       "      <td>24</td>\n",
       "      <td>1.0</td>\n",
       "    </tr>\n",
       "    <tr>\n",
       "      <th>4403</th>\n",
       "      <td>2018.0</td>\n",
       "      <td>1.0</td>\n",
       "      <td>BERMUDA CICLISTA COTTON</td>\n",
       "      <td>VERBO DIVINO</td>\n",
       "      <td>04</td>\n",
       "      <td>24</td>\n",
       "      <td>13.0</td>\n",
       "    </tr>\n",
       "  </tbody>\n",
       "</table>\n",
       "</div>"
      ],
      "text/plain": [
       "         ANO  MES                DESCRICAO             NOME TAMANHO  \\\n",
       "4399  2018.0  1.0  BERMUDA CICLISTA COTTON  ALDEIA DA SERRA      02   \n",
       "4402  2018.0  1.0  BERMUDA CICLISTA COTTON     VERBO DIVINO      02   \n",
       "4396  2018.0  1.0  BERMUDA CICLISTA COTTON        ACLIMAÇÃO      04   \n",
       "4400  2018.0  1.0  BERMUDA CICLISTA COTTON  ALDEIA DA SERRA      04   \n",
       "4403  2018.0  1.0  BERMUDA CICLISTA COTTON     VERBO DIVINO      04   \n",
       "\n",
       "      DATE_BLOCK  QUANTIDADE  \n",
       "4399          24         1.0  \n",
       "4402          24         3.0  \n",
       "4396          24         8.0  \n",
       "4400          24         1.0  \n",
       "4403          24        13.0  "
      ]
     },
     "execution_count": 141,
     "metadata": {},
     "output_type": "execute_result"
    }
   ],
   "source": [
    "df[df.ANO == 2018].head()"
   ]
  },
  {
   "cell_type": "code",
   "execution_count": 178,
   "metadata": {},
   "outputs": [
    {
     "data": {
      "text/plain": [
       "(670, 32)"
      ]
     },
     "execution_count": 178,
     "metadata": {},
     "output_type": "execute_result"
    }
   ],
   "source": [
    "df_piv.shape"
   ]
  },
  {
   "cell_type": "code",
   "execution_count": 191,
   "metadata": {},
   "outputs": [
    {
     "ename": "ValueError",
     "evalue": "cannot reshape array of size 21440 into shape (3,18760)",
     "output_type": "error",
     "traceback": [
      "\u001b[1;31m---------------------------------------------------------------------------\u001b[0m",
      "\u001b[1;31mValueError\u001b[0m                                Traceback (most recent call last)",
      "\u001b[1;32m<ipython-input-191-9bb758d3dd87>\u001b[0m in \u001b[0;36m<module>\u001b[1;34m()\u001b[0m\n\u001b[1;32m----> 1\u001b[1;33m \u001b[0mdf_piv\u001b[0m\u001b[1;33m.\u001b[0m\u001b[0mvalues\u001b[0m\u001b[1;33m.\u001b[0m\u001b[0mreshape\u001b[0m\u001b[1;33m(\u001b[0m\u001b[1;36m3\u001b[0m\u001b[1;33m,\u001b[0m \u001b[0mlen\u001b[0m\u001b[1;33m(\u001b[0m\u001b[0mdf_piv\u001b[0m\u001b[1;33m)\u001b[0m \u001b[1;33m*\u001b[0m \u001b[1;36m28\u001b[0m\u001b[1;33m)\u001b[0m\u001b[1;33m\u001b[0m\u001b[0m\n\u001b[0m",
      "\u001b[1;31mValueError\u001b[0m: cannot reshape array of size 21440 into shape (3,18760)"
     ]
    }
   ],
   "source": [
    "df_piv.values.reshape(3, len(df_piv) * 28)"
   ]
  },
  {
   "cell_type": "code",
   "execution_count": 156,
   "metadata": {},
   "outputs": [],
   "source": [
    "df_piv = df.pivot_table(index=['DESCRICAO', 'NOME', 'TAMANHO'], columns=['DATE_BLOCK'], \n",
    "                            values='QUANTIDADE',aggfunc='sum', dropna=True).fillna(0).reset_index()"
   ]
  },
  {
   "cell_type": "code",
   "execution_count": 201,
   "metadata": {
    "collapsed": true
   },
   "outputs": [],
   "source": [
    "from itertools import permutations, combinations, product"
   ]
  },
  {
   "cell_type": "code",
   "execution_count": 218,
   "metadata": {},
   "outputs": [],
   "source": [
    "a = dict(enumerate(product([2016, 2017, 2018], [i for i in range(1,13)])))"
   ]
  },
  {
   "cell_type": "code",
   "execution_count": 240,
   "metadata": {},
   "outputs": [
    {
     "name": "stderr",
     "output_type": "stream",
     "text": [
      "\r",
      "  0%|                                                                                          | 0/670 [00:00<?, ?it/s]"
     ]
    },
    {
     "name": "stdout",
     "output_type": "stream",
     "text": [
      "(58, 6)\n",
      "(87, 6)\n",
      "(116, 6)\n",
      "(145, 6)\n",
      "(174, 6)\n",
      "(203, 6)\n",
      "(232, 6)\n",
      "(261, 6)\n",
      "(290, 6)\n",
      "(319, 6)\n",
      "(348, 6)\n",
      "(377, 6)\n",
      "(406, 6)\n",
      "(435, 6)\n"
     ]
    },
    {
     "name": "stderr",
     "output_type": "stream",
     "text": [
      "\r",
      "  2%|█▊                                                                              | 15/670 [00:00<00:05, 130.08it/s]"
     ]
    },
    {
     "name": "stdout",
     "output_type": "stream",
     "text": [
      "(464, 6)\n",
      "(493, 6)\n",
      "(522, 6)\n",
      "(551, 6)\n",
      "(580, 6)\n",
      "(609, 6)\n",
      "(638, 6)\n",
      "(667, 6)\n",
      "(696, 6)\n",
      "(725, 6)\n",
      "(754, 6)\n",
      "(783, 6)\n"
     ]
    },
    {
     "name": "stderr",
     "output_type": "stream",
     "text": [
      "\r",
      "  4%|███▏                                                                            | 27/670 [00:00<00:05, 121.85it/s]"
     ]
    },
    {
     "name": "stdout",
     "output_type": "stream",
     "text": [
      "(812, 6)\n",
      "(841, 6)\n",
      "(870, 6)\n",
      "(899, 6)\n",
      "(928, 6)\n",
      "(957, 6)\n",
      "(986, 6)\n",
      "(1015, 6)\n",
      "(1044, 6)\n",
      "(1073, 6)\n",
      "(1102, 6)\n"
     ]
    },
    {
     "name": "stderr",
     "output_type": "stream",
     "text": [
      "\r",
      "  6%|████▌                                                                           | 38/670 [00:00<00:05, 115.90it/s]"
     ]
    },
    {
     "name": "stdout",
     "output_type": "stream",
     "text": [
      "(1131, 6)\n",
      "(1160, 6)\n",
      "(1189, 6)\n",
      "(1218, 6)\n",
      "(1247, 6)\n",
      "(1276, 6)\n",
      "(1305, 6)\n",
      "(1334, 6)\n",
      "(1363, 6)\n",
      "(1392, 6)\n",
      "(1421, 6)\n"
     ]
    },
    {
     "name": "stderr",
     "output_type": "stream",
     "text": [
      "\r",
      "  7%|█████▊                                                                          | 49/670 [00:00<00:05, 113.03it/s]"
     ]
    },
    {
     "name": "stdout",
     "output_type": "stream",
     "text": [
      "(1450, 6)\n",
      "(1479, 6)\n",
      "(1508, 6)\n",
      "(1537, 6)\n",
      "(1566, 6)\n",
      "(1595, 6)\n",
      "(1624, 6)\n",
      "(1653, 6)\n",
      "(1682, 6)\n",
      "(1711, 6)\n",
      "(1740, 6)\n",
      "(1769, 6)\n"
     ]
    },
    {
     "name": "stderr",
     "output_type": "stream",
     "text": [
      "\r",
      "  9%|███████▎                                                                        | 61/670 [00:00<00:05, 114.14it/s]"
     ]
    },
    {
     "name": "stdout",
     "output_type": "stream",
     "text": [
      "(1798, 6)\n",
      "(1827, 6)\n",
      "(1856, 6)\n",
      "(1885, 6)\n",
      "(1914, 6)\n",
      "(1943, 6)\n",
      "(1972, 6)\n",
      "(2001, 6)\n",
      "(2030, 6)\n",
      "(2059, 6)\n",
      "(2088, 6)\n",
      "(2117, 6)\n"
     ]
    },
    {
     "name": "stderr",
     "output_type": "stream",
     "text": [
      "\r",
      " 11%|████████▋                                                                       | 73/670 [00:00<00:05, 114.12it/s]"
     ]
    },
    {
     "name": "stdout",
     "output_type": "stream",
     "text": [
      "(2146, 6)\n",
      "(2175, 6)\n",
      "(2204, 6)\n",
      "(2233, 6)\n",
      "(2262, 6)\n",
      "(2291, 6)\n",
      "(2320, 6)\n",
      "(2349, 6)\n",
      "(2378, 6)\n",
      "(2407, 6)\n",
      "(2436, 6)\n",
      "(2465, 6)\n"
     ]
    },
    {
     "name": "stderr",
     "output_type": "stream",
     "text": [
      "\r",
      " 13%|██████████▏                                                                     | 85/670 [00:00<00:05, 113.75it/s]"
     ]
    },
    {
     "name": "stdout",
     "output_type": "stream",
     "text": [
      "(2494, 6)\n",
      "(2523, 6)\n",
      "(2552, 6)\n",
      "(2581, 6)\n",
      "(2610, 6)\n",
      "(2639, 6)\n",
      "(2668, 6)\n",
      "(2697, 6)\n",
      "(2726, 6)\n",
      "(2755, 6)\n",
      "(2784, 6)\n",
      "(2813, 6)\n"
     ]
    },
    {
     "name": "stderr",
     "output_type": "stream",
     "text": [
      "\r",
      " 14%|███████████▌                                                                    | 97/670 [00:00<00:05, 113.68it/s]"
     ]
    },
    {
     "name": "stdout",
     "output_type": "stream",
     "text": [
      "(2842, 6)\n",
      "(2871, 6)\n",
      "(2900, 6)\n",
      "(2929, 6)\n",
      "(2958, 6)\n",
      "(2987, 6)\n",
      "(3016, 6)\n",
      "(3045, 6)\n",
      "(3074, 6)\n",
      "(3103, 6)\n",
      "(3132, 6)\n",
      "(3161, 6)\n"
     ]
    },
    {
     "name": "stderr",
     "output_type": "stream",
     "text": [
      "\r",
      " 16%|████████████▊                                                                  | 109/670 [00:00<00:04, 113.48it/s]"
     ]
    },
    {
     "name": "stdout",
     "output_type": "stream",
     "text": [
      "(3190, 6)\n",
      "(3219, 6)\n",
      "(3248, 6)\n",
      "(3277, 6)\n",
      "(3306, 6)\n",
      "(3335, 6)\n",
      "(3364, 6)\n",
      "(3393, 6)\n",
      "(3422, 6)\n",
      "(3451, 6)\n",
      "(3480, 6)\n",
      "(3509, 6)\n"
     ]
    },
    {
     "name": "stderr",
     "output_type": "stream",
     "text": [
      "\r",
      " 18%|██████████████▎                                                                | 121/670 [00:01<00:04, 113.53it/s]"
     ]
    },
    {
     "name": "stdout",
     "output_type": "stream",
     "text": [
      "(3538, 6)\n",
      "(3567, 6)\n",
      "(3596, 6)\n",
      "(3625, 6)\n",
      "(3654, 6)\n",
      "(3683, 6)\n",
      "(3712, 6)\n",
      "(3741, 6)\n",
      "(3770, 6)\n",
      "(3799, 6)\n",
      "(3828, 6)\n"
     ]
    },
    {
     "name": "stderr",
     "output_type": "stream",
     "text": [
      "\r",
      " 20%|███████████████▌                                                               | 132/670 [00:01<00:04, 111.10it/s]"
     ]
    },
    {
     "name": "stdout",
     "output_type": "stream",
     "text": [
      "(3857, 6)\n",
      "(3886, 6)\n",
      "(3915, 6)\n",
      "(3944, 6)\n",
      "(3973, 6)\n",
      "(4002, 6)\n",
      "(4031, 6)\n",
      "(4060, 6)\n",
      "(4089, 6)\n",
      "(4118, 6)\n",
      "(4147, 6)\n"
     ]
    },
    {
     "name": "stderr",
     "output_type": "stream",
     "text": [
      "\r",
      " 21%|████████████████▊                                                              | 143/670 [00:01<00:04, 109.37it/s]"
     ]
    },
    {
     "name": "stdout",
     "output_type": "stream",
     "text": [
      "(4176, 6)\n",
      "(4205, 6)\n",
      "(4234, 6)\n",
      "(4263, 6)\n",
      "(4292, 6)\n",
      "(4321, 6)\n",
      "(4350, 6)\n",
      "(4379, 6)\n",
      "(4408, 6)\n",
      "(4437, 6)\n",
      "(4466, 6)\n"
     ]
    },
    {
     "name": "stderr",
     "output_type": "stream",
     "text": [
      "\r",
      " 23%|██████████████████▏                                                            | 154/670 [00:01<00:04, 107.33it/s]"
     ]
    },
    {
     "name": "stdout",
     "output_type": "stream",
     "text": [
      "(4495, 6)\n",
      "(4524, 6)\n",
      "(4553, 6)\n",
      "(4582, 6)\n",
      "(4611, 6)\n",
      "(4640, 6)\n",
      "(4669, 6)\n",
      "(4698, 6)\n",
      "(4727, 6)\n",
      "(4756, 6)\n"
     ]
    },
    {
     "name": "stderr",
     "output_type": "stream",
     "text": [
      "\r",
      " 24%|███████████████████▎                                                           | 164/670 [00:01<00:04, 105.78it/s]"
     ]
    },
    {
     "name": "stdout",
     "output_type": "stream",
     "text": [
      "(4785, 6)\n",
      "(4814, 6)\n",
      "(4843, 6)\n",
      "(4872, 6)\n",
      "(4901, 6)\n",
      "(4930, 6)\n",
      "(4959, 6)\n",
      "(4988, 6)\n",
      "(5017, 6)\n",
      "(5046, 6)\n"
     ]
    },
    {
     "name": "stderr",
     "output_type": "stream",
     "text": [
      "\r",
      " 26%|████████████████████▌                                                          | 174/670 [00:01<00:04, 104.91it/s]"
     ]
    },
    {
     "name": "stdout",
     "output_type": "stream",
     "text": [
      "(5075, 6)\n",
      "(5104, 6)\n",
      "(5133, 6)\n",
      "(5162, 6)\n",
      "(5191, 6)\n",
      "(5220, 6)\n",
      "(5249, 6)\n",
      "(5278, 6)\n",
      "(5307, 6)\n",
      "(5336, 6)\n"
     ]
    },
    {
     "name": "stderr",
     "output_type": "stream",
     "text": [
      "\r",
      " 27%|█████████████████████▋                                                         | 184/670 [00:01<00:04, 104.31it/s]"
     ]
    },
    {
     "name": "stdout",
     "output_type": "stream",
     "text": [
      "(5365, 6)\n",
      "(5394, 6)\n",
      "(5423, 6)\n",
      "(5452, 6)\n",
      "(5481, 6)\n",
      "(5510, 6)\n",
      "(5539, 6)\n",
      "(5568, 6)\n",
      "(5597, 6)\n",
      "(5626, 6)\n"
     ]
    },
    {
     "name": "stderr",
     "output_type": "stream",
     "text": [
      "\r",
      " 29%|██████████████████████▊                                                        | 194/670 [00:01<00:04, 103.47it/s]"
     ]
    },
    {
     "name": "stdout",
     "output_type": "stream",
     "text": [
      "(5655, 6)\n",
      "(5684, 6)\n",
      "(5713, 6)\n",
      "(5742, 6)\n",
      "(5771, 6)\n",
      "(5800, 6)\n",
      "(5829, 6)\n",
      "(5858, 6)\n",
      "(5887, 6)\n",
      "(5916, 6)\n"
     ]
    },
    {
     "name": "stderr",
     "output_type": "stream",
     "text": [
      "\r",
      " 30%|████████████████████████                                                       | 204/670 [00:01<00:04, 102.54it/s]"
     ]
    },
    {
     "name": "stdout",
     "output_type": "stream",
     "text": [
      "(5945, 6)\n",
      "(5974, 6)\n",
      "(6003, 6)\n",
      "(6032, 6)\n",
      "(6061, 6)\n",
      "(6090, 6)\n",
      "(6119, 6)\n",
      "(6148, 6)\n",
      "(6177, 6)\n",
      "(6206, 6)\n"
     ]
    },
    {
     "name": "stderr",
     "output_type": "stream",
     "text": [
      "\r",
      " 32%|█████████████████████████▏                                                     | 214/670 [00:02<00:04, 101.68it/s]"
     ]
    },
    {
     "name": "stdout",
     "output_type": "stream",
     "text": [
      "(6235, 6)\n",
      "(6264, 6)\n",
      "(6293, 6)\n",
      "(6322, 6)\n",
      "(6351, 6)\n",
      "(6380, 6)\n",
      "(6409, 6)\n",
      "(6438, 6)\n",
      "(6467, 6)\n"
     ]
    },
    {
     "name": "stderr",
     "output_type": "stream",
     "text": [
      "\r",
      " 33%|██████████████████████████▎                                                    | 223/670 [00:02<00:04, 100.96it/s]"
     ]
    },
    {
     "name": "stdout",
     "output_type": "stream",
     "text": [
      "(6496, 6)\n",
      "(6525, 6)\n",
      "(6554, 6)\n",
      "(6583, 6)\n",
      "(6612, 6)\n",
      "(6641, 6)\n",
      "(6670, 6)\n",
      "(6699, 6)\n",
      "(6728, 6)\n"
     ]
    },
    {
     "name": "stderr",
     "output_type": "stream",
     "text": [
      "\r",
      " 35%|███████████████████████████▎                                                   | 232/670 [00:02<00:04, 100.04it/s]"
     ]
    },
    {
     "name": "stdout",
     "output_type": "stream",
     "text": [
      "(6757, 6)\n",
      "(6786, 6)\n",
      "(6815, 6)\n",
      "(6844, 6)\n",
      "(6873, 6)\n",
      "(6902, 6)\n",
      "(6931, 6)\n",
      "(6960, 6)\n",
      "(6989, 6)\n"
     ]
    },
    {
     "name": "stderr",
     "output_type": "stream",
     "text": [
      "\r",
      " 36%|████████████████████████████▊                                                   | 241/670 [00:02<00:04, 98.87it/s]"
     ]
    },
    {
     "name": "stdout",
     "output_type": "stream",
     "text": [
      "(7018, 6)\n",
      "(7047, 6)\n",
      "(7076, 6)\n",
      "(7105, 6)\n",
      "(7134, 6)\n",
      "(7163, 6)\n",
      "(7192, 6)\n",
      "(7221, 6)\n",
      "(7250, 6)\n"
     ]
    },
    {
     "name": "stderr",
     "output_type": "stream",
     "text": [
      "\r",
      " 37%|█████████████████████████████▊                                                  | 250/670 [00:02<00:04, 96.98it/s]"
     ]
    },
    {
     "name": "stdout",
     "output_type": "stream",
     "text": [
      "(7279, 6)\n",
      "(7308, 6)\n",
      "(7337, 6)\n",
      "(7366, 6)\n",
      "(7395, 6)\n",
      "(7424, 6)\n",
      "(7453, 6)\n",
      "(7482, 6)\n"
     ]
    },
    {
     "name": "stderr",
     "output_type": "stream",
     "text": [
      "\r",
      " 39%|██████████████████████████████▊                                                 | 258/670 [00:02<00:04, 95.57it/s]"
     ]
    },
    {
     "name": "stdout",
     "output_type": "stream",
     "text": [
      "(7511, 6)\n",
      "(7540, 6)\n",
      "(7569, 6)\n",
      "(7598, 6)\n",
      "(7627, 6)\n",
      "(7656, 6)\n",
      "(7685, 6)\n",
      "(7714, 6)\n",
      "(7743, 6)\n"
     ]
    },
    {
     "name": "stderr",
     "output_type": "stream",
     "text": [
      "\r",
      " 40%|███████████████████████████████▉                                                | 267/670 [00:02<00:04, 95.21it/s]"
     ]
    },
    {
     "name": "stdout",
     "output_type": "stream",
     "text": [
      "(7772, 6)\n",
      "(7801, 6)\n",
      "(7830, 6)\n",
      "(7859, 6)\n",
      "(7888, 6)\n",
      "(7917, 6)\n",
      "(7946, 6)\n",
      "(7975, 6)\n"
     ]
    },
    {
     "name": "stderr",
     "output_type": "stream",
     "text": [
      "\r",
      " 41%|████████████████████████████████▊                                               | 275/670 [00:02<00:04, 94.38it/s]"
     ]
    },
    {
     "name": "stdout",
     "output_type": "stream",
     "text": [
      "(8004, 6)\n",
      "(8033, 6)\n",
      "(8062, 6)\n",
      "(8091, 6)\n",
      "(8120, 6)\n",
      "(8149, 6)\n",
      "(8178, 6)\n",
      "(8207, 6)\n"
     ]
    },
    {
     "name": "stderr",
     "output_type": "stream",
     "text": [
      "\r",
      " 42%|█████████████████████████████████▊                                              | 283/670 [00:03<00:04, 92.80it/s]"
     ]
    },
    {
     "name": "stdout",
     "output_type": "stream",
     "text": [
      "(8236, 6)\n",
      "(8265, 6)\n",
      "(8294, 6)\n",
      "(8323, 6)\n",
      "(8352, 6)\n",
      "(8381, 6)\n",
      "(8410, 6)\n",
      "(8439, 6)\n"
     ]
    },
    {
     "name": "stderr",
     "output_type": "stream",
     "text": [
      "\r",
      " 43%|██████████████████████████████████▋                                             | 291/670 [00:03<00:04, 91.11it/s]"
     ]
    },
    {
     "name": "stdout",
     "output_type": "stream",
     "text": [
      "(8468, 6)\n",
      "(8497, 6)\n",
      "(8526, 6)\n",
      "(8555, 6)\n",
      "(8584, 6)\n",
      "(8613, 6)\n",
      "(8642, 6)\n"
     ]
    },
    {
     "name": "stderr",
     "output_type": "stream",
     "text": [
      "\r",
      " 44%|███████████████████████████████████▌                                            | 298/670 [00:03<00:04, 90.06it/s]"
     ]
    },
    {
     "name": "stdout",
     "output_type": "stream",
     "text": [
      "(8671, 6)\n",
      "(8700, 6)\n",
      "(8729, 6)\n",
      "(8758, 6)\n",
      "(8787, 6)\n",
      "(8816, 6)\n",
      "(8845, 6)\n"
     ]
    },
    {
     "name": "stderr",
     "output_type": "stream",
     "text": [
      "\r",
      " 46%|████████████████████████████████████▍                                           | 305/670 [00:03<00:04, 88.84it/s]"
     ]
    },
    {
     "name": "stdout",
     "output_type": "stream",
     "text": [
      "(8874, 6)\n",
      "(8903, 6)\n",
      "(8932, 6)\n",
      "(8961, 6)\n",
      "(8990, 6)\n",
      "(9019, 6)\n",
      "(9048, 6)\n"
     ]
    },
    {
     "name": "stderr",
     "output_type": "stream",
     "text": [
      "\r",
      " 47%|█████████████████████████████████████▎                                          | 312/670 [00:03<00:04, 88.28it/s]"
     ]
    },
    {
     "name": "stdout",
     "output_type": "stream",
     "text": [
      "(9077, 6)\n",
      "(9106, 6)\n",
      "(9135, 6)\n",
      "(9164, 6)\n",
      "(9193, 6)\n",
      "(9222, 6)\n",
      "(9251, 6)\n"
     ]
    },
    {
     "name": "stderr",
     "output_type": "stream",
     "text": [
      "\r",
      " 48%|██████████████████████████████████████                                          | 319/670 [00:03<00:04, 87.36it/s]"
     ]
    },
    {
     "name": "stdout",
     "output_type": "stream",
     "text": [
      "(9280, 6)\n",
      "(9309, 6)\n",
      "(9338, 6)\n",
      "(9367, 6)\n",
      "(9396, 6)\n",
      "(9425, 6)\n",
      "(9454, 6)\n"
     ]
    },
    {
     "name": "stderr",
     "output_type": "stream",
     "text": [
      "\r",
      " 49%|██████████████████████████████████████▉                                         | 326/670 [00:03<00:03, 86.56it/s]"
     ]
    },
    {
     "name": "stdout",
     "output_type": "stream",
     "text": [
      "(9483, 6)\n",
      "(9512, 6)\n",
      "(9541, 6)\n",
      "(9570, 6)\n",
      "(9599, 6)\n",
      "(9628, 6)\n",
      "(9657, 6)\n"
     ]
    },
    {
     "name": "stderr",
     "output_type": "stream",
     "text": [
      "\r",
      " 50%|███████████████████████████████████████▊                                        | 333/670 [00:03<00:03, 86.12it/s]"
     ]
    },
    {
     "name": "stdout",
     "output_type": "stream",
     "text": [
      "(9686, 6)\n",
      "(9715, 6)\n",
      "(9744, 6)\n",
      "(9773, 6)\n",
      "(9802, 6)\n",
      "(9831, 6)\n",
      "(9860, 6)\n"
     ]
    },
    {
     "name": "stderr",
     "output_type": "stream",
     "text": [
      "\r",
      " 51%|████████████████████████████████████████▌                                       | 340/670 [00:03<00:03, 85.30it/s]"
     ]
    },
    {
     "name": "stdout",
     "output_type": "stream",
     "text": [
      "(9889, 6)\n",
      "(9918, 6)\n",
      "(9947, 6)\n",
      "(9976, 6)\n",
      "(10005, 6)\n",
      "(10034, 6)\n",
      "(10063, 6)\n"
     ]
    },
    {
     "name": "stderr",
     "output_type": "stream",
     "text": [
      "\r",
      " 52%|█████████████████████████████████████████▍                                      | 347/670 [00:04<00:03, 84.64it/s]"
     ]
    },
    {
     "name": "stdout",
     "output_type": "stream",
     "text": [
      "(10092, 6)\n",
      "(10121, 6)\n",
      "(10150, 6)\n",
      "(10179, 6)\n",
      "(10208, 6)\n",
      "(10237, 6)\n",
      "(10266, 6)\n"
     ]
    },
    {
     "name": "stderr",
     "output_type": "stream",
     "text": [
      "\r",
      " 53%|██████████████████████████████████████████▎                                     | 354/670 [00:04<00:03, 84.04it/s]"
     ]
    },
    {
     "name": "stdout",
     "output_type": "stream",
     "text": [
      "(10295, 6)\n",
      "(10324, 6)\n",
      "(10353, 6)\n",
      "(10382, 6)\n",
      "(10411, 6)\n",
      "(10440, 6)\n",
      "(10469, 6)\n"
     ]
    },
    {
     "name": "stderr",
     "output_type": "stream",
     "text": [
      "\r",
      " 54%|███████████████████████████████████████████                                     | 361/670 [00:04<00:03, 83.13it/s]"
     ]
    },
    {
     "name": "stdout",
     "output_type": "stream",
     "text": [
      "(10498, 6)\n",
      "(10527, 6)\n",
      "(10556, 6)\n",
      "(10585, 6)\n",
      "(10614, 6)\n",
      "(10643, 6)\n",
      "(10672, 6)\n"
     ]
    },
    {
     "name": "stderr",
     "output_type": "stream",
     "text": [
      "\r",
      " 55%|███████████████████████████████████████████▉                                    | 368/670 [00:04<00:03, 82.56it/s]"
     ]
    },
    {
     "name": "stdout",
     "output_type": "stream",
     "text": [
      "(10701, 6)\n",
      "(10730, 6)\n",
      "(10759, 6)\n",
      "(10788, 6)\n",
      "(10817, 6)\n",
      "(10846, 6)\n",
      "(10875, 6)\n"
     ]
    },
    {
     "name": "stderr",
     "output_type": "stream",
     "text": [
      "\r",
      " 56%|████████████████████████████████████████████▊                                   | 375/670 [00:04<00:03, 82.00it/s]"
     ]
    },
    {
     "name": "stdout",
     "output_type": "stream",
     "text": [
      "(10904, 6)\n",
      "(10933, 6)\n",
      "(10962, 6)\n",
      "(10991, 6)\n",
      "(11020, 6)\n",
      "(11049, 6)\n",
      "(11078, 6)\n"
     ]
    },
    {
     "name": "stderr",
     "output_type": "stream",
     "text": [
      "\r",
      " 57%|█████████████████████████████████████████████▌                                  | 382/670 [00:04<00:03, 81.35it/s]"
     ]
    },
    {
     "name": "stdout",
     "output_type": "stream",
     "text": [
      "(11107, 6)\n",
      "(11136, 6)\n",
      "(11165, 6)\n",
      "(11194, 6)\n",
      "(11223, 6)\n",
      "(11252, 6)\n"
     ]
    },
    {
     "name": "stderr",
     "output_type": "stream",
     "text": [
      "\r",
      " 58%|██████████████████████████████████████████████▎                                 | 388/670 [00:04<00:03, 80.90it/s]"
     ]
    },
    {
     "name": "stdout",
     "output_type": "stream",
     "text": [
      "(11281, 6)\n",
      "(11310, 6)\n",
      "(11339, 6)\n",
      "(11368, 6)\n",
      "(11397, 6)\n",
      "(11426, 6)\n"
     ]
    },
    {
     "name": "stderr",
     "output_type": "stream",
     "text": [
      "\r",
      " 59%|███████████████████████████████████████████████                                 | 394/670 [00:04<00:03, 80.41it/s]"
     ]
    },
    {
     "name": "stdout",
     "output_type": "stream",
     "text": [
      "(11455, 6)\n",
      "(11484, 6)\n",
      "(11513, 6)\n",
      "(11542, 6)\n",
      "(11571, 6)\n",
      "(11600, 6)\n",
      "(11629, 6)\n"
     ]
    },
    {
     "name": "stderr",
     "output_type": "stream",
     "text": [
      "\r",
      " 60%|███████████████████████████████████████████████▉                                | 401/670 [00:05<00:03, 80.18it/s]"
     ]
    },
    {
     "name": "stdout",
     "output_type": "stream",
     "text": [
      "(11658, 6)\n",
      "(11687, 6)\n",
      "(11716, 6)\n",
      "(11745, 6)\n",
      "(11774, 6)\n",
      "(11803, 6)\n",
      "(11832, 6)\n"
     ]
    },
    {
     "name": "stderr",
     "output_type": "stream",
     "text": [
      "\r",
      " 61%|████████████████████████████████████████████████▋                               | 408/670 [00:05<00:03, 79.80it/s]"
     ]
    },
    {
     "name": "stdout",
     "output_type": "stream",
     "text": [
      "(11861, 6)\n",
      "(11890, 6)\n",
      "(11919, 6)\n",
      "(11948, 6)\n",
      "(11977, 6)\n",
      "(12006, 6)\n",
      "(12035, 6)\n"
     ]
    },
    {
     "name": "stderr",
     "output_type": "stream",
     "text": [
      "\r",
      " 62%|█████████████████████████████████████████████████▌                              | 415/670 [00:05<00:03, 79.11it/s]"
     ]
    },
    {
     "name": "stdout",
     "output_type": "stream",
     "text": [
      "(12064, 6)\n",
      "(12093, 6)\n",
      "(12122, 6)\n",
      "(12151, 6)\n",
      "(12180, 6)\n",
      "(12209, 6)\n"
     ]
    },
    {
     "name": "stderr",
     "output_type": "stream",
     "text": [
      "\r",
      " 63%|██████████████████████████████████████████████████▎                             | 421/670 [00:05<00:03, 78.50it/s]"
     ]
    },
    {
     "name": "stdout",
     "output_type": "stream",
     "text": [
      "(12238, 6)\n",
      "(12267, 6)\n",
      "(12296, 6)\n",
      "(12325, 6)\n",
      "(12354, 6)\n",
      "(12383, 6)\n"
     ]
    },
    {
     "name": "stderr",
     "output_type": "stream",
     "text": [
      "\r",
      " 64%|██████████████████████████████████████████████████▉                             | 427/670 [00:05<00:03, 78.01it/s]"
     ]
    },
    {
     "name": "stdout",
     "output_type": "stream",
     "text": [
      "(12412, 6)\n",
      "(12441, 6)\n",
      "(12470, 6)\n",
      "(12499, 6)\n",
      "(12528, 6)\n",
      "(12557, 6)\n",
      "(12586, 6)\n"
     ]
    },
    {
     "name": "stderr",
     "output_type": "stream",
     "text": [
      "\r",
      " 65%|███████████████████████████████████████████████████▊                            | 434/670 [00:05<00:03, 77.78it/s]"
     ]
    },
    {
     "name": "stdout",
     "output_type": "stream",
     "text": [
      "(12615, 6)\n",
      "(12644, 6)\n",
      "(12673, 6)\n",
      "(12702, 6)\n",
      "(12731, 6)\n",
      "(12760, 6)\n",
      "(12789, 6)\n",
      "(12818, 6)\n",
      "(12847, 6)\n"
     ]
    },
    {
     "name": "stderr",
     "output_type": "stream",
     "text": [
      "\r",
      " 66%|████████████████████████████████████████████████████▉                           | 443/670 [00:05<00:02, 77.88it/s]"
     ]
    },
    {
     "name": "stdout",
     "output_type": "stream",
     "text": [
      "(12876, 6)\n",
      "(12905, 6)\n",
      "(12934, 6)\n",
      "(12963, 6)\n",
      "(12992, 6)\n",
      "(13021, 6)\n",
      "(13050, 6)\n",
      "(13079, 6)\n"
     ]
    },
    {
     "name": "stderr",
     "output_type": "stream",
     "text": [
      "\r",
      " 67%|█████████████████████████████████████████████████████▊                          | 451/670 [00:05<00:02, 77.91it/s]"
     ]
    },
    {
     "name": "stdout",
     "output_type": "stream",
     "text": [
      "(13108, 6)\n",
      "(13137, 6)\n",
      "(13166, 6)\n",
      "(13195, 6)\n",
      "(13224, 6)\n",
      "(13253, 6)\n",
      "(13282, 6)\n",
      "(13311, 6)\n"
     ]
    },
    {
     "name": "stderr",
     "output_type": "stream",
     "text": [
      "\r",
      " 69%|██████████████████████████████████████████████████████▊                         | 459/670 [00:05<00:02, 77.62it/s]"
     ]
    },
    {
     "name": "stdout",
     "output_type": "stream",
     "text": [
      "(13340, 6)\n",
      "(13369, 6)\n",
      "(13398, 6)\n",
      "(13427, 6)\n",
      "(13456, 6)\n",
      "(13485, 6)\n",
      "(13514, 6)\n"
     ]
    },
    {
     "name": "stderr",
     "output_type": "stream",
     "text": [
      "\r",
      " 70%|███████████████████████████████████████████████████████▋                        | 466/670 [00:06<00:02, 77.26it/s]"
     ]
    },
    {
     "name": "stdout",
     "output_type": "stream",
     "text": [
      "(13543, 6)\n",
      "(13572, 6)\n",
      "(13601, 6)\n",
      "(13630, 6)\n",
      "(13659, 6)\n",
      "(13688, 6)\n",
      "(13717, 6)\n"
     ]
    },
    {
     "name": "stderr",
     "output_type": "stream",
     "text": [
      "\r",
      " 71%|████████████████████████████████████████████████████████▍                       | 473/670 [00:06<00:02, 76.82it/s]"
     ]
    },
    {
     "name": "stdout",
     "output_type": "stream",
     "text": [
      "(13746, 6)\n",
      "(13775, 6)\n",
      "(13804, 6)\n",
      "(13833, 6)\n",
      "(13862, 6)\n",
      "(13891, 6)\n",
      "(13920, 6)\n",
      "(13949, 6)\n"
     ]
    },
    {
     "name": "stderr",
     "output_type": "stream",
     "text": [
      "\r",
      " 72%|█████████████████████████████████████████████████████████▍                      | 481/670 [00:06<00:02, 76.80it/s]"
     ]
    },
    {
     "name": "stdout",
     "output_type": "stream",
     "text": [
      "(13978, 6)\n",
      "(14007, 6)\n",
      "(14036, 6)\n",
      "(14065, 6)\n",
      "(14094, 6)\n",
      "(14123, 6)\n",
      "(14152, 6)\n",
      "(14181, 6)\n",
      "(14210, 6)\n"
     ]
    },
    {
     "name": "stderr",
     "output_type": "stream",
     "text": [
      "\r",
      " 73%|██████████████████████████████████████████████████████████▌                     | 490/670 [00:06<00:02, 76.91it/s]"
     ]
    },
    {
     "name": "stdout",
     "output_type": "stream",
     "text": [
      "(14239, 6)\n",
      "(14268, 6)\n",
      "(14297, 6)\n",
      "(14326, 6)\n",
      "(14355, 6)\n",
      "(14384, 6)\n",
      "(14413, 6)\n",
      "(14442, 6)\n"
     ]
    },
    {
     "name": "stderr",
     "output_type": "stream",
     "text": [
      "\r",
      " 74%|███████████████████████████████████████████████████████████▍                    | 498/670 [00:06<00:02, 76.83it/s]"
     ]
    },
    {
     "name": "stdout",
     "output_type": "stream",
     "text": [
      "(14471, 6)\n",
      "(14500, 6)\n",
      "(14529, 6)\n",
      "(14558, 6)\n",
      "(14587, 6)\n",
      "(14616, 6)\n",
      "(14645, 6)\n",
      "(14674, 6)\n"
     ]
    },
    {
     "name": "stderr",
     "output_type": "stream",
     "text": [
      "\r",
      " 76%|████████████████████████████████████████████████████████████▍                   | 506/670 [00:06<00:02, 76.47it/s]"
     ]
    },
    {
     "name": "stdout",
     "output_type": "stream",
     "text": [
      "(14703, 6)\n",
      "(14732, 6)\n",
      "(14761, 6)\n",
      "(14790, 6)\n",
      "(14819, 6)\n",
      "(14848, 6)\n",
      "(14877, 6)\n"
     ]
    },
    {
     "name": "stderr",
     "output_type": "stream",
     "text": [
      "\r",
      " 77%|█████████████████████████████████████████████████████████████▎                  | 513/670 [00:06<00:02, 76.22it/s]"
     ]
    },
    {
     "name": "stdout",
     "output_type": "stream",
     "text": [
      "(14906, 6)\n",
      "(14935, 6)\n",
      "(14964, 6)\n",
      "(14993, 6)\n",
      "(15022, 6)\n",
      "(15051, 6)\n",
      "(15080, 6)\n"
     ]
    },
    {
     "name": "stderr",
     "output_type": "stream",
     "text": [
      "\r",
      " 78%|██████████████████████████████████████████████████████████████                  | 520/670 [00:06<00:01, 75.80it/s]"
     ]
    },
    {
     "name": "stdout",
     "output_type": "stream",
     "text": [
      "(15109, 6)\n",
      "(15138, 6)\n",
      "(15167, 6)\n",
      "(15196, 6)\n",
      "(15225, 6)\n",
      "(15254, 6)\n",
      "(15283, 6)\n",
      "(15312, 6)\n"
     ]
    },
    {
     "name": "stderr",
     "output_type": "stream",
     "text": [
      "\r",
      " 79%|███████████████████████████████████████████████████████████████                 | 528/670 [00:06<00:01, 75.85it/s]"
     ]
    },
    {
     "name": "stdout",
     "output_type": "stream",
     "text": [
      "(15341, 6)\n",
      "(15370, 6)\n",
      "(15399, 6)\n",
      "(15428, 6)\n",
      "(15457, 6)\n",
      "(15486, 6)\n",
      "(15515, 6)\n",
      "(15544, 6)\n"
     ]
    },
    {
     "name": "stderr",
     "output_type": "stream",
     "text": [
      "\r",
      " 80%|████████████████████████████████████████████████████████████████                | 536/670 [00:07<00:01, 75.88it/s]"
     ]
    },
    {
     "name": "stdout",
     "output_type": "stream",
     "text": [
      "(15573, 6)\n",
      "(15602, 6)\n",
      "(15631, 6)\n",
      "(15660, 6)\n",
      "(15689, 6)\n",
      "(15718, 6)\n",
      "(15747, 6)\n",
      "(15776, 6)\n"
     ]
    },
    {
     "name": "stderr",
     "output_type": "stream",
     "text": [
      "\r",
      " 81%|████████████████████████████████████████████████████████████████▉               | 544/670 [00:07<00:01, 75.64it/s]"
     ]
    },
    {
     "name": "stdout",
     "output_type": "stream",
     "text": [
      "(15805, 6)\n",
      "(15834, 6)\n",
      "(15863, 6)\n",
      "(15892, 6)\n",
      "(15921, 6)\n",
      "(15950, 6)\n",
      "(15979, 6)\n"
     ]
    },
    {
     "name": "stderr",
     "output_type": "stream",
     "text": [
      "\r",
      " 82%|█████████████████████████████████████████████████████████████████▊              | 551/670 [00:07<00:01, 75.28it/s]"
     ]
    },
    {
     "name": "stdout",
     "output_type": "stream",
     "text": [
      "(16008, 6)\n",
      "(16037, 6)\n",
      "(16066, 6)\n",
      "(16095, 6)\n",
      "(16124, 6)\n",
      "(16153, 6)\n",
      "(16182, 6)\n"
     ]
    },
    {
     "name": "stderr",
     "output_type": "stream",
     "text": [
      "\r",
      " 83%|██████████████████████████████████████████████████████████████████▋             | 558/670 [00:07<00:01, 74.95it/s]"
     ]
    },
    {
     "name": "stdout",
     "output_type": "stream",
     "text": [
      "(16211, 6)\n",
      "(16240, 6)\n",
      "(16269, 6)\n",
      "(16298, 6)\n",
      "(16327, 6)\n",
      "(16356, 6)\n",
      "(16385, 6)\n"
     ]
    },
    {
     "name": "stderr",
     "output_type": "stream",
     "text": [
      "\r",
      " 84%|███████████████████████████████████████████████████████████████████▍            | 565/670 [00:07<00:01, 74.68it/s]"
     ]
    },
    {
     "name": "stdout",
     "output_type": "stream",
     "text": [
      "(16414, 6)\n",
      "(16443, 6)\n",
      "(16472, 6)\n",
      "(16501, 6)\n",
      "(16530, 6)\n",
      "(16559, 6)\n",
      "(16588, 6)\n",
      "(16617, 6)\n"
     ]
    },
    {
     "name": "stderr",
     "output_type": "stream",
     "text": [
      "\r",
      " 86%|████████████████████████████████████████████████████████████████████▍           | 573/670 [00:07<00:01, 74.70it/s]"
     ]
    },
    {
     "name": "stdout",
     "output_type": "stream",
     "text": [
      "(16646, 6)\n",
      "(16675, 6)\n",
      "(16704, 6)\n",
      "(16733, 6)\n",
      "(16762, 6)\n",
      "(16791, 6)\n",
      "(16820, 6)\n",
      "(16849, 6)\n",
      "(16878, 6)\n"
     ]
    },
    {
     "name": "stderr",
     "output_type": "stream",
     "text": [
      "\r",
      " 87%|█████████████████████████████████████████████████████████████████████▍          | 582/670 [00:07<00:01, 74.83it/s]"
     ]
    },
    {
     "name": "stdout",
     "output_type": "stream",
     "text": [
      "(16907, 6)\n",
      "(16936, 6)\n",
      "(16965, 6)\n",
      "(16994, 6)\n",
      "(17023, 6)\n",
      "(17052, 6)\n",
      "(17081, 6)\n",
      "(17110, 6)\n"
     ]
    },
    {
     "name": "stderr",
     "output_type": "stream",
     "text": [
      "\r",
      " 88%|██████████████████████████████████████████████████████████████████████▍         | 590/670 [00:07<00:01, 74.89it/s]"
     ]
    },
    {
     "name": "stdout",
     "output_type": "stream",
     "text": [
      "(17139, 6)\n",
      "(17168, 6)\n",
      "(17197, 6)\n",
      "(17226, 6)\n",
      "(17255, 6)\n",
      "(17284, 6)\n",
      "(17313, 6)\n",
      "(17342, 6)\n"
     ]
    },
    {
     "name": "stderr",
     "output_type": "stream",
     "text": [
      "\r",
      " 89%|███████████████████████████████████████████████████████████████████████▍        | 598/670 [00:07<00:00, 74.84it/s]"
     ]
    },
    {
     "name": "stdout",
     "output_type": "stream",
     "text": [
      "(17371, 6)\n",
      "(17400, 6)\n",
      "(17429, 6)\n",
      "(17458, 6)\n",
      "(17487, 6)\n",
      "(17516, 6)\n",
      "(17545, 6)\n",
      "(17574, 6)\n"
     ]
    },
    {
     "name": "stderr",
     "output_type": "stream",
     "text": [
      "\r",
      " 90%|████████████████████████████████████████████████████████████████████████▎       | 606/670 [00:08<00:00, 74.30it/s]"
     ]
    },
    {
     "name": "stdout",
     "output_type": "stream",
     "text": [
      "(17603, 6)\n",
      "(17632, 6)\n",
      "(17661, 6)\n",
      "(17690, 6)\n",
      "(17719, 6)\n",
      "(17748, 6)\n",
      "(17777, 6)\n"
     ]
    },
    {
     "name": "stderr",
     "output_type": "stream",
     "text": [
      "\r",
      " 91%|█████████████████████████████████████████████████████████████████████████▏      | 613/670 [00:08<00:00, 73.96it/s]"
     ]
    },
    {
     "name": "stdout",
     "output_type": "stream",
     "text": [
      "(17806, 6)\n",
      "(17835, 6)\n",
      "(17864, 6)\n",
      "(17893, 6)\n",
      "(17922, 6)\n",
      "(17951, 6)\n",
      "(17980, 6)\n"
     ]
    },
    {
     "name": "stderr",
     "output_type": "stream",
     "text": [
      "\r",
      " 93%|██████████████████████████████████████████████████████████████████████████      | 620/670 [00:08<00:00, 73.64it/s]"
     ]
    },
    {
     "name": "stdout",
     "output_type": "stream",
     "text": [
      "(18009, 6)\n",
      "(18038, 6)\n",
      "(18067, 6)\n",
      "(18096, 6)\n",
      "(18125, 6)\n",
      "(18154, 6)\n"
     ]
    },
    {
     "name": "stderr",
     "output_type": "stream",
     "text": [
      "\r",
      " 93%|██████████████████████████████████████████████████████████████████████████▋     | 626/670 [00:08<00:00, 73.48it/s]"
     ]
    },
    {
     "name": "stdout",
     "output_type": "stream",
     "text": [
      "(18183, 6)\n",
      "(18212, 6)\n",
      "(18241, 6)\n",
      "(18270, 6)\n",
      "(18299, 6)\n",
      "(18328, 6)\n"
     ]
    },
    {
     "name": "stderr",
     "output_type": "stream",
     "text": [
      "\r",
      " 94%|███████████████████████████████████████████████████████████████████████████▍    | 632/670 [00:08<00:00, 73.15it/s]"
     ]
    },
    {
     "name": "stdout",
     "output_type": "stream",
     "text": [
      "(18357, 6)\n",
      "(18386, 6)\n",
      "(18415, 6)\n",
      "(18444, 6)\n",
      "(18473, 6)\n",
      "(18502, 6)\n"
     ]
    },
    {
     "name": "stderr",
     "output_type": "stream",
     "text": [
      "\r",
      " 95%|████████████████████████████████████████████████████████████████████████████▏   | 638/670 [00:08<00:00, 72.88it/s]"
     ]
    },
    {
     "name": "stdout",
     "output_type": "stream",
     "text": [
      "(18531, 6)\n",
      "(18560, 6)\n",
      "(18589, 6)\n",
      "(18618, 6)\n",
      "(18647, 6)\n",
      "(18676, 6)\n"
     ]
    },
    {
     "name": "stderr",
     "output_type": "stream",
     "text": [
      "\r",
      " 96%|████████████████████████████████████████████████████████████████████████████▉   | 644/670 [00:08<00:00, 72.65it/s]"
     ]
    },
    {
     "name": "stdout",
     "output_type": "stream",
     "text": [
      "(18705, 6)\n",
      "(18734, 6)\n",
      "(18763, 6)\n",
      "(18792, 6)\n",
      "(18821, 6)\n",
      "(18850, 6)\n"
     ]
    },
    {
     "name": "stderr",
     "output_type": "stream",
     "text": [
      "\r",
      " 97%|█████████████████████████████████████████████████████████████████████████████▌  | 650/670 [00:08<00:00, 72.51it/s]"
     ]
    },
    {
     "name": "stdout",
     "output_type": "stream",
     "text": [
      "(18879, 6)\n",
      "(18908, 6)\n",
      "(18937, 6)\n",
      "(18966, 6)\n",
      "(18995, 6)\n",
      "(19024, 6)\n"
     ]
    },
    {
     "name": "stderr",
     "output_type": "stream",
     "text": [
      "\r",
      " 98%|██████████████████████████████████████████████████████████████████████████████▎ | 656/670 [00:09<00:00, 72.27it/s]"
     ]
    },
    {
     "name": "stdout",
     "output_type": "stream",
     "text": [
      "(19053, 6)\n",
      "(19082, 6)\n",
      "(19111, 6)\n",
      "(19140, 6)\n",
      "(19169, 6)\n",
      "(19198, 6)\n"
     ]
    },
    {
     "name": "stderr",
     "output_type": "stream",
     "text": [
      "\r",
      " 99%|███████████████████████████████████████████████████████████████████████████████ | 662/670 [00:09<00:00, 72.07it/s]"
     ]
    },
    {
     "name": "stdout",
     "output_type": "stream",
     "text": [
      "(19227, 6)\n",
      "(19256, 6)\n",
      "(19285, 6)\n",
      "(19314, 6)\n",
      "(19343, 6)\n",
      "(19372, 6)\n"
     ]
    },
    {
     "name": "stderr",
     "output_type": "stream",
     "text": [
      "\r",
      "100%|███████████████████████████████████████████████████████████████████████████████▊| 668/670 [00:09<00:00, 71.93it/s]"
     ]
    },
    {
     "name": "stdout",
     "output_type": "stream",
     "text": [
      "(19401, 6)\n",
      "(19430, 6)\n"
     ]
    },
    {
     "name": "stderr",
     "output_type": "stream",
     "text": [
      "100%|████████████████████████████████████████████████████████████████████████████████| 670/670 [00:09<00:00, 71.87it/s]\n"
     ]
    }
   ],
   "source": [
    "final_df = 0\n",
    "for i in tqdm(range(len(df_piv))):\n",
    "    k = pd.DataFrame(df_piv.iloc[i].values[3:])\n",
    "    ano = list(map(lambda x: a[x][0], pd.DataFrame(df_piv.iloc[i].values[3:]).index))\n",
    "    mes = list(map(lambda x: a[x][1], pd.DataFrame(df_piv.iloc[i].values[3:]).index))\n",
    "    k['DESCRICAO'] = df_piv.iloc[i].DESCRICAO\n",
    "    k['TAMANHO'] = df_piv.iloc[i].TAMANHO\n",
    "    k['NOME'] = df_piv.iloc[i].NOME\n",
    "    k['ANO'] = ano\n",
    "    k['MES'] = mes\n",
    "    try:\n",
    "        final_df = final_df.append(k)\n",
    "        print(final_df.shape)\n",
    "    except:\n",
    "        final_df = k"
   ]
  },
  {
   "cell_type": "code",
   "execution_count": 242,
   "metadata": {},
   "outputs": [
    {
     "ename": "KeyError",
     "evalue": "'LOJA'",
     "output_type": "error",
     "traceback": [
      "\u001b[1;31m---------------------------------------------------------------------------\u001b[0m",
      "\u001b[1;31mKeyError\u001b[0m                                  Traceback (most recent call last)",
      "\u001b[1;32m~\\Anaconda3\\lib\\site-packages\\pandas\\core\\indexes\\base.py\u001b[0m in \u001b[0;36mget_loc\u001b[1;34m(self, key, method, tolerance)\u001b[0m\n\u001b[0;32m   2441\u001b[0m             \u001b[1;32mtry\u001b[0m\u001b[1;33m:\u001b[0m\u001b[1;33m\u001b[0m\u001b[0m\n\u001b[1;32m-> 2442\u001b[1;33m                 \u001b[1;32mreturn\u001b[0m \u001b[0mself\u001b[0m\u001b[1;33m.\u001b[0m\u001b[0m_engine\u001b[0m\u001b[1;33m.\u001b[0m\u001b[0mget_loc\u001b[0m\u001b[1;33m(\u001b[0m\u001b[0mkey\u001b[0m\u001b[1;33m)\u001b[0m\u001b[1;33m\u001b[0m\u001b[0m\n\u001b[0m\u001b[0;32m   2443\u001b[0m             \u001b[1;32mexcept\u001b[0m \u001b[0mKeyError\u001b[0m\u001b[1;33m:\u001b[0m\u001b[1;33m\u001b[0m\u001b[0m\n",
      "\u001b[1;32mpandas\\_libs\\index.pyx\u001b[0m in \u001b[0;36mpandas._libs.index.IndexEngine.get_loc\u001b[1;34m()\u001b[0m\n",
      "\u001b[1;32mpandas\\_libs\\index.pyx\u001b[0m in \u001b[0;36mpandas._libs.index.IndexEngine.get_loc\u001b[1;34m()\u001b[0m\n",
      "\u001b[1;32mpandas\\_libs\\hashtable_class_helper.pxi\u001b[0m in \u001b[0;36mpandas._libs.hashtable.PyObjectHashTable.get_item\u001b[1;34m()\u001b[0m\n",
      "\u001b[1;32mpandas\\_libs\\hashtable_class_helper.pxi\u001b[0m in \u001b[0;36mpandas._libs.hashtable.PyObjectHashTable.get_item\u001b[1;34m()\u001b[0m\n",
      "\u001b[1;31mKeyError\u001b[0m: 'LOJA'",
      "\nDuring handling of the above exception, another exception occurred:\n",
      "\u001b[1;31mKeyError\u001b[0m                                  Traceback (most recent call last)",
      "\u001b[1;32m<ipython-input-242-55f975b1b983>\u001b[0m in \u001b[0;36m<module>\u001b[1;34m()\u001b[0m\n\u001b[1;32m----> 1\u001b[1;33m \u001b[0mfinal_df\u001b[0m\u001b[1;33m.\u001b[0m\u001b[0msort_values\u001b[0m\u001b[1;33m(\u001b[0m\u001b[0mby\u001b[0m\u001b[1;33m=\u001b[0m\u001b[1;33m[\u001b[0m\u001b[1;34m'ANO'\u001b[0m\u001b[1;33m,\u001b[0m \u001b[1;34m'MES'\u001b[0m\u001b[1;33m,\u001b[0m \u001b[1;34m'DESCRICAO'\u001b[0m\u001b[1;33m,\u001b[0m \u001b[1;34m'TAMANHO'\u001b[0m\u001b[1;33m,\u001b[0m \u001b[1;34m'LOJA'\u001b[0m\u001b[1;33m]\u001b[0m\u001b[1;33m)\u001b[0m\u001b[1;33m\u001b[0m\u001b[0m\n\u001b[0m",
      "\u001b[1;32m~\\Anaconda3\\lib\\site-packages\\pandas\\core\\frame.py\u001b[0m in \u001b[0;36msort_values\u001b[1;34m(self, by, axis, ascending, inplace, kind, na_position)\u001b[0m\n\u001b[0;32m   3172\u001b[0m             \u001b[0mkeys\u001b[0m \u001b[1;33m=\u001b[0m \u001b[1;33m[\u001b[0m\u001b[1;33m]\u001b[0m\u001b[1;33m\u001b[0m\u001b[0m\n\u001b[0;32m   3173\u001b[0m             \u001b[1;32mfor\u001b[0m \u001b[0mx\u001b[0m \u001b[1;32min\u001b[0m \u001b[0mby\u001b[0m\u001b[1;33m:\u001b[0m\u001b[1;33m\u001b[0m\u001b[0m\n\u001b[1;32m-> 3174\u001b[1;33m                 \u001b[0mk\u001b[0m \u001b[1;33m=\u001b[0m \u001b[0mself\u001b[0m\u001b[1;33m.\u001b[0m\u001b[0mxs\u001b[0m\u001b[1;33m(\u001b[0m\u001b[0mx\u001b[0m\u001b[1;33m,\u001b[0m \u001b[0maxis\u001b[0m\u001b[1;33m=\u001b[0m\u001b[0mother_axis\u001b[0m\u001b[1;33m)\u001b[0m\u001b[1;33m.\u001b[0m\u001b[0mvalues\u001b[0m\u001b[1;33m\u001b[0m\u001b[0m\n\u001b[0m\u001b[0;32m   3175\u001b[0m                 \u001b[1;32mif\u001b[0m \u001b[0mk\u001b[0m\u001b[1;33m.\u001b[0m\u001b[0mndim\u001b[0m \u001b[1;33m==\u001b[0m \u001b[1;36m2\u001b[0m\u001b[1;33m:\u001b[0m\u001b[1;33m\u001b[0m\u001b[0m\n\u001b[0;32m   3176\u001b[0m                     raise ValueError('Cannot sort by duplicate column %s' %\n",
      "\u001b[1;32m~\\Anaconda3\\lib\\site-packages\\pandas\\core\\generic.py\u001b[0m in \u001b[0;36mxs\u001b[1;34m(self, key, axis, level, drop_level)\u001b[0m\n\u001b[0;32m   2021\u001b[0m \u001b[1;33m\u001b[0m\u001b[0m\n\u001b[0;32m   2022\u001b[0m         \u001b[1;32mif\u001b[0m \u001b[0maxis\u001b[0m \u001b[1;33m==\u001b[0m \u001b[1;36m1\u001b[0m\u001b[1;33m:\u001b[0m\u001b[1;33m\u001b[0m\u001b[0m\n\u001b[1;32m-> 2023\u001b[1;33m             \u001b[1;32mreturn\u001b[0m \u001b[0mself\u001b[0m\u001b[1;33m[\u001b[0m\u001b[0mkey\u001b[0m\u001b[1;33m]\u001b[0m\u001b[1;33m\u001b[0m\u001b[0m\n\u001b[0m\u001b[0;32m   2024\u001b[0m \u001b[1;33m\u001b[0m\u001b[0m\n\u001b[0;32m   2025\u001b[0m         \u001b[0mself\u001b[0m\u001b[1;33m.\u001b[0m\u001b[0m_consolidate_inplace\u001b[0m\u001b[1;33m(\u001b[0m\u001b[1;33m)\u001b[0m\u001b[1;33m\u001b[0m\u001b[0m\n",
      "\u001b[1;32m~\\Anaconda3\\lib\\site-packages\\pandas\\core\\frame.py\u001b[0m in \u001b[0;36m__getitem__\u001b[1;34m(self, key)\u001b[0m\n\u001b[0;32m   1962\u001b[0m             \u001b[1;32mreturn\u001b[0m \u001b[0mself\u001b[0m\u001b[1;33m.\u001b[0m\u001b[0m_getitem_multilevel\u001b[0m\u001b[1;33m(\u001b[0m\u001b[0mkey\u001b[0m\u001b[1;33m)\u001b[0m\u001b[1;33m\u001b[0m\u001b[0m\n\u001b[0;32m   1963\u001b[0m         \u001b[1;32melse\u001b[0m\u001b[1;33m:\u001b[0m\u001b[1;33m\u001b[0m\u001b[0m\n\u001b[1;32m-> 1964\u001b[1;33m             \u001b[1;32mreturn\u001b[0m \u001b[0mself\u001b[0m\u001b[1;33m.\u001b[0m\u001b[0m_getitem_column\u001b[0m\u001b[1;33m(\u001b[0m\u001b[0mkey\u001b[0m\u001b[1;33m)\u001b[0m\u001b[1;33m\u001b[0m\u001b[0m\n\u001b[0m\u001b[0;32m   1965\u001b[0m \u001b[1;33m\u001b[0m\u001b[0m\n\u001b[0;32m   1966\u001b[0m     \u001b[1;32mdef\u001b[0m \u001b[0m_getitem_column\u001b[0m\u001b[1;33m(\u001b[0m\u001b[0mself\u001b[0m\u001b[1;33m,\u001b[0m \u001b[0mkey\u001b[0m\u001b[1;33m)\u001b[0m\u001b[1;33m:\u001b[0m\u001b[1;33m\u001b[0m\u001b[0m\n",
      "\u001b[1;32m~\\Anaconda3\\lib\\site-packages\\pandas\\core\\frame.py\u001b[0m in \u001b[0;36m_getitem_column\u001b[1;34m(self, key)\u001b[0m\n\u001b[0;32m   1969\u001b[0m         \u001b[1;31m# get column\u001b[0m\u001b[1;33m\u001b[0m\u001b[1;33m\u001b[0m\u001b[0m\n\u001b[0;32m   1970\u001b[0m         \u001b[1;32mif\u001b[0m \u001b[0mself\u001b[0m\u001b[1;33m.\u001b[0m\u001b[0mcolumns\u001b[0m\u001b[1;33m.\u001b[0m\u001b[0mis_unique\u001b[0m\u001b[1;33m:\u001b[0m\u001b[1;33m\u001b[0m\u001b[0m\n\u001b[1;32m-> 1971\u001b[1;33m             \u001b[1;32mreturn\u001b[0m \u001b[0mself\u001b[0m\u001b[1;33m.\u001b[0m\u001b[0m_get_item_cache\u001b[0m\u001b[1;33m(\u001b[0m\u001b[0mkey\u001b[0m\u001b[1;33m)\u001b[0m\u001b[1;33m\u001b[0m\u001b[0m\n\u001b[0m\u001b[0;32m   1972\u001b[0m \u001b[1;33m\u001b[0m\u001b[0m\n\u001b[0;32m   1973\u001b[0m         \u001b[1;31m# duplicate columns & possible reduce dimensionality\u001b[0m\u001b[1;33m\u001b[0m\u001b[1;33m\u001b[0m\u001b[0m\n",
      "\u001b[1;32m~\\Anaconda3\\lib\\site-packages\\pandas\\core\\generic.py\u001b[0m in \u001b[0;36m_get_item_cache\u001b[1;34m(self, item)\u001b[0m\n\u001b[0;32m   1643\u001b[0m         \u001b[0mres\u001b[0m \u001b[1;33m=\u001b[0m \u001b[0mcache\u001b[0m\u001b[1;33m.\u001b[0m\u001b[0mget\u001b[0m\u001b[1;33m(\u001b[0m\u001b[0mitem\u001b[0m\u001b[1;33m)\u001b[0m\u001b[1;33m\u001b[0m\u001b[0m\n\u001b[0;32m   1644\u001b[0m         \u001b[1;32mif\u001b[0m \u001b[0mres\u001b[0m \u001b[1;32mis\u001b[0m \u001b[1;32mNone\u001b[0m\u001b[1;33m:\u001b[0m\u001b[1;33m\u001b[0m\u001b[0m\n\u001b[1;32m-> 1645\u001b[1;33m             \u001b[0mvalues\u001b[0m \u001b[1;33m=\u001b[0m \u001b[0mself\u001b[0m\u001b[1;33m.\u001b[0m\u001b[0m_data\u001b[0m\u001b[1;33m.\u001b[0m\u001b[0mget\u001b[0m\u001b[1;33m(\u001b[0m\u001b[0mitem\u001b[0m\u001b[1;33m)\u001b[0m\u001b[1;33m\u001b[0m\u001b[0m\n\u001b[0m\u001b[0;32m   1646\u001b[0m             \u001b[0mres\u001b[0m \u001b[1;33m=\u001b[0m \u001b[0mself\u001b[0m\u001b[1;33m.\u001b[0m\u001b[0m_box_item_values\u001b[0m\u001b[1;33m(\u001b[0m\u001b[0mitem\u001b[0m\u001b[1;33m,\u001b[0m \u001b[0mvalues\u001b[0m\u001b[1;33m)\u001b[0m\u001b[1;33m\u001b[0m\u001b[0m\n\u001b[0;32m   1647\u001b[0m             \u001b[0mcache\u001b[0m\u001b[1;33m[\u001b[0m\u001b[0mitem\u001b[0m\u001b[1;33m]\u001b[0m \u001b[1;33m=\u001b[0m \u001b[0mres\u001b[0m\u001b[1;33m\u001b[0m\u001b[0m\n",
      "\u001b[1;32m~\\Anaconda3\\lib\\site-packages\\pandas\\core\\internals.py\u001b[0m in \u001b[0;36mget\u001b[1;34m(self, item, fastpath)\u001b[0m\n\u001b[0;32m   3588\u001b[0m \u001b[1;33m\u001b[0m\u001b[0m\n\u001b[0;32m   3589\u001b[0m             \u001b[1;32mif\u001b[0m \u001b[1;32mnot\u001b[0m \u001b[0misnull\u001b[0m\u001b[1;33m(\u001b[0m\u001b[0mitem\u001b[0m\u001b[1;33m)\u001b[0m\u001b[1;33m:\u001b[0m\u001b[1;33m\u001b[0m\u001b[0m\n\u001b[1;32m-> 3590\u001b[1;33m                 \u001b[0mloc\u001b[0m \u001b[1;33m=\u001b[0m \u001b[0mself\u001b[0m\u001b[1;33m.\u001b[0m\u001b[0mitems\u001b[0m\u001b[1;33m.\u001b[0m\u001b[0mget_loc\u001b[0m\u001b[1;33m(\u001b[0m\u001b[0mitem\u001b[0m\u001b[1;33m)\u001b[0m\u001b[1;33m\u001b[0m\u001b[0m\n\u001b[0m\u001b[0;32m   3591\u001b[0m             \u001b[1;32melse\u001b[0m\u001b[1;33m:\u001b[0m\u001b[1;33m\u001b[0m\u001b[0m\n\u001b[0;32m   3592\u001b[0m                 \u001b[0mindexer\u001b[0m \u001b[1;33m=\u001b[0m \u001b[0mnp\u001b[0m\u001b[1;33m.\u001b[0m\u001b[0marange\u001b[0m\u001b[1;33m(\u001b[0m\u001b[0mlen\u001b[0m\u001b[1;33m(\u001b[0m\u001b[0mself\u001b[0m\u001b[1;33m.\u001b[0m\u001b[0mitems\u001b[0m\u001b[1;33m)\u001b[0m\u001b[1;33m)\u001b[0m\u001b[1;33m[\u001b[0m\u001b[0misnull\u001b[0m\u001b[1;33m(\u001b[0m\u001b[0mself\u001b[0m\u001b[1;33m.\u001b[0m\u001b[0mitems\u001b[0m\u001b[1;33m)\u001b[0m\u001b[1;33m]\u001b[0m\u001b[1;33m\u001b[0m\u001b[0m\n",
      "\u001b[1;32m~\\Anaconda3\\lib\\site-packages\\pandas\\core\\indexes\\base.py\u001b[0m in \u001b[0;36mget_loc\u001b[1;34m(self, key, method, tolerance)\u001b[0m\n\u001b[0;32m   2442\u001b[0m                 \u001b[1;32mreturn\u001b[0m \u001b[0mself\u001b[0m\u001b[1;33m.\u001b[0m\u001b[0m_engine\u001b[0m\u001b[1;33m.\u001b[0m\u001b[0mget_loc\u001b[0m\u001b[1;33m(\u001b[0m\u001b[0mkey\u001b[0m\u001b[1;33m)\u001b[0m\u001b[1;33m\u001b[0m\u001b[0m\n\u001b[0;32m   2443\u001b[0m             \u001b[1;32mexcept\u001b[0m \u001b[0mKeyError\u001b[0m\u001b[1;33m:\u001b[0m\u001b[1;33m\u001b[0m\u001b[0m\n\u001b[1;32m-> 2444\u001b[1;33m                 \u001b[1;32mreturn\u001b[0m \u001b[0mself\u001b[0m\u001b[1;33m.\u001b[0m\u001b[0m_engine\u001b[0m\u001b[1;33m.\u001b[0m\u001b[0mget_loc\u001b[0m\u001b[1;33m(\u001b[0m\u001b[0mself\u001b[0m\u001b[1;33m.\u001b[0m\u001b[0m_maybe_cast_indexer\u001b[0m\u001b[1;33m(\u001b[0m\u001b[0mkey\u001b[0m\u001b[1;33m)\u001b[0m\u001b[1;33m)\u001b[0m\u001b[1;33m\u001b[0m\u001b[0m\n\u001b[0m\u001b[0;32m   2445\u001b[0m \u001b[1;33m\u001b[0m\u001b[0m\n\u001b[0;32m   2446\u001b[0m         \u001b[0mindexer\u001b[0m \u001b[1;33m=\u001b[0m \u001b[0mself\u001b[0m\u001b[1;33m.\u001b[0m\u001b[0mget_indexer\u001b[0m\u001b[1;33m(\u001b[0m\u001b[1;33m[\u001b[0m\u001b[0mkey\u001b[0m\u001b[1;33m]\u001b[0m\u001b[1;33m,\u001b[0m \u001b[0mmethod\u001b[0m\u001b[1;33m=\u001b[0m\u001b[0mmethod\u001b[0m\u001b[1;33m,\u001b[0m \u001b[0mtolerance\u001b[0m\u001b[1;33m=\u001b[0m\u001b[0mtolerance\u001b[0m\u001b[1;33m)\u001b[0m\u001b[1;33m\u001b[0m\u001b[0m\n",
      "\u001b[1;32mpandas\\_libs\\index.pyx\u001b[0m in \u001b[0;36mpandas._libs.index.IndexEngine.get_loc\u001b[1;34m()\u001b[0m\n",
      "\u001b[1;32mpandas\\_libs\\index.pyx\u001b[0m in \u001b[0;36mpandas._libs.index.IndexEngine.get_loc\u001b[1;34m()\u001b[0m\n",
      "\u001b[1;32mpandas\\_libs\\hashtable_class_helper.pxi\u001b[0m in \u001b[0;36mpandas._libs.hashtable.PyObjectHashTable.get_item\u001b[1;34m()\u001b[0m\n",
      "\u001b[1;32mpandas\\_libs\\hashtable_class_helper.pxi\u001b[0m in \u001b[0;36mpandas._libs.hashtable.PyObjectHashTable.get_item\u001b[1;34m()\u001b[0m\n",
      "\u001b[1;31mKeyError\u001b[0m: 'LOJA'"
     ]
    }
   ],
   "source": [
    "final_df.sort_values(by=['ANO', 'MES', 'DESCRICAO', 'TAMANHO', 'LOJA'])"
   ]
  },
  {
   "cell_type": "code",
   "execution_count": 225,
   "metadata": {},
   "outputs": [],
   "source": []
  },
  {
   "cell_type": "code",
   "execution_count": 97,
   "metadata": {},
   "outputs": [],
   "source": [
    "treino = df_piv[df_piv.columns[:28]]"
   ]
  },
  {
   "cell_type": "code",
   "execution_count": 98,
   "metadata": {},
   "outputs": [],
   "source": [
    "validacao = df_piv[np.concatenate([df_piv.columns[:4], df_piv.columns[28:]])]"
   ]
  },
  {
   "cell_type": "markdown",
   "metadata": {},
   "source": [
    "#### Data"
   ]
  },
  {
   "cell_type": "code",
   "execution_count": 99,
   "metadata": {
    "collapsed": true
   },
   "outputs": [],
   "source": [
    "from sklearn.preprocessing import LabelEncoder, OneHotEncoder\n",
    "from sklearn.ensemble import ExtraTreesRegressor, RandomForestRegressor"
   ]
  },
  {
   "cell_type": "code",
   "execution_count": 100,
   "metadata": {
    "collapsed": true
   },
   "outputs": [],
   "source": [
    "le_DESC = LabelEncoder()\n",
    "treino['DESCRICAO'] = le_DESC.fit_transform(treino.DESCRICAO)\n",
    "validacao['DESCRICAO'] = le_DESC.transform(validacao.DESCRICAO)"
   ]
  },
  {
   "cell_type": "code",
   "execution_count": 101,
   "metadata": {
    "collapsed": true
   },
   "outputs": [],
   "source": [
    "le_TAM = LabelEncoder()\n",
    "treino['TAMANHO'] = le_TAM.fit_transform(treino.TAMANHO)\n",
    "validacao['TAMANHO'] = le_TAM.transform(validacao.TAMANHO)"
   ]
  },
  {
   "cell_type": "code",
   "execution_count": 102,
   "metadata": {
    "collapsed": true
   },
   "outputs": [],
   "source": [
    "le_NOME = LabelEncoder()\n",
    "treino['NOME'] = le_NOME.fit_transform(treino.NOME)\n",
    "validacao['NOME'] = le_NOME.transform(validacao.NOME)"
   ]
  },
  {
   "cell_type": "code",
   "execution_count": 118,
   "metadata": {},
   "outputs": [],
   "source": [
    "X_train = treino.iloc[:, :-1].values\n",
    "y_train = treino.iloc[:, -1].values"
   ]
  },
  {
   "cell_type": "code",
   "execution_count": 119,
   "metadata": {
    "collapsed": true
   },
   "outputs": [],
   "source": [
    "# Set parameters and train the model\n",
    "# See: http://xgboost.readthedocs.io/en/latest/parameter.html\n",
    "import xgboost as xgb\n",
    "param = {'max_depth':12,  # originally 10\n",
    "         'subsample':1,  # 1\n",
    "         'min_child_weight':0.5,  # 0.5\n",
    "         'eta':0.3,\n",
    "         'num_round':1000, \n",
    "         'seed':0,  # 1\n",
    "         'silent':0,\n",
    "         'eval_metric':'rmse',\n",
    "         'early_stopping_rounds':100\n",
    "        }\n",
    "\n",
    "progress = dict()\n",
    "xgbtrain = xgb.DMatrix(X_train, y_train)\n",
    "watchlist  = [(xgbtrain,'train-rmse')]\n",
    "bst = xgb.train(param, xgbtrain)"
   ]
  },
  {
   "cell_type": "code",
   "execution_count": 120,
   "metadata": {},
   "outputs": [],
   "source": [
    "preds = bst.predict(xgb.DMatrix(X_train))"
   ]
  },
  {
   "cell_type": "code",
   "execution_count": 128,
   "metadata": {},
   "outputs": [],
   "source": [
    "y_pred=bst.predict(xgb.DMatrix(treino.drop(0, 1).values))"
   ]
  },
  {
   "cell_type": "code",
   "execution_count": 134,
   "metadata": {},
   "outputs": [
    {
     "data": {
      "text/plain": [
       "41.112749737550743"
      ]
     },
     "execution_count": 134,
     "metadata": {},
     "output_type": "execute_result"
    }
   ],
   "source": [
    "mean_squared_error(df_piv[26], y_pred)"
   ]
  },
  {
   "cell_type": "code",
   "execution_count": 125,
   "metadata": {},
   "outputs": [
    {
     "data": {
      "text/plain": [
       "1.3985074626865672"
      ]
     },
     "execution_count": 125,
     "metadata": {},
     "output_type": "execute_result"
    }
   ],
   "source": [
    "mean_squared_error(df_piv[22], df_piv[23])"
   ]
  },
  {
   "cell_type": "markdown",
   "metadata": {},
   "source": [
    "## Treino"
   ]
  },
  {
   "cell_type": "code",
   "execution_count": 2394,
   "metadata": {
    "collapsed": true
   },
   "outputs": [],
   "source": [
    "sc = StandardScaler()\n",
    "X_train_ = sc.fit_transform(X_train)\n",
    "X_val_ = sc.transform(X_val)"
   ]
  },
  {
   "cell_type": "code",
   "execution_count": 2395,
   "metadata": {
    "collapsed": true
   },
   "outputs": [],
   "source": [
    "from keras.models import Sequential\n",
    "from keras.layers import Dense\n",
    "from keras.callbacks import ModelCheckpoint, EarlyStopping\n",
    "from sklearn.preprocessing import MinMaxScaler, StandardScaler, OneHotEncoder"
   ]
  },
  {
   "cell_type": "code",
   "execution_count": 2396,
   "metadata": {
    "collapsed": true
   },
   "outputs": [],
   "source": [
    "def ret_model():\n",
    "    model = Sequential()\n",
    "    model.add(Dense(59, input_dim=X_train_.shape[1], kernel_initializer='normal', activation='relu'))\n",
    "    model.add(Dense(5, input_dim=X_train_.shape[1], kernel_initializer='normal', activation='elu'))\n",
    "    model.add(Dense(1, kernel_initializer='normal'))\n",
    "    # Compile model\n",
    "    model.compile(loss='mean_squared_error', optimizer='adam')\n",
    "    return model"
   ]
  },
  {
   "cell_type": "code",
   "execution_count": 2397,
   "metadata": {
    "collapsed": true
   },
   "outputs": [],
   "source": [
    "calbacks = [ModelCheckpoint(filepath='./model', monitor='val_loss', save_best_only=True, verbose=1), EarlyStopping(patience=20)]\n",
    "model = ret_model()"
   ]
  },
  {
   "cell_type": "code",
   "execution_count": 2398,
   "metadata": {
    "collapsed": true
   },
   "outputs": [],
   "source": [
    "# model.fit(X_train_, y_train, validation_data=(X_val_, y_val), callbacks=calbacks,  epochs=1000, verbose=1)\n",
    "# model.load_weights('./model')"
   ]
  },
  {
   "cell_type": "code",
   "execution_count": 2399,
   "metadata": {
    "collapsed": true
   },
   "outputs": [],
   "source": [
    "# y_lin = model.predict(X_val_)\n",
    "# np.array(y_val[100:120]), y_lin[100:120]"
   ]
  },
  {
   "cell_type": "code",
   "execution_count": 2400,
   "metadata": {
    "collapsed": true
   },
   "outputs": [],
   "source": [
    "rf = RandomForestRegressor(criterion='mse',n_estimators=125, min_samples_leaf=2, random_state=3, n_jobs=-1)"
   ]
  },
  {
   "cell_type": "code",
   "execution_count": 2401,
   "metadata": {},
   "outputs": [
    {
     "data": {
      "text/plain": [
       "RandomForestRegressor(bootstrap=True, criterion='mse', max_depth=None,\n",
       "           max_features='auto', max_leaf_nodes=None,\n",
       "           min_impurity_decrease=0.0, min_impurity_split=None,\n",
       "           min_samples_leaf=2, min_samples_split=2,\n",
       "           min_weight_fraction_leaf=0.0, n_estimators=125, n_jobs=-1,\n",
       "           oob_score=False, random_state=3, verbose=0, warm_start=False)"
      ]
     },
     "execution_count": 2401,
     "metadata": {},
     "output_type": "execute_result"
    }
   ],
   "source": [
    "rf.fit(X_train, y_train)"
   ]
  },
  {
   "cell_type": "code",
   "execution_count": 2402,
   "metadata": {
    "collapsed": true
   },
   "outputs": [],
   "source": [
    "ext = ExtraTreesRegressor(criterion='mse',n_estimators=125, max_depth=14, min_samples_leaf=5, random_state=3, n_jobs=-1)\n",
    "ext = ExtraTreesRegressor(criterion='mse',n_estimators=200, max_depth=15, random_state=3, n_jobs=-1)"
   ]
  },
  {
   "cell_type": "code",
   "execution_count": 2403,
   "metadata": {
    "scrolled": true
   },
   "outputs": [
    {
     "data": {
      "text/plain": [
       "ExtraTreesRegressor(bootstrap=False, criterion='mse', max_depth=15,\n",
       "          max_features='auto', max_leaf_nodes=None,\n",
       "          min_impurity_decrease=0.0, min_impurity_split=None,\n",
       "          min_samples_leaf=1, min_samples_split=2,\n",
       "          min_weight_fraction_leaf=0.0, n_estimators=200, n_jobs=-1,\n",
       "          oob_score=False, random_state=3, verbose=0, warm_start=False)"
      ]
     },
     "execution_count": 2403,
     "metadata": {},
     "output_type": "execute_result"
    }
   ],
   "source": [
    "ext.fit(X_train, y_train)"
   ]
  },
  {
   "cell_type": "code",
   "execution_count": 2404,
   "metadata": {
    "collapsed": true
   },
   "outputs": [],
   "source": [
    "y_rf = rf.predict(X_val)"
   ]
  },
  {
   "cell_type": "code",
   "execution_count": 2405,
   "metadata": {
    "collapsed": true
   },
   "outputs": [],
   "source": [
    "y_ext = ext.predict(X_val)"
   ]
  },
  {
   "cell_type": "code",
   "execution_count": 2406,
   "metadata": {},
   "outputs": [
    {
     "data": {
      "text/plain": [
       "{'ANO': 0.041117012566097816,\n",
       " 'DESCRICAO': 0.13443134634329121,\n",
       " 'MES': 0.32247934755431479,\n",
       " 'NOME': 0.086595930440359528,\n",
       " 'TAMANHO': 0.11608902876893579,\n",
       " 'last_year': 0.29928733432700066}"
      ]
     },
     "execution_count": 2406,
     "metadata": {},
     "output_type": "execute_result"
    }
   ],
   "source": [
    "dict(zip(X_train.columns, rf.feature_importances_))"
   ]
  },
  {
   "cell_type": "code",
   "execution_count": 2407,
   "metadata": {},
   "outputs": [
    {
     "data": {
      "text/plain": [
       "{'ANO': 0.041689563717222392,\n",
       " 'DESCRICAO': 0.16221869194969749,\n",
       " 'MES': 0.33467144628405876,\n",
       " 'NOME': 0.072475678137653987,\n",
       " 'TAMANHO': 0.10630512123409158,\n",
       " 'last_year': 0.28263949867727584}"
      ]
     },
     "execution_count": 2407,
     "metadata": {},
     "output_type": "execute_result"
    }
   ],
   "source": [
    "dict(zip(X_train.columns, ext.feature_importances_))"
   ]
  },
  {
   "cell_type": "markdown",
   "metadata": {},
   "source": [
    "### Validação"
   ]
  },
  {
   "cell_type": "code",
   "execution_count": 2408,
   "metadata": {
    "collapsed": true
   },
   "outputs": [],
   "source": [
    "from sklearn.metrics import mean_squared_error"
   ]
  },
  {
   "cell_type": "code",
   "execution_count": 2409,
   "metadata": {},
   "outputs": [
    {
     "data": {
      "text/plain": [
       "37.736741311437463"
      ]
     },
     "execution_count": 2409,
     "metadata": {},
     "output_type": "execute_result"
    }
   ],
   "source": [
    "mean_squared_error(y_val, y_rf)"
   ]
  },
  {
   "cell_type": "code",
   "execution_count": 2410,
   "metadata": {},
   "outputs": [
    {
     "data": {
      "text/plain": [
       "47.6584673062668"
      ]
     },
     "execution_count": 2410,
     "metadata": {},
     "output_type": "execute_result"
    }
   ],
   "source": [
    "mean_squared_error(y_val, y_ext)"
   ]
  },
  {
   "cell_type": "code",
   "execution_count": 2411,
   "metadata": {},
   "outputs": [
    {
     "data": {
      "text/plain": [
       "232.60609137055837"
      ]
     },
     "execution_count": 2411,
     "metadata": {},
     "output_type": "execute_result"
    }
   ],
   "source": [
    "mean_squared_error(y_val, list(map(up, y_lin)))"
   ]
  },
  {
   "cell_type": "code",
   "execution_count": 2412,
   "metadata": {},
   "outputs": [
    {
     "data": {
      "text/plain": [
       "40.157466313491653"
      ]
     },
     "execution_count": 2412,
     "metadata": {},
     "output_type": "execute_result"
    }
   ],
   "source": [
    "mean_squared_error(validacao.QUANTIDADE.values, (y_rf + y_ext)/2)"
   ]
  },
  {
   "cell_type": "markdown",
   "metadata": {},
   "source": [
    "### Benchmark"
   ]
  },
  {
   "cell_type": "code",
   "execution_count": 2413,
   "metadata": {
    "collapsed": true
   },
   "outputs": [],
   "source": [
    "def bench(u, a_):\n",
    "    try:\n",
    "        return a_[u]\n",
    "    except:\n",
    "        return 1"
   ]
  },
  {
   "cell_type": "code",
   "execution_count": 2414,
   "metadata": {
    "collapsed": true
   },
   "outputs": [],
   "source": [
    "treino['unique_id'] = treino.DESCRICAO.astype(str).apply(lambda s : s.zfill(2)) + treino.NOME.astype(str).apply(lambda s : s.zfill(2)) + treino.TAMANHO.astype(str).apply(lambda s : s.zfill(2)) + treino.MES.astype(str).apply(lambda s : s.zfill(2))\n",
    "b1 = treino.groupby(['MES', 'DESCRICAO', 'NOME', 'TAMANHO', 'unique_id']).mean().reset_index()\n",
    "b2 = treino[treino.ANO == 2017].groupby(['MES', 'DESCRICAO', 'NOME', 'TAMANHO', 'unique_id']).mean().reset_index()\n",
    "b_1 = dict(zip(b1.unique_id, b1.QUANTIDADE))\n",
    "b_2 = dict(zip(b2.unique_id, b2.QUANTIDADE))"
   ]
  },
  {
   "cell_type": "code",
   "execution_count": 2415,
   "metadata": {
    "collapsed": true
   },
   "outputs": [],
   "source": [
    "validacao['unique_id'] = validacao.DESCRICAO.astype(str).apply(lambda s : s.zfill(2)) + validacao.NOME.astype(str).apply(lambda s : s.zfill(2)) + validacao.TAMANHO.astype(str).apply(lambda s : s.zfill(2)) + validacao.MES.astype(str).apply(lambda s : s.zfill(2))"
   ]
  },
  {
   "cell_type": "code",
   "execution_count": 2370,
   "metadata": {
    "collapsed": true
   },
   "outputs": [],
   "source": [
    "df['unana'] = df.groupby(['DESCRICAO', 'NOME', 'TAMANHO'])['QUANTIDADE'].shift(12).fillna(-1) #+ df.groupby(['DESCRICAO', 'NOME'])['QUANTIDADE'].shift(24).fillna(-1)) / 2"
   ]
  },
  {
   "cell_type": "code",
   "execution_count": 2372,
   "metadata": {},
   "outputs": [
    {
     "data": {
      "text/html": [
       "<div>\n",
       "<style>\n",
       "    .dataframe thead tr:only-child th {\n",
       "        text-align: right;\n",
       "    }\n",
       "\n",
       "    .dataframe thead th {\n",
       "        text-align: left;\n",
       "    }\n",
       "\n",
       "    .dataframe tbody tr th {\n",
       "        vertical-align: top;\n",
       "    }\n",
       "</style>\n",
       "<table border=\"1\" class=\"dataframe\">\n",
       "  <thead>\n",
       "    <tr style=\"text-align: right;\">\n",
       "      <th></th>\n",
       "      <th>ANO</th>\n",
       "      <th>MES</th>\n",
       "      <th>DESCRICAO</th>\n",
       "      <th>NOME</th>\n",
       "      <th>TAMANHO</th>\n",
       "      <th>DATE_BLOCK</th>\n",
       "      <th>QUANTIDADE</th>\n",
       "      <th>last_month</th>\n",
       "      <th>last_period_product</th>\n",
       "      <th>last_period_store</th>\n",
       "      <th>last_period_all</th>\n",
       "      <th>last_2_month</th>\n",
       "      <th>last_year</th>\n",
       "      <th>unana</th>\n",
       "      <th>media_sazonal</th>\n",
       "    </tr>\n",
       "  </thead>\n",
       "  <tbody>\n",
       "    <tr>\n",
       "      <th>4399</th>\n",
       "      <td>2018.0</td>\n",
       "      <td>1.0</td>\n",
       "      <td>BERMUDA CICLISTA COTTON</td>\n",
       "      <td>ALDEIA DA SERRA</td>\n",
       "      <td>02</td>\n",
       "      <td>24</td>\n",
       "      <td>1.0</td>\n",
       "      <td>1.0</td>\n",
       "      <td>1.0</td>\n",
       "      <td>1.0</td>\n",
       "      <td>1.0</td>\n",
       "      <td>1.0</td>\n",
       "      <td>2.0</td>\n",
       "      <td>-1.0</td>\n",
       "      <td>1.0</td>\n",
       "    </tr>\n",
       "    <tr>\n",
       "      <th>4402</th>\n",
       "      <td>2018.0</td>\n",
       "      <td>1.0</td>\n",
       "      <td>BERMUDA CICLISTA COTTON</td>\n",
       "      <td>VERBO DIVINO</td>\n",
       "      <td>02</td>\n",
       "      <td>24</td>\n",
       "      <td>3.0</td>\n",
       "      <td>5.0</td>\n",
       "      <td>5.0</td>\n",
       "      <td>2.0</td>\n",
       "      <td>1.0</td>\n",
       "      <td>1.0</td>\n",
       "      <td>5.0</td>\n",
       "      <td>-1.0</td>\n",
       "      <td>5.0</td>\n",
       "    </tr>\n",
       "    <tr>\n",
       "      <th>4396</th>\n",
       "      <td>2018.0</td>\n",
       "      <td>1.0</td>\n",
       "      <td>BERMUDA CICLISTA COTTON</td>\n",
       "      <td>ACLIMAÇÃO</td>\n",
       "      <td>04</td>\n",
       "      <td>24</td>\n",
       "      <td>8.0</td>\n",
       "      <td>1.0</td>\n",
       "      <td>6.0</td>\n",
       "      <td>2.0</td>\n",
       "      <td>1.0</td>\n",
       "      <td>3.0</td>\n",
       "      <td>9.0</td>\n",
       "      <td>-1.0</td>\n",
       "      <td>5.0</td>\n",
       "    </tr>\n",
       "    <tr>\n",
       "      <th>4400</th>\n",
       "      <td>2018.0</td>\n",
       "      <td>1.0</td>\n",
       "      <td>BERMUDA CICLISTA COTTON</td>\n",
       "      <td>ALDEIA DA SERRA</td>\n",
       "      <td>04</td>\n",
       "      <td>24</td>\n",
       "      <td>1.0</td>\n",
       "      <td>3.0</td>\n",
       "      <td>1.0</td>\n",
       "      <td>17.0</td>\n",
       "      <td>2.0</td>\n",
       "      <td>1.0</td>\n",
       "      <td>6.0</td>\n",
       "      <td>-1.0</td>\n",
       "      <td>1.0</td>\n",
       "    </tr>\n",
       "    <tr>\n",
       "      <th>4403</th>\n",
       "      <td>2018.0</td>\n",
       "      <td>1.0</td>\n",
       "      <td>BERMUDA CICLISTA COTTON</td>\n",
       "      <td>VERBO DIVINO</td>\n",
       "      <td>04</td>\n",
       "      <td>24</td>\n",
       "      <td>13.0</td>\n",
       "      <td>5.0</td>\n",
       "      <td>3.0</td>\n",
       "      <td>3.0</td>\n",
       "      <td>1.0</td>\n",
       "      <td>1.0</td>\n",
       "      <td>33.0</td>\n",
       "      <td>-1.0</td>\n",
       "      <td>17.0</td>\n",
       "    </tr>\n",
       "    <tr>\n",
       "      <th>4397</th>\n",
       "      <td>2018.0</td>\n",
       "      <td>1.0</td>\n",
       "      <td>BERMUDA CICLISTA COTTON</td>\n",
       "      <td>ACLIMAÇÃO</td>\n",
       "      <td>06</td>\n",
       "      <td>24</td>\n",
       "      <td>12.0</td>\n",
       "      <td>1.0</td>\n",
       "      <td>5.0</td>\n",
       "      <td>1.0</td>\n",
       "      <td>1.0</td>\n",
       "      <td>13.0</td>\n",
       "      <td>14.0</td>\n",
       "      <td>-1.0</td>\n",
       "      <td>13.0</td>\n",
       "    </tr>\n",
       "    <tr>\n",
       "      <th>4401</th>\n",
       "      <td>2018.0</td>\n",
       "      <td>1.0</td>\n",
       "      <td>BERMUDA CICLISTA COTTON</td>\n",
       "      <td>ALDEIA DA SERRA</td>\n",
       "      <td>06</td>\n",
       "      <td>24</td>\n",
       "      <td>2.0</td>\n",
       "      <td>1.0</td>\n",
       "      <td>1.0</td>\n",
       "      <td>1.0</td>\n",
       "      <td>1.0</td>\n",
       "      <td>1.0</td>\n",
       "      <td>1.0</td>\n",
       "      <td>-1.0</td>\n",
       "      <td>1.0</td>\n",
       "    </tr>\n",
       "    <tr>\n",
       "      <th>4404</th>\n",
       "      <td>2018.0</td>\n",
       "      <td>1.0</td>\n",
       "      <td>BERMUDA CICLISTA COTTON</td>\n",
       "      <td>VERBO DIVINO</td>\n",
       "      <td>06</td>\n",
       "      <td>24</td>\n",
       "      <td>20.0</td>\n",
       "      <td>1.0</td>\n",
       "      <td>1.0</td>\n",
       "      <td>13.0</td>\n",
       "      <td>1.0</td>\n",
       "      <td>3.0</td>\n",
       "      <td>27.0</td>\n",
       "      <td>-1.0</td>\n",
       "      <td>17.0</td>\n",
       "    </tr>\n",
       "    <tr>\n",
       "      <th>4398</th>\n",
       "      <td>2018.0</td>\n",
       "      <td>1.0</td>\n",
       "      <td>BERMUDA CICLISTA COTTON</td>\n",
       "      <td>ACLIMAÇÃO</td>\n",
       "      <td>08</td>\n",
       "      <td>24</td>\n",
       "      <td>8.0</td>\n",
       "      <td>2.0</td>\n",
       "      <td>13.0</td>\n",
       "      <td>2.0</td>\n",
       "      <td>3.0</td>\n",
       "      <td>2.0</td>\n",
       "      <td>4.0</td>\n",
       "      <td>-1.0</td>\n",
       "      <td>2.0</td>\n",
       "    </tr>\n",
       "    <tr>\n",
       "      <th>4405</th>\n",
       "      <td>2018.0</td>\n",
       "      <td>1.0</td>\n",
       "      <td>BERMUDA CICLISTA COTTON</td>\n",
       "      <td>VERBO DIVINO</td>\n",
       "      <td>08</td>\n",
       "      <td>24</td>\n",
       "      <td>13.0</td>\n",
       "      <td>3.0</td>\n",
       "      <td>1.0</td>\n",
       "      <td>6.0</td>\n",
       "      <td>2.0</td>\n",
       "      <td>1.0</td>\n",
       "      <td>34.0</td>\n",
       "      <td>6.0</td>\n",
       "      <td>23.0</td>\n",
       "    </tr>\n",
       "    <tr>\n",
       "      <th>4406</th>\n",
       "      <td>2018.0</td>\n",
       "      <td>1.0</td>\n",
       "      <td>BERMUDA CICLISTA SUPLEX</td>\n",
       "      <td>ACLIMAÇÃO</td>\n",
       "      <td>10</td>\n",
       "      <td>24</td>\n",
       "      <td>12.0</td>\n",
       "      <td>1.0</td>\n",
       "      <td>1.0</td>\n",
       "      <td>9.0</td>\n",
       "      <td>1.0</td>\n",
       "      <td>4.0</td>\n",
       "      <td>11.0</td>\n",
       "      <td>-1.0</td>\n",
       "      <td>6.0</td>\n",
       "    </tr>\n",
       "    <tr>\n",
       "      <th>4413</th>\n",
       "      <td>2018.0</td>\n",
       "      <td>1.0</td>\n",
       "      <td>BERMUDA CICLISTA SUPLEX</td>\n",
       "      <td>VERBO DIVINO</td>\n",
       "      <td>10</td>\n",
       "      <td>24</td>\n",
       "      <td>8.0</td>\n",
       "      <td>6.0</td>\n",
       "      <td>2.0</td>\n",
       "      <td>27.0</td>\n",
       "      <td>2.0</td>\n",
       "      <td>1.0</td>\n",
       "      <td>52.0</td>\n",
       "      <td>11.0</td>\n",
       "      <td>27.0</td>\n",
       "    </tr>\n",
       "    <tr>\n",
       "      <th>4407</th>\n",
       "      <td>2018.0</td>\n",
       "      <td>1.0</td>\n",
       "      <td>BERMUDA CICLISTA SUPLEX</td>\n",
       "      <td>ACLIMAÇÃO</td>\n",
       "      <td>12</td>\n",
       "      <td>24</td>\n",
       "      <td>5.0</td>\n",
       "      <td>3.0</td>\n",
       "      <td>2.0</td>\n",
       "      <td>1.0</td>\n",
       "      <td>1.0</td>\n",
       "      <td>1.0</td>\n",
       "      <td>4.0</td>\n",
       "      <td>-1.0</td>\n",
       "      <td>1.0</td>\n",
       "    </tr>\n",
       "    <tr>\n",
       "      <th>4410</th>\n",
       "      <td>2018.0</td>\n",
       "      <td>1.0</td>\n",
       "      <td>BERMUDA CICLISTA SUPLEX</td>\n",
       "      <td>ALDEIA DA SERRA</td>\n",
       "      <td>12</td>\n",
       "      <td>24</td>\n",
       "      <td>6.0</td>\n",
       "      <td>1.0</td>\n",
       "      <td>3.0</td>\n",
       "      <td>1.0</td>\n",
       "      <td>1.0</td>\n",
       "      <td>-1.0</td>\n",
       "      <td>-1.0</td>\n",
       "      <td>-1.0</td>\n",
       "      <td>1.0</td>\n",
       "    </tr>\n",
       "    <tr>\n",
       "      <th>4411</th>\n",
       "      <td>2018.0</td>\n",
       "      <td>1.0</td>\n",
       "      <td>BERMUDA CICLISTA SUPLEX</td>\n",
       "      <td>ITAIM</td>\n",
       "      <td>12</td>\n",
       "      <td>24</td>\n",
       "      <td>2.0</td>\n",
       "      <td>3.0</td>\n",
       "      <td>1.0</td>\n",
       "      <td>5.0</td>\n",
       "      <td>2.0</td>\n",
       "      <td>5.0</td>\n",
       "      <td>8.0</td>\n",
       "      <td>-1.0</td>\n",
       "      <td>5.0</td>\n",
       "    </tr>\n",
       "    <tr>\n",
       "      <th>4414</th>\n",
       "      <td>2018.0</td>\n",
       "      <td>1.0</td>\n",
       "      <td>BERMUDA CICLISTA SUPLEX</td>\n",
       "      <td>VERBO DIVINO</td>\n",
       "      <td>12</td>\n",
       "      <td>24</td>\n",
       "      <td>16.0</td>\n",
       "      <td>1.0</td>\n",
       "      <td>2.0</td>\n",
       "      <td>19.0</td>\n",
       "      <td>1.0</td>\n",
       "      <td>1.0</td>\n",
       "      <td>38.0</td>\n",
       "      <td>3.0</td>\n",
       "      <td>19.0</td>\n",
       "    </tr>\n",
       "    <tr>\n",
       "      <th>4415</th>\n",
       "      <td>2018.0</td>\n",
       "      <td>1.0</td>\n",
       "      <td>BERMUDA CICLISTA SUPLEX</td>\n",
       "      <td>VERBO DIVINO</td>\n",
       "      <td>G</td>\n",
       "      <td>24</td>\n",
       "      <td>1.0</td>\n",
       "      <td>-1.0</td>\n",
       "      <td>4.0</td>\n",
       "      <td>-1.0</td>\n",
       "      <td>1.0</td>\n",
       "      <td>-1.0</td>\n",
       "      <td>-1.0</td>\n",
       "      <td>-1.0</td>\n",
       "      <td>1.0</td>\n",
       "    </tr>\n",
       "    <tr>\n",
       "      <th>4412</th>\n",
       "      <td>2018.0</td>\n",
       "      <td>1.0</td>\n",
       "      <td>BERMUDA CICLISTA SUPLEX</td>\n",
       "      <td>ITAIM</td>\n",
       "      <td>M</td>\n",
       "      <td>24</td>\n",
       "      <td>1.0</td>\n",
       "      <td>1.0</td>\n",
       "      <td>1.0</td>\n",
       "      <td>1.0</td>\n",
       "      <td>1.0</td>\n",
       "      <td>1.0</td>\n",
       "      <td>4.0</td>\n",
       "      <td>-1.0</td>\n",
       "      <td>1.0</td>\n",
       "    </tr>\n",
       "    <tr>\n",
       "      <th>4416</th>\n",
       "      <td>2018.0</td>\n",
       "      <td>1.0</td>\n",
       "      <td>BERMUDA CICLISTA SUPLEX</td>\n",
       "      <td>VERBO DIVINO</td>\n",
       "      <td>M</td>\n",
       "      <td>24</td>\n",
       "      <td>4.0</td>\n",
       "      <td>1.0</td>\n",
       "      <td>1.0</td>\n",
       "      <td>4.0</td>\n",
       "      <td>1.0</td>\n",
       "      <td>2.0</td>\n",
       "      <td>7.0</td>\n",
       "      <td>-1.0</td>\n",
       "      <td>4.0</td>\n",
       "    </tr>\n",
       "    <tr>\n",
       "      <th>4408</th>\n",
       "      <td>2018.0</td>\n",
       "      <td>1.0</td>\n",
       "      <td>BERMUDA CICLISTA SUPLEX</td>\n",
       "      <td>ACLIMAÇÃO</td>\n",
       "      <td>P</td>\n",
       "      <td>24</td>\n",
       "      <td>1.0</td>\n",
       "      <td>2.0</td>\n",
       "      <td>2.0</td>\n",
       "      <td>2.0</td>\n",
       "      <td>2.0</td>\n",
       "      <td>-1.0</td>\n",
       "      <td>-1.0</td>\n",
       "      <td>-1.0</td>\n",
       "      <td>1.0</td>\n",
       "    </tr>\n",
       "    <tr>\n",
       "      <th>4417</th>\n",
       "      <td>2018.0</td>\n",
       "      <td>1.0</td>\n",
       "      <td>BERMUDA CICLISTA SUPLEX</td>\n",
       "      <td>VERBO DIVINO</td>\n",
       "      <td>P</td>\n",
       "      <td>24</td>\n",
       "      <td>2.0</td>\n",
       "      <td>1.0</td>\n",
       "      <td>2.0</td>\n",
       "      <td>1.0</td>\n",
       "      <td>6.0</td>\n",
       "      <td>9.0</td>\n",
       "      <td>10.0</td>\n",
       "      <td>-1.0</td>\n",
       "      <td>9.0</td>\n",
       "    </tr>\n",
       "    <tr>\n",
       "      <th>4409</th>\n",
       "      <td>2018.0</td>\n",
       "      <td>1.0</td>\n",
       "      <td>BERMUDA CICLISTA SUPLEX</td>\n",
       "      <td>ACLIMAÇÃO</td>\n",
       "      <td>PP</td>\n",
       "      <td>24</td>\n",
       "      <td>3.0</td>\n",
       "      <td>2.0</td>\n",
       "      <td>1.0</td>\n",
       "      <td>3.0</td>\n",
       "      <td>1.0</td>\n",
       "      <td>1.0</td>\n",
       "      <td>3.0</td>\n",
       "      <td>-1.0</td>\n",
       "      <td>1.0</td>\n",
       "    </tr>\n",
       "    <tr>\n",
       "      <th>4418</th>\n",
       "      <td>2018.0</td>\n",
       "      <td>1.0</td>\n",
       "      <td>BERMUDA CICLISTA SUPLEX</td>\n",
       "      <td>VERBO DIVINO</td>\n",
       "      <td>PP</td>\n",
       "      <td>24</td>\n",
       "      <td>8.0</td>\n",
       "      <td>2.0</td>\n",
       "      <td>1.0</td>\n",
       "      <td>1.0</td>\n",
       "      <td>12.0</td>\n",
       "      <td>9.0</td>\n",
       "      <td>24.0</td>\n",
       "      <td>-1.0</td>\n",
       "      <td>13.0</td>\n",
       "    </tr>\n",
       "    <tr>\n",
       "      <th>4419</th>\n",
       "      <td>2018.0</td>\n",
       "      <td>1.0</td>\n",
       "      <td>BERMUDA DE MOLETOM</td>\n",
       "      <td>ACLIMAÇÃO</td>\n",
       "      <td>00</td>\n",
       "      <td>24</td>\n",
       "      <td>5.0</td>\n",
       "      <td>8.0</td>\n",
       "      <td>1.0</td>\n",
       "      <td>2.0</td>\n",
       "      <td>1.0</td>\n",
       "      <td>5.0</td>\n",
       "      <td>8.0</td>\n",
       "      <td>-1.0</td>\n",
       "      <td>8.0</td>\n",
       "    </tr>\n",
       "    <tr>\n",
       "      <th>4429</th>\n",
       "      <td>2018.0</td>\n",
       "      <td>1.0</td>\n",
       "      <td>BERMUDA DE MOLETOM</td>\n",
       "      <td>ALDEIA DA SERRA</td>\n",
       "      <td>00</td>\n",
       "      <td>24</td>\n",
       "      <td>3.0</td>\n",
       "      <td>1.0</td>\n",
       "      <td>2.0</td>\n",
       "      <td>5.0</td>\n",
       "      <td>1.0</td>\n",
       "      <td>2.0</td>\n",
       "      <td>1.0</td>\n",
       "      <td>-1.0</td>\n",
       "      <td>1.0</td>\n",
       "    </tr>\n",
       "    <tr>\n",
       "      <th>4440</th>\n",
       "      <td>2018.0</td>\n",
       "      <td>1.0</td>\n",
       "      <td>BERMUDA DE MOLETOM</td>\n",
       "      <td>VERBO DIVINO</td>\n",
       "      <td>00</td>\n",
       "      <td>24</td>\n",
       "      <td>11.0</td>\n",
       "      <td>1.0</td>\n",
       "      <td>2.0</td>\n",
       "      <td>2.0</td>\n",
       "      <td>5.0</td>\n",
       "      <td>1.0</td>\n",
       "      <td>19.0</td>\n",
       "      <td>22.0</td>\n",
       "      <td>14.0</td>\n",
       "    </tr>\n",
       "    <tr>\n",
       "      <th>4420</th>\n",
       "      <td>2018.0</td>\n",
       "      <td>1.0</td>\n",
       "      <td>BERMUDA DE MOLETOM</td>\n",
       "      <td>ACLIMAÇÃO</td>\n",
       "      <td>02</td>\n",
       "      <td>24</td>\n",
       "      <td>3.0</td>\n",
       "      <td>2.0</td>\n",
       "      <td>1.0</td>\n",
       "      <td>5.0</td>\n",
       "      <td>1.0</td>\n",
       "      <td>6.0</td>\n",
       "      <td>13.0</td>\n",
       "      <td>-1.0</td>\n",
       "      <td>5.0</td>\n",
       "    </tr>\n",
       "    <tr>\n",
       "      <th>4430</th>\n",
       "      <td>2018.0</td>\n",
       "      <td>1.0</td>\n",
       "      <td>BERMUDA DE MOLETOM</td>\n",
       "      <td>ALDEIA DA SERRA</td>\n",
       "      <td>02</td>\n",
       "      <td>24</td>\n",
       "      <td>2.0</td>\n",
       "      <td>3.0</td>\n",
       "      <td>2.0</td>\n",
       "      <td>4.0</td>\n",
       "      <td>2.0</td>\n",
       "      <td>1.0</td>\n",
       "      <td>8.0</td>\n",
       "      <td>-1.0</td>\n",
       "      <td>4.0</td>\n",
       "    </tr>\n",
       "    <tr>\n",
       "      <th>4441</th>\n",
       "      <td>2018.0</td>\n",
       "      <td>1.0</td>\n",
       "      <td>BERMUDA DE MOLETOM</td>\n",
       "      <td>VERBO DIVINO</td>\n",
       "      <td>02</td>\n",
       "      <td>24</td>\n",
       "      <td>27.0</td>\n",
       "      <td>1.0</td>\n",
       "      <td>1.0</td>\n",
       "      <td>27.0</td>\n",
       "      <td>1.0</td>\n",
       "      <td>2.0</td>\n",
       "      <td>42.0</td>\n",
       "      <td>20.0</td>\n",
       "      <td>27.0</td>\n",
       "    </tr>\n",
       "    <tr>\n",
       "      <th>4421</th>\n",
       "      <td>2018.0</td>\n",
       "      <td>1.0</td>\n",
       "      <td>BERMUDA DE MOLETOM</td>\n",
       "      <td>ACLIMAÇÃO</td>\n",
       "      <td>04</td>\n",
       "      <td>24</td>\n",
       "      <td>9.0</td>\n",
       "      <td>1.0</td>\n",
       "      <td>1.0</td>\n",
       "      <td>29.0</td>\n",
       "      <td>1.0</td>\n",
       "      <td>2.0</td>\n",
       "      <td>23.0</td>\n",
       "      <td>30.0</td>\n",
       "      <td>12.0</td>\n",
       "    </tr>\n",
       "    <tr>\n",
       "      <th>...</th>\n",
       "      <td>...</td>\n",
       "      <td>...</td>\n",
       "      <td>...</td>\n",
       "      <td>...</td>\n",
       "      <td>...</td>\n",
       "      <td>...</td>\n",
       "      <td>...</td>\n",
       "      <td>...</td>\n",
       "      <td>...</td>\n",
       "      <td>...</td>\n",
       "      <td>...</td>\n",
       "      <td>...</td>\n",
       "      <td>...</td>\n",
       "      <td>...</td>\n",
       "      <td>...</td>\n",
       "    </tr>\n",
       "    <tr>\n",
       "      <th>5351</th>\n",
       "      <td>2018.0</td>\n",
       "      <td>5.0</td>\n",
       "      <td>CAMISETA MANGA CURTA</td>\n",
       "      <td>VERBO DIVINO</td>\n",
       "      <td>12</td>\n",
       "      <td>28</td>\n",
       "      <td>36.0</td>\n",
       "      <td>13.0</td>\n",
       "      <td>25.0</td>\n",
       "      <td>2.0</td>\n",
       "      <td>25.0</td>\n",
       "      <td>33.0</td>\n",
       "      <td>313.0</td>\n",
       "      <td>16.0</td>\n",
       "      <td>5.0</td>\n",
       "    </tr>\n",
       "    <tr>\n",
       "      <th>5352</th>\n",
       "      <td>2018.0</td>\n",
       "      <td>5.0</td>\n",
       "      <td>CAMISETA MANGA CURTA</td>\n",
       "      <td>VERBO DIVINO</td>\n",
       "      <td>G</td>\n",
       "      <td>28</td>\n",
       "      <td>4.0</td>\n",
       "      <td>1.0</td>\n",
       "      <td>13.0</td>\n",
       "      <td>6.0</td>\n",
       "      <td>13.0</td>\n",
       "      <td>5.0</td>\n",
       "      <td>50.0</td>\n",
       "      <td>4.0</td>\n",
       "      <td>1.0</td>\n",
       "    </tr>\n",
       "    <tr>\n",
       "      <th>5353</th>\n",
       "      <td>2018.0</td>\n",
       "      <td>5.0</td>\n",
       "      <td>CAMISETA MANGA CURTA</td>\n",
       "      <td>VERBO DIVINO</td>\n",
       "      <td>M</td>\n",
       "      <td>28</td>\n",
       "      <td>2.0</td>\n",
       "      <td>12.0</td>\n",
       "      <td>1.0</td>\n",
       "      <td>1.0</td>\n",
       "      <td>1.0</td>\n",
       "      <td>8.0</td>\n",
       "      <td>123.0</td>\n",
       "      <td>17.0</td>\n",
       "      <td>2.0</td>\n",
       "    </tr>\n",
       "    <tr>\n",
       "      <th>5354</th>\n",
       "      <td>2018.0</td>\n",
       "      <td>5.0</td>\n",
       "      <td>CAMISETA MANGA CURTA</td>\n",
       "      <td>VERBO DIVINO</td>\n",
       "      <td>P</td>\n",
       "      <td>28</td>\n",
       "      <td>24.0</td>\n",
       "      <td>13.0</td>\n",
       "      <td>12.0</td>\n",
       "      <td>1.0</td>\n",
       "      <td>12.0</td>\n",
       "      <td>13.0</td>\n",
       "      <td>101.0</td>\n",
       "      <td>12.0</td>\n",
       "      <td>1.0</td>\n",
       "    </tr>\n",
       "    <tr>\n",
       "      <th>5355</th>\n",
       "      <td>2018.0</td>\n",
       "      <td>5.0</td>\n",
       "      <td>CAMISETA MANGA CURTA</td>\n",
       "      <td>VERBO DIVINO</td>\n",
       "      <td>PP</td>\n",
       "      <td>28</td>\n",
       "      <td>16.0</td>\n",
       "      <td>12.0</td>\n",
       "      <td>13.0</td>\n",
       "      <td>12.0</td>\n",
       "      <td>13.0</td>\n",
       "      <td>15.0</td>\n",
       "      <td>211.0</td>\n",
       "      <td>9.0</td>\n",
       "      <td>5.0</td>\n",
       "    </tr>\n",
       "    <tr>\n",
       "      <th>5356</th>\n",
       "      <td>2018.0</td>\n",
       "      <td>5.0</td>\n",
       "      <td>CAMISETA MANGA LONGA</td>\n",
       "      <td>VERBO DIVINO</td>\n",
       "      <td>00</td>\n",
       "      <td>28</td>\n",
       "      <td>8.0</td>\n",
       "      <td>13.0</td>\n",
       "      <td>1.0</td>\n",
       "      <td>1.0</td>\n",
       "      <td>27.0</td>\n",
       "      <td>2.0</td>\n",
       "      <td>39.0</td>\n",
       "      <td>2.0</td>\n",
       "      <td>3.0</td>\n",
       "    </tr>\n",
       "    <tr>\n",
       "      <th>5357</th>\n",
       "      <td>2018.0</td>\n",
       "      <td>5.0</td>\n",
       "      <td>CAMISETA MANGA LONGA</td>\n",
       "      <td>VERBO DIVINO</td>\n",
       "      <td>02</td>\n",
       "      <td>28</td>\n",
       "      <td>9.0</td>\n",
       "      <td>9.0</td>\n",
       "      <td>19.0</td>\n",
       "      <td>1.0</td>\n",
       "      <td>3.0</td>\n",
       "      <td>1.0</td>\n",
       "      <td>55.0</td>\n",
       "      <td>21.0</td>\n",
       "      <td>3.0</td>\n",
       "    </tr>\n",
       "    <tr>\n",
       "      <th>5358</th>\n",
       "      <td>2018.0</td>\n",
       "      <td>5.0</td>\n",
       "      <td>CAMISETA MANGA LONGA</td>\n",
       "      <td>VERBO DIVINO</td>\n",
       "      <td>04</td>\n",
       "      <td>28</td>\n",
       "      <td>16.0</td>\n",
       "      <td>15.0</td>\n",
       "      <td>27.0</td>\n",
       "      <td>12.0</td>\n",
       "      <td>6.0</td>\n",
       "      <td>19.0</td>\n",
       "      <td>81.0</td>\n",
       "      <td>9.0</td>\n",
       "      <td>4.0</td>\n",
       "    </tr>\n",
       "    <tr>\n",
       "      <th>5359</th>\n",
       "      <td>2018.0</td>\n",
       "      <td>5.0</td>\n",
       "      <td>CAMISETA MANGA LONGA</td>\n",
       "      <td>VERBO DIVINO</td>\n",
       "      <td>06</td>\n",
       "      <td>28</td>\n",
       "      <td>11.0</td>\n",
       "      <td>11.0</td>\n",
       "      <td>6.0</td>\n",
       "      <td>2.0</td>\n",
       "      <td>2.0</td>\n",
       "      <td>27.0</td>\n",
       "      <td>96.0</td>\n",
       "      <td>12.0</td>\n",
       "      <td>5.0</td>\n",
       "    </tr>\n",
       "    <tr>\n",
       "      <th>5360</th>\n",
       "      <td>2018.0</td>\n",
       "      <td>5.0</td>\n",
       "      <td>CAMISETA MANGA LONGA</td>\n",
       "      <td>VERBO DIVINO</td>\n",
       "      <td>08</td>\n",
       "      <td>28</td>\n",
       "      <td>28.0</td>\n",
       "      <td>16.0</td>\n",
       "      <td>2.0</td>\n",
       "      <td>5.0</td>\n",
       "      <td>2.0</td>\n",
       "      <td>6.0</td>\n",
       "      <td>62.0</td>\n",
       "      <td>10.0</td>\n",
       "      <td>6.0</td>\n",
       "    </tr>\n",
       "    <tr>\n",
       "      <th>5361</th>\n",
       "      <td>2018.0</td>\n",
       "      <td>5.0</td>\n",
       "      <td>CAMISETA MANGA LONGA</td>\n",
       "      <td>VERBO DIVINO</td>\n",
       "      <td>10</td>\n",
       "      <td>28</td>\n",
       "      <td>8.0</td>\n",
       "      <td>9.0</td>\n",
       "      <td>13.0</td>\n",
       "      <td>1.0</td>\n",
       "      <td>13.0</td>\n",
       "      <td>3.0</td>\n",
       "      <td>53.0</td>\n",
       "      <td>10.0</td>\n",
       "      <td>10.0</td>\n",
       "    </tr>\n",
       "    <tr>\n",
       "      <th>5362</th>\n",
       "      <td>2018.0</td>\n",
       "      <td>5.0</td>\n",
       "      <td>CAMISETA MANGA LONGA</td>\n",
       "      <td>VERBO DIVINO</td>\n",
       "      <td>12</td>\n",
       "      <td>28</td>\n",
       "      <td>10.0</td>\n",
       "      <td>9.0</td>\n",
       "      <td>9.0</td>\n",
       "      <td>5.0</td>\n",
       "      <td>9.0</td>\n",
       "      <td>2.0</td>\n",
       "      <td>40.0</td>\n",
       "      <td>5.0</td>\n",
       "      <td>4.0</td>\n",
       "    </tr>\n",
       "    <tr>\n",
       "      <th>5363</th>\n",
       "      <td>2018.0</td>\n",
       "      <td>5.0</td>\n",
       "      <td>CORSARIO COTTON</td>\n",
       "      <td>VERBO DIVINO</td>\n",
       "      <td>02</td>\n",
       "      <td>28</td>\n",
       "      <td>4.0</td>\n",
       "      <td>2.0</td>\n",
       "      <td>20.0</td>\n",
       "      <td>1.0</td>\n",
       "      <td>3.0</td>\n",
       "      <td>2.0</td>\n",
       "      <td>13.0</td>\n",
       "      <td>3.0</td>\n",
       "      <td>1.0</td>\n",
       "    </tr>\n",
       "    <tr>\n",
       "      <th>5364</th>\n",
       "      <td>2018.0</td>\n",
       "      <td>5.0</td>\n",
       "      <td>CORSARIO COTTON</td>\n",
       "      <td>VERBO DIVINO</td>\n",
       "      <td>04</td>\n",
       "      <td>28</td>\n",
       "      <td>3.0</td>\n",
       "      <td>3.0</td>\n",
       "      <td>6.0</td>\n",
       "      <td>1.0</td>\n",
       "      <td>1.0</td>\n",
       "      <td>4.0</td>\n",
       "      <td>42.0</td>\n",
       "      <td>2.0</td>\n",
       "      <td>1.0</td>\n",
       "    </tr>\n",
       "    <tr>\n",
       "      <th>5365</th>\n",
       "      <td>2018.0</td>\n",
       "      <td>5.0</td>\n",
       "      <td>CORSARIO COTTON</td>\n",
       "      <td>VERBO DIVINO</td>\n",
       "      <td>06</td>\n",
       "      <td>28</td>\n",
       "      <td>3.0</td>\n",
       "      <td>1.0</td>\n",
       "      <td>2.0</td>\n",
       "      <td>1.0</td>\n",
       "      <td>1.0</td>\n",
       "      <td>13.0</td>\n",
       "      <td>40.0</td>\n",
       "      <td>1.0</td>\n",
       "      <td>1.0</td>\n",
       "    </tr>\n",
       "    <tr>\n",
       "      <th>5366</th>\n",
       "      <td>2018.0</td>\n",
       "      <td>5.0</td>\n",
       "      <td>CORSARIO COTTON</td>\n",
       "      <td>VERBO DIVINO</td>\n",
       "      <td>08</td>\n",
       "      <td>28</td>\n",
       "      <td>4.0</td>\n",
       "      <td>1.0</td>\n",
       "      <td>1.0</td>\n",
       "      <td>1.0</td>\n",
       "      <td>4.0</td>\n",
       "      <td>1.0</td>\n",
       "      <td>14.0</td>\n",
       "      <td>2.0</td>\n",
       "      <td>1.0</td>\n",
       "    </tr>\n",
       "    <tr>\n",
       "      <th>5367</th>\n",
       "      <td>2018.0</td>\n",
       "      <td>5.0</td>\n",
       "      <td>CORSARIO SUPLEX</td>\n",
       "      <td>VERBO DIVINO</td>\n",
       "      <td>10</td>\n",
       "      <td>28</td>\n",
       "      <td>3.0</td>\n",
       "      <td>3.0</td>\n",
       "      <td>5.0</td>\n",
       "      <td>1.0</td>\n",
       "      <td>4.0</td>\n",
       "      <td>3.0</td>\n",
       "      <td>50.0</td>\n",
       "      <td>9.0</td>\n",
       "      <td>1.0</td>\n",
       "    </tr>\n",
       "    <tr>\n",
       "      <th>5368</th>\n",
       "      <td>2018.0</td>\n",
       "      <td>5.0</td>\n",
       "      <td>CORSARIO SUPLEX</td>\n",
       "      <td>VERBO DIVINO</td>\n",
       "      <td>12</td>\n",
       "      <td>28</td>\n",
       "      <td>7.0</td>\n",
       "      <td>7.0</td>\n",
       "      <td>7.0</td>\n",
       "      <td>2.0</td>\n",
       "      <td>3.0</td>\n",
       "      <td>5.0</td>\n",
       "      <td>54.0</td>\n",
       "      <td>6.0</td>\n",
       "      <td>1.0</td>\n",
       "    </tr>\n",
       "    <tr>\n",
       "      <th>5369</th>\n",
       "      <td>2018.0</td>\n",
       "      <td>5.0</td>\n",
       "      <td>CORSARIO SUPLEX</td>\n",
       "      <td>VERBO DIVINO</td>\n",
       "      <td>M</td>\n",
       "      <td>28</td>\n",
       "      <td>2.0</td>\n",
       "      <td>7.0</td>\n",
       "      <td>6.0</td>\n",
       "      <td>1.0</td>\n",
       "      <td>5.0</td>\n",
       "      <td>2.0</td>\n",
       "      <td>12.0</td>\n",
       "      <td>9.0</td>\n",
       "      <td>1.0</td>\n",
       "    </tr>\n",
       "    <tr>\n",
       "      <th>5370</th>\n",
       "      <td>2018.0</td>\n",
       "      <td>5.0</td>\n",
       "      <td>CORSARIO SUPLEX</td>\n",
       "      <td>VERBO DIVINO</td>\n",
       "      <td>P</td>\n",
       "      <td>28</td>\n",
       "      <td>4.0</td>\n",
       "      <td>1.0</td>\n",
       "      <td>3.0</td>\n",
       "      <td>6.0</td>\n",
       "      <td>1.0</td>\n",
       "      <td>1.0</td>\n",
       "      <td>16.0</td>\n",
       "      <td>2.0</td>\n",
       "      <td>1.0</td>\n",
       "    </tr>\n",
       "    <tr>\n",
       "      <th>5371</th>\n",
       "      <td>2018.0</td>\n",
       "      <td>5.0</td>\n",
       "      <td>CORSARIO SUPLEX</td>\n",
       "      <td>VERBO DIVINO</td>\n",
       "      <td>PP</td>\n",
       "      <td>28</td>\n",
       "      <td>4.0</td>\n",
       "      <td>1.0</td>\n",
       "      <td>5.0</td>\n",
       "      <td>3.0</td>\n",
       "      <td>1.0</td>\n",
       "      <td>1.0</td>\n",
       "      <td>29.0</td>\n",
       "      <td>1.0</td>\n",
       "      <td>1.0</td>\n",
       "    </tr>\n",
       "    <tr>\n",
       "      <th>5372</th>\n",
       "      <td>2018.0</td>\n",
       "      <td>5.0</td>\n",
       "      <td>JALECO</td>\n",
       "      <td>VERBO DIVINO</td>\n",
       "      <td>14</td>\n",
       "      <td>28</td>\n",
       "      <td>1.0</td>\n",
       "      <td>4.0</td>\n",
       "      <td>2.0</td>\n",
       "      <td>-1.0</td>\n",
       "      <td>2.0</td>\n",
       "      <td>5.0</td>\n",
       "      <td>11.0</td>\n",
       "      <td>-1.0</td>\n",
       "      <td>1.0</td>\n",
       "    </tr>\n",
       "    <tr>\n",
       "      <th>5373</th>\n",
       "      <td>2018.0</td>\n",
       "      <td>5.0</td>\n",
       "      <td>JALECO</td>\n",
       "      <td>VERBO DIVINO</td>\n",
       "      <td>P</td>\n",
       "      <td>28</td>\n",
       "      <td>1.0</td>\n",
       "      <td>1.0</td>\n",
       "      <td>3.0</td>\n",
       "      <td>2.0</td>\n",
       "      <td>2.0</td>\n",
       "      <td>3.0</td>\n",
       "      <td>9.0</td>\n",
       "      <td>-1.0</td>\n",
       "      <td>1.0</td>\n",
       "    </tr>\n",
       "    <tr>\n",
       "      <th>5374</th>\n",
       "      <td>2018.0</td>\n",
       "      <td>5.0</td>\n",
       "      <td>REGATA</td>\n",
       "      <td>VERBO DIVINO</td>\n",
       "      <td>06</td>\n",
       "      <td>28</td>\n",
       "      <td>1.0</td>\n",
       "      <td>1.0</td>\n",
       "      <td>11.0</td>\n",
       "      <td>1.0</td>\n",
       "      <td>4.0</td>\n",
       "      <td>17.0</td>\n",
       "      <td>19.0</td>\n",
       "      <td>-1.0</td>\n",
       "      <td>1.0</td>\n",
       "    </tr>\n",
       "    <tr>\n",
       "      <th>5375</th>\n",
       "      <td>2018.0</td>\n",
       "      <td>5.0</td>\n",
       "      <td>REGATA</td>\n",
       "      <td>VERBO DIVINO</td>\n",
       "      <td>12</td>\n",
       "      <td>28</td>\n",
       "      <td>3.0</td>\n",
       "      <td>6.0</td>\n",
       "      <td>8.0</td>\n",
       "      <td>-1.0</td>\n",
       "      <td>6.0</td>\n",
       "      <td>6.0</td>\n",
       "      <td>6.0</td>\n",
       "      <td>-1.0</td>\n",
       "      <td>1.0</td>\n",
       "    </tr>\n",
       "    <tr>\n",
       "      <th>5376</th>\n",
       "      <td>2018.0</td>\n",
       "      <td>5.0</td>\n",
       "      <td>SHORT SAIA</td>\n",
       "      <td>VERBO DIVINO</td>\n",
       "      <td>02</td>\n",
       "      <td>28</td>\n",
       "      <td>1.0</td>\n",
       "      <td>2.0</td>\n",
       "      <td>8.0</td>\n",
       "      <td>2.0</td>\n",
       "      <td>1.0</td>\n",
       "      <td>5.0</td>\n",
       "      <td>26.0</td>\n",
       "      <td>3.0</td>\n",
       "      <td>1.0</td>\n",
       "    </tr>\n",
       "    <tr>\n",
       "      <th>5377</th>\n",
       "      <td>2018.0</td>\n",
       "      <td>5.0</td>\n",
       "      <td>SHORT SAIA</td>\n",
       "      <td>VERBO DIVINO</td>\n",
       "      <td>04</td>\n",
       "      <td>28</td>\n",
       "      <td>1.0</td>\n",
       "      <td>3.0</td>\n",
       "      <td>9.0</td>\n",
       "      <td>6.0</td>\n",
       "      <td>10.0</td>\n",
       "      <td>10.0</td>\n",
       "      <td>57.0</td>\n",
       "      <td>12.0</td>\n",
       "      <td>2.0</td>\n",
       "    </tr>\n",
       "    <tr>\n",
       "      <th>5378</th>\n",
       "      <td>2018.0</td>\n",
       "      <td>5.0</td>\n",
       "      <td>SHORT SAIA</td>\n",
       "      <td>VERBO DIVINO</td>\n",
       "      <td>06</td>\n",
       "      <td>28</td>\n",
       "      <td>3.0</td>\n",
       "      <td>2.0</td>\n",
       "      <td>9.0</td>\n",
       "      <td>5.0</td>\n",
       "      <td>5.0</td>\n",
       "      <td>7.0</td>\n",
       "      <td>58.0</td>\n",
       "      <td>2.0</td>\n",
       "      <td>1.0</td>\n",
       "    </tr>\n",
       "    <tr>\n",
       "      <th>5379</th>\n",
       "      <td>2018.0</td>\n",
       "      <td>5.0</td>\n",
       "      <td>SHORT SAIA</td>\n",
       "      <td>VERBO DIVINO</td>\n",
       "      <td>08</td>\n",
       "      <td>28</td>\n",
       "      <td>5.0</td>\n",
       "      <td>2.0</td>\n",
       "      <td>8.0</td>\n",
       "      <td>2.0</td>\n",
       "      <td>4.0</td>\n",
       "      <td>12.0</td>\n",
       "      <td>52.0</td>\n",
       "      <td>8.0</td>\n",
       "      <td>1.0</td>\n",
       "    </tr>\n",
       "    <tr>\n",
       "      <th>5380</th>\n",
       "      <td>2018.0</td>\n",
       "      <td>5.0</td>\n",
       "      <td>SHORT SAIA</td>\n",
       "      <td>VERBO DIVINO</td>\n",
       "      <td>10</td>\n",
       "      <td>28</td>\n",
       "      <td>2.0</td>\n",
       "      <td>1.0</td>\n",
       "      <td>2.0</td>\n",
       "      <td>2.0</td>\n",
       "      <td>7.0</td>\n",
       "      <td>8.0</td>\n",
       "      <td>36.0</td>\n",
       "      <td>3.0</td>\n",
       "      <td>1.0</td>\n",
       "    </tr>\n",
       "  </tbody>\n",
       "</table>\n",
       "<p>985 rows × 15 columns</p>\n",
       "</div>"
      ],
      "text/plain": [
       "         ANO  MES                DESCRICAO             NOME TAMANHO  \\\n",
       "4399  2018.0  1.0  BERMUDA CICLISTA COTTON  ALDEIA DA SERRA      02   \n",
       "4402  2018.0  1.0  BERMUDA CICLISTA COTTON     VERBO DIVINO      02   \n",
       "4396  2018.0  1.0  BERMUDA CICLISTA COTTON        ACLIMAÇÃO      04   \n",
       "4400  2018.0  1.0  BERMUDA CICLISTA COTTON  ALDEIA DA SERRA      04   \n",
       "4403  2018.0  1.0  BERMUDA CICLISTA COTTON     VERBO DIVINO      04   \n",
       "4397  2018.0  1.0  BERMUDA CICLISTA COTTON        ACLIMAÇÃO      06   \n",
       "4401  2018.0  1.0  BERMUDA CICLISTA COTTON  ALDEIA DA SERRA      06   \n",
       "4404  2018.0  1.0  BERMUDA CICLISTA COTTON     VERBO DIVINO      06   \n",
       "4398  2018.0  1.0  BERMUDA CICLISTA COTTON        ACLIMAÇÃO      08   \n",
       "4405  2018.0  1.0  BERMUDA CICLISTA COTTON     VERBO DIVINO      08   \n",
       "4406  2018.0  1.0  BERMUDA CICLISTA SUPLEX        ACLIMAÇÃO      10   \n",
       "4413  2018.0  1.0  BERMUDA CICLISTA SUPLEX     VERBO DIVINO      10   \n",
       "4407  2018.0  1.0  BERMUDA CICLISTA SUPLEX        ACLIMAÇÃO      12   \n",
       "4410  2018.0  1.0  BERMUDA CICLISTA SUPLEX  ALDEIA DA SERRA      12   \n",
       "4411  2018.0  1.0  BERMUDA CICLISTA SUPLEX            ITAIM      12   \n",
       "4414  2018.0  1.0  BERMUDA CICLISTA SUPLEX     VERBO DIVINO      12   \n",
       "4415  2018.0  1.0  BERMUDA CICLISTA SUPLEX     VERBO DIVINO       G   \n",
       "4412  2018.0  1.0  BERMUDA CICLISTA SUPLEX            ITAIM       M   \n",
       "4416  2018.0  1.0  BERMUDA CICLISTA SUPLEX     VERBO DIVINO       M   \n",
       "4408  2018.0  1.0  BERMUDA CICLISTA SUPLEX        ACLIMAÇÃO       P   \n",
       "4417  2018.0  1.0  BERMUDA CICLISTA SUPLEX     VERBO DIVINO       P   \n",
       "4409  2018.0  1.0  BERMUDA CICLISTA SUPLEX        ACLIMAÇÃO      PP   \n",
       "4418  2018.0  1.0  BERMUDA CICLISTA SUPLEX     VERBO DIVINO      PP   \n",
       "4419  2018.0  1.0       BERMUDA DE MOLETOM        ACLIMAÇÃO      00   \n",
       "4429  2018.0  1.0       BERMUDA DE MOLETOM  ALDEIA DA SERRA      00   \n",
       "4440  2018.0  1.0       BERMUDA DE MOLETOM     VERBO DIVINO      00   \n",
       "4420  2018.0  1.0       BERMUDA DE MOLETOM        ACLIMAÇÃO      02   \n",
       "4430  2018.0  1.0       BERMUDA DE MOLETOM  ALDEIA DA SERRA      02   \n",
       "4441  2018.0  1.0       BERMUDA DE MOLETOM     VERBO DIVINO      02   \n",
       "4421  2018.0  1.0       BERMUDA DE MOLETOM        ACLIMAÇÃO      04   \n",
       "...      ...  ...                      ...              ...     ...   \n",
       "5351  2018.0  5.0     CAMISETA MANGA CURTA     VERBO DIVINO      12   \n",
       "5352  2018.0  5.0     CAMISETA MANGA CURTA     VERBO DIVINO       G   \n",
       "5353  2018.0  5.0     CAMISETA MANGA CURTA     VERBO DIVINO       M   \n",
       "5354  2018.0  5.0     CAMISETA MANGA CURTA     VERBO DIVINO       P   \n",
       "5355  2018.0  5.0     CAMISETA MANGA CURTA     VERBO DIVINO      PP   \n",
       "5356  2018.0  5.0     CAMISETA MANGA LONGA     VERBO DIVINO      00   \n",
       "5357  2018.0  5.0     CAMISETA MANGA LONGA     VERBO DIVINO      02   \n",
       "5358  2018.0  5.0     CAMISETA MANGA LONGA     VERBO DIVINO      04   \n",
       "5359  2018.0  5.0     CAMISETA MANGA LONGA     VERBO DIVINO      06   \n",
       "5360  2018.0  5.0     CAMISETA MANGA LONGA     VERBO DIVINO      08   \n",
       "5361  2018.0  5.0     CAMISETA MANGA LONGA     VERBO DIVINO      10   \n",
       "5362  2018.0  5.0     CAMISETA MANGA LONGA     VERBO DIVINO      12   \n",
       "5363  2018.0  5.0          CORSARIO COTTON     VERBO DIVINO      02   \n",
       "5364  2018.0  5.0          CORSARIO COTTON     VERBO DIVINO      04   \n",
       "5365  2018.0  5.0          CORSARIO COTTON     VERBO DIVINO      06   \n",
       "5366  2018.0  5.0          CORSARIO COTTON     VERBO DIVINO      08   \n",
       "5367  2018.0  5.0          CORSARIO SUPLEX     VERBO DIVINO      10   \n",
       "5368  2018.0  5.0          CORSARIO SUPLEX     VERBO DIVINO      12   \n",
       "5369  2018.0  5.0          CORSARIO SUPLEX     VERBO DIVINO       M   \n",
       "5370  2018.0  5.0          CORSARIO SUPLEX     VERBO DIVINO       P   \n",
       "5371  2018.0  5.0          CORSARIO SUPLEX     VERBO DIVINO      PP   \n",
       "5372  2018.0  5.0                   JALECO     VERBO DIVINO      14   \n",
       "5373  2018.0  5.0                   JALECO     VERBO DIVINO       P   \n",
       "5374  2018.0  5.0                   REGATA     VERBO DIVINO      06   \n",
       "5375  2018.0  5.0                   REGATA     VERBO DIVINO      12   \n",
       "5376  2018.0  5.0               SHORT SAIA     VERBO DIVINO      02   \n",
       "5377  2018.0  5.0               SHORT SAIA     VERBO DIVINO      04   \n",
       "5378  2018.0  5.0               SHORT SAIA     VERBO DIVINO      06   \n",
       "5379  2018.0  5.0               SHORT SAIA     VERBO DIVINO      08   \n",
       "5380  2018.0  5.0               SHORT SAIA     VERBO DIVINO      10   \n",
       "\n",
       "      DATE_BLOCK  QUANTIDADE  last_month  last_period_product  \\\n",
       "4399          24         1.0         1.0                  1.0   \n",
       "4402          24         3.0         5.0                  5.0   \n",
       "4396          24         8.0         1.0                  6.0   \n",
       "4400          24         1.0         3.0                  1.0   \n",
       "4403          24        13.0         5.0                  3.0   \n",
       "4397          24        12.0         1.0                  5.0   \n",
       "4401          24         2.0         1.0                  1.0   \n",
       "4404          24        20.0         1.0                  1.0   \n",
       "4398          24         8.0         2.0                 13.0   \n",
       "4405          24        13.0         3.0                  1.0   \n",
       "4406          24        12.0         1.0                  1.0   \n",
       "4413          24         8.0         6.0                  2.0   \n",
       "4407          24         5.0         3.0                  2.0   \n",
       "4410          24         6.0         1.0                  3.0   \n",
       "4411          24         2.0         3.0                  1.0   \n",
       "4414          24        16.0         1.0                  2.0   \n",
       "4415          24         1.0        -1.0                  4.0   \n",
       "4412          24         1.0         1.0                  1.0   \n",
       "4416          24         4.0         1.0                  1.0   \n",
       "4408          24         1.0         2.0                  2.0   \n",
       "4417          24         2.0         1.0                  2.0   \n",
       "4409          24         3.0         2.0                  1.0   \n",
       "4418          24         8.0         2.0                  1.0   \n",
       "4419          24         5.0         8.0                  1.0   \n",
       "4429          24         3.0         1.0                  2.0   \n",
       "4440          24        11.0         1.0                  2.0   \n",
       "4420          24         3.0         2.0                  1.0   \n",
       "4430          24         2.0         3.0                  2.0   \n",
       "4441          24        27.0         1.0                  1.0   \n",
       "4421          24         9.0         1.0                  1.0   \n",
       "...          ...         ...         ...                  ...   \n",
       "5351          28        36.0        13.0                 25.0   \n",
       "5352          28         4.0         1.0                 13.0   \n",
       "5353          28         2.0        12.0                  1.0   \n",
       "5354          28        24.0        13.0                 12.0   \n",
       "5355          28        16.0        12.0                 13.0   \n",
       "5356          28         8.0        13.0                  1.0   \n",
       "5357          28         9.0         9.0                 19.0   \n",
       "5358          28        16.0        15.0                 27.0   \n",
       "5359          28        11.0        11.0                  6.0   \n",
       "5360          28        28.0        16.0                  2.0   \n",
       "5361          28         8.0         9.0                 13.0   \n",
       "5362          28        10.0         9.0                  9.0   \n",
       "5363          28         4.0         2.0                 20.0   \n",
       "5364          28         3.0         3.0                  6.0   \n",
       "5365          28         3.0         1.0                  2.0   \n",
       "5366          28         4.0         1.0                  1.0   \n",
       "5367          28         3.0         3.0                  5.0   \n",
       "5368          28         7.0         7.0                  7.0   \n",
       "5369          28         2.0         7.0                  6.0   \n",
       "5370          28         4.0         1.0                  3.0   \n",
       "5371          28         4.0         1.0                  5.0   \n",
       "5372          28         1.0         4.0                  2.0   \n",
       "5373          28         1.0         1.0                  3.0   \n",
       "5374          28         1.0         1.0                 11.0   \n",
       "5375          28         3.0         6.0                  8.0   \n",
       "5376          28         1.0         2.0                  8.0   \n",
       "5377          28         1.0         3.0                  9.0   \n",
       "5378          28         3.0         2.0                  9.0   \n",
       "5379          28         5.0         2.0                  8.0   \n",
       "5380          28         2.0         1.0                  2.0   \n",
       "\n",
       "      last_period_store  last_period_all  last_2_month  last_year  unana  \\\n",
       "4399                1.0              1.0           1.0        2.0   -1.0   \n",
       "4402                2.0              1.0           1.0        5.0   -1.0   \n",
       "4396                2.0              1.0           3.0        9.0   -1.0   \n",
       "4400               17.0              2.0           1.0        6.0   -1.0   \n",
       "4403                3.0              1.0           1.0       33.0   -1.0   \n",
       "4397                1.0              1.0          13.0       14.0   -1.0   \n",
       "4401                1.0              1.0           1.0        1.0   -1.0   \n",
       "4404               13.0              1.0           3.0       27.0   -1.0   \n",
       "4398                2.0              3.0           2.0        4.0   -1.0   \n",
       "4405                6.0              2.0           1.0       34.0    6.0   \n",
       "4406                9.0              1.0           4.0       11.0   -1.0   \n",
       "4413               27.0              2.0           1.0       52.0   11.0   \n",
       "4407                1.0              1.0           1.0        4.0   -1.0   \n",
       "4410                1.0              1.0          -1.0       -1.0   -1.0   \n",
       "4411                5.0              2.0           5.0        8.0   -1.0   \n",
       "4414               19.0              1.0           1.0       38.0    3.0   \n",
       "4415               -1.0              1.0          -1.0       -1.0   -1.0   \n",
       "4412                1.0              1.0           1.0        4.0   -1.0   \n",
       "4416                4.0              1.0           2.0        7.0   -1.0   \n",
       "4408                2.0              2.0          -1.0       -1.0   -1.0   \n",
       "4417                1.0              6.0           9.0       10.0   -1.0   \n",
       "4409                3.0              1.0           1.0        3.0   -1.0   \n",
       "4418                1.0             12.0           9.0       24.0   -1.0   \n",
       "4419                2.0              1.0           5.0        8.0   -1.0   \n",
       "4429                5.0              1.0           2.0        1.0   -1.0   \n",
       "4440                2.0              5.0           1.0       19.0   22.0   \n",
       "4420                5.0              1.0           6.0       13.0   -1.0   \n",
       "4430                4.0              2.0           1.0        8.0   -1.0   \n",
       "4441               27.0              1.0           2.0       42.0   20.0   \n",
       "4421               29.0              1.0           2.0       23.0   30.0   \n",
       "...                 ...              ...           ...        ...    ...   \n",
       "5351                2.0             25.0          33.0      313.0   16.0   \n",
       "5352                6.0             13.0           5.0       50.0    4.0   \n",
       "5353                1.0              1.0           8.0      123.0   17.0   \n",
       "5354                1.0             12.0          13.0      101.0   12.0   \n",
       "5355               12.0             13.0          15.0      211.0    9.0   \n",
       "5356                1.0             27.0           2.0       39.0    2.0   \n",
       "5357                1.0              3.0           1.0       55.0   21.0   \n",
       "5358               12.0              6.0          19.0       81.0    9.0   \n",
       "5359                2.0              2.0          27.0       96.0   12.0   \n",
       "5360                5.0              2.0           6.0       62.0   10.0   \n",
       "5361                1.0             13.0           3.0       53.0   10.0   \n",
       "5362                5.0              9.0           2.0       40.0    5.0   \n",
       "5363                1.0              3.0           2.0       13.0    3.0   \n",
       "5364                1.0              1.0           4.0       42.0    2.0   \n",
       "5365                1.0              1.0          13.0       40.0    1.0   \n",
       "5366                1.0              4.0           1.0       14.0    2.0   \n",
       "5367                1.0              4.0           3.0       50.0    9.0   \n",
       "5368                2.0              3.0           5.0       54.0    6.0   \n",
       "5369                1.0              5.0           2.0       12.0    9.0   \n",
       "5370                6.0              1.0           1.0       16.0    2.0   \n",
       "5371                3.0              1.0           1.0       29.0    1.0   \n",
       "5372               -1.0              2.0           5.0       11.0   -1.0   \n",
       "5373                2.0              2.0           3.0        9.0   -1.0   \n",
       "5374                1.0              4.0          17.0       19.0   -1.0   \n",
       "5375               -1.0              6.0           6.0        6.0   -1.0   \n",
       "5376                2.0              1.0           5.0       26.0    3.0   \n",
       "5377                6.0             10.0          10.0       57.0   12.0   \n",
       "5378                5.0              5.0           7.0       58.0    2.0   \n",
       "5379                2.0              4.0          12.0       52.0    8.0   \n",
       "5380                2.0              7.0           8.0       36.0    3.0   \n",
       "\n",
       "      media_sazonal  \n",
       "4399            1.0  \n",
       "4402            5.0  \n",
       "4396            5.0  \n",
       "4400            1.0  \n",
       "4403           17.0  \n",
       "4397           13.0  \n",
       "4401            1.0  \n",
       "4404           17.0  \n",
       "4398            2.0  \n",
       "4405           23.0  \n",
       "4406            6.0  \n",
       "4413           27.0  \n",
       "4407            1.0  \n",
       "4410            1.0  \n",
       "4411            5.0  \n",
       "4414           19.0  \n",
       "4415            1.0  \n",
       "4412            1.0  \n",
       "4416            4.0  \n",
       "4408            1.0  \n",
       "4417            9.0  \n",
       "4409            1.0  \n",
       "4418           13.0  \n",
       "4419            8.0  \n",
       "4429            1.0  \n",
       "4440           14.0  \n",
       "4420            5.0  \n",
       "4430            4.0  \n",
       "4441           27.0  \n",
       "4421           12.0  \n",
       "...             ...  \n",
       "5351            5.0  \n",
       "5352            1.0  \n",
       "5353            2.0  \n",
       "5354            1.0  \n",
       "5355            5.0  \n",
       "5356            3.0  \n",
       "5357            3.0  \n",
       "5358            4.0  \n",
       "5359            5.0  \n",
       "5360            6.0  \n",
       "5361           10.0  \n",
       "5362            4.0  \n",
       "5363            1.0  \n",
       "5364            1.0  \n",
       "5365            1.0  \n",
       "5366            1.0  \n",
       "5367            1.0  \n",
       "5368            1.0  \n",
       "5369            1.0  \n",
       "5370            1.0  \n",
       "5371            1.0  \n",
       "5372            1.0  \n",
       "5373            1.0  \n",
       "5374            1.0  \n",
       "5375            1.0  \n",
       "5376            1.0  \n",
       "5377            2.0  \n",
       "5378            1.0  \n",
       "5379            1.0  \n",
       "5380            1.0  \n",
       "\n",
       "[985 rows x 15 columns]"
      ]
     },
     "execution_count": 2372,
     "metadata": {},
     "output_type": "execute_result"
    }
   ],
   "source": [
    "df[df.ANO == 2018]"
   ]
  },
  {
   "cell_type": "code",
   "execution_count": 2356,
   "metadata": {
    "collapsed": true
   },
   "outputs": [],
   "source": [
    "media_sazonal = validacao.unique_id.apply(lambda u: bench(u, b_1))"
   ]
  },
  {
   "cell_type": "code",
   "execution_count": 2299,
   "metadata": {
    "collapsed": true
   },
   "outputs": [],
   "source": [
    "ultimo_ano = validacao.unique_id.apply(lambda u: bench(u, b_2))"
   ]
  },
  {
   "cell_type": "code",
   "execution_count": 2375,
   "metadata": {},
   "outputs": [
    {
     "data": {
      "text/plain": [
       "281.4020304568528"
      ]
     },
     "execution_count": 2375,
     "metadata": {},
     "output_type": "execute_result"
    }
   ],
   "source": [
    "mean_squared_error(validacao.QUANTIDADE.values, df[df.ANO == 2018]['unana'])"
   ]
  },
  {
   "cell_type": "code",
   "execution_count": 2301,
   "metadata": {},
   "outputs": [
    {
     "data": {
      "text/plain": [
       "64.127918781725882"
      ]
     },
     "execution_count": 2301,
     "metadata": {},
     "output_type": "execute_result"
    }
   ],
   "source": [
    "mean_squared_error(validacao.QUANTIDADE.values, ultimo_ano)"
   ]
  },
  {
   "cell_type": "code",
   "execution_count": 2302,
   "metadata": {},
   "outputs": [
    {
     "data": {
      "text/html": [
       "<div>\n",
       "<style>\n",
       "    .dataframe thead tr:only-child th {\n",
       "        text-align: right;\n",
       "    }\n",
       "\n",
       "    .dataframe thead th {\n",
       "        text-align: left;\n",
       "    }\n",
       "\n",
       "    .dataframe tbody tr th {\n",
       "        vertical-align: top;\n",
       "    }\n",
       "</style>\n",
       "<table border=\"1\" class=\"dataframe\">\n",
       "  <thead>\n",
       "    <tr style=\"text-align: right;\">\n",
       "      <th></th>\n",
       "      <th>X Real</th>\n",
       "      <th>Y RF</th>\n",
       "      <th>Z Media sazonal</th>\n",
       "    </tr>\n",
       "  </thead>\n",
       "  <tbody>\n",
       "    <tr>\n",
       "      <th>5376</th>\n",
       "      <td>1.0</td>\n",
       "      <td>3.0</td>\n",
       "      <td>1.0</td>\n",
       "    </tr>\n",
       "    <tr>\n",
       "      <th>5377</th>\n",
       "      <td>1.0</td>\n",
       "      <td>4.0</td>\n",
       "      <td>3.5</td>\n",
       "    </tr>\n",
       "    <tr>\n",
       "      <th>5378</th>\n",
       "      <td>3.0</td>\n",
       "      <td>4.0</td>\n",
       "      <td>2.0</td>\n",
       "    </tr>\n",
       "    <tr>\n",
       "      <th>5379</th>\n",
       "      <td>5.0</td>\n",
       "      <td>3.0</td>\n",
       "      <td>1.0</td>\n",
       "    </tr>\n",
       "    <tr>\n",
       "      <th>5380</th>\n",
       "      <td>2.0</td>\n",
       "      <td>3.0</td>\n",
       "      <td>1.0</td>\n",
       "    </tr>\n",
       "  </tbody>\n",
       "</table>\n",
       "</div>"
      ],
      "text/plain": [
       "      X Real  Y RF  Z Media sazonal\n",
       "5376     1.0   3.0              1.0\n",
       "5377     1.0   4.0              3.5\n",
       "5378     3.0   4.0              2.0\n",
       "5379     5.0   3.0              1.0\n",
       "5380     2.0   3.0              1.0"
      ]
     },
     "execution_count": 2302,
     "metadata": {},
     "output_type": "execute_result"
    }
   ],
   "source": [
    "pd.DataFrame({\n",
    "    'X Real' : validacao.QUANTIDADE,\n",
    "    'Y RF' : np.round((y_rf + y_ext)/2),\n",
    "    'Z Media sazonal': media_sazonal\n",
    "}).tail()"
   ]
  },
  {
   "cell_type": "code",
   "execution_count": 2303,
   "metadata": {
    "collapsed": true
   },
   "outputs": [],
   "source": [
    "validacao = df[df.ANO >= 2018]"
   ]
  },
  {
   "cell_type": "code",
   "execution_count": 2304,
   "metadata": {
    "collapsed": true
   },
   "outputs": [],
   "source": [
    "validacao['Y RF'] = (y_rf + y_ext)/2"
   ]
  },
  {
   "cell_type": "code",
   "execution_count": 2305,
   "metadata": {
    "collapsed": true
   },
   "outputs": [],
   "source": [
    "validacao['Z Media sazonal'] = media_sazonal"
   ]
  },
  {
   "cell_type": "code",
   "execution_count": null,
   "metadata": {
    "collapsed": true
   },
   "outputs": [],
   "source": []
  }
 ],
 "metadata": {
  "kernelspec": {
   "display_name": "Python 3",
   "language": "python",
   "name": "python3"
  },
  "language_info": {
   "codemirror_mode": {
    "name": "ipython",
    "version": 3
   },
   "file_extension": ".py",
   "mimetype": "text/x-python",
   "name": "python",
   "nbconvert_exporter": "python",
   "pygments_lexer": "ipython3",
   "version": "3.6.3"
  }
 },
 "nbformat": 4,
 "nbformat_minor": 2
}
