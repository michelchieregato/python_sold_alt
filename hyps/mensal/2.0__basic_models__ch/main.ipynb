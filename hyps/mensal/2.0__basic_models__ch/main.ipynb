{
 "cells": [
  {
   "cell_type": "markdown",
   "metadata": {},
   "source": [
    "# DATA"
   ]
  },
  {
   "cell_type": "code",
   "execution_count": 1,
   "metadata": {},
   "outputs": [],
   "source": [
    "import numpy as np\n",
    "import pandas as pd"
   ]
  },
  {
   "cell_type": "code",
   "execution_count": 2,
   "metadata": {},
   "outputs": [],
   "source": [
    "vendas = pd.read_csv('../../../data/interim/Vendas.csv', encoding='ISO-8859-1')"
   ]
  },
  {
   "cell_type": "code",
   "execution_count": 3,
   "metadata": {},
   "outputs": [
    {
     "data": {
      "text/html": [
       "<div>\n",
       "<style scoped>\n",
       "    .dataframe tbody tr th:only-of-type {\n",
       "        vertical-align: middle;\n",
       "    }\n",
       "\n",
       "    .dataframe tbody tr th {\n",
       "        vertical-align: top;\n",
       "    }\n",
       "\n",
       "    .dataframe thead th {\n",
       "        text-align: right;\n",
       "    }\n",
       "</style>\n",
       "<table border=\"1\" class=\"dataframe\">\n",
       "  <thead>\n",
       "    <tr style=\"text-align: right;\">\n",
       "      <th></th>\n",
       "      <th>ANO</th>\n",
       "      <th>DESCRICAO</th>\n",
       "      <th>DIA</th>\n",
       "      <th>HORA</th>\n",
       "      <th>MES</th>\n",
       "      <th>NOME</th>\n",
       "      <th>QUANTIDADE</th>\n",
       "      <th>TAMANHO</th>\n",
       "      <th>VLR_UNIT</th>\n",
       "    </tr>\n",
       "  </thead>\n",
       "  <tbody>\n",
       "    <tr>\n",
       "      <th>0</th>\n",
       "      <td>2016.0</td>\n",
       "      <td>CAMISETA MANGA CURTA</td>\n",
       "      <td>12.0</td>\n",
       "      <td>14:54</td>\n",
       "      <td>1.0</td>\n",
       "      <td>VERBO DIVINO</td>\n",
       "      <td>7.0</td>\n",
       "      <td>00</td>\n",
       "      <td>35.5</td>\n",
       "    </tr>\n",
       "    <tr>\n",
       "      <th>1</th>\n",
       "      <td>2016.0</td>\n",
       "      <td>BERMUDA CICLISTA COTTON</td>\n",
       "      <td>12.0</td>\n",
       "      <td>15:08</td>\n",
       "      <td>1.0</td>\n",
       "      <td>VERBO DIVINO</td>\n",
       "      <td>1.0</td>\n",
       "      <td>08</td>\n",
       "      <td>51.0</td>\n",
       "    </tr>\n",
       "    <tr>\n",
       "      <th>2</th>\n",
       "      <td>2016.0</td>\n",
       "      <td>CAMISETA MANGA CURTA</td>\n",
       "      <td>12.0</td>\n",
       "      <td>15:08</td>\n",
       "      <td>1.0</td>\n",
       "      <td>VERBO DIVINO</td>\n",
       "      <td>5.0</td>\n",
       "      <td>PP</td>\n",
       "      <td>37.5</td>\n",
       "    </tr>\n",
       "    <tr>\n",
       "      <th>3</th>\n",
       "      <td>2016.0</td>\n",
       "      <td>BLUSA MOLETOM FLANELADA</td>\n",
       "      <td>12.0</td>\n",
       "      <td>15:27</td>\n",
       "      <td>1.0</td>\n",
       "      <td>VERBO DIVINO</td>\n",
       "      <td>1.0</td>\n",
       "      <td>M</td>\n",
       "      <td>115.0</td>\n",
       "    </tr>\n",
       "    <tr>\n",
       "      <th>4</th>\n",
       "      <td>2016.0</td>\n",
       "      <td>CALÇA SARJA MASC</td>\n",
       "      <td>12.0</td>\n",
       "      <td>15:27</td>\n",
       "      <td>1.0</td>\n",
       "      <td>VERBO DIVINO</td>\n",
       "      <td>1.0</td>\n",
       "      <td>GG</td>\n",
       "      <td>116.0</td>\n",
       "    </tr>\n",
       "  </tbody>\n",
       "</table>\n",
       "</div>"
      ],
      "text/plain": [
       "      ANO                DESCRICAO   DIA   HORA  MES          NOME  \\\n",
       "0  2016.0     CAMISETA MANGA CURTA  12.0  14:54  1.0  VERBO DIVINO   \n",
       "1  2016.0  BERMUDA CICLISTA COTTON  12.0  15:08  1.0  VERBO DIVINO   \n",
       "2  2016.0     CAMISETA MANGA CURTA  12.0  15:08  1.0  VERBO DIVINO   \n",
       "3  2016.0  BLUSA MOLETOM FLANELADA  12.0  15:27  1.0  VERBO DIVINO   \n",
       "4  2016.0         CALÇA SARJA MASC  12.0  15:27  1.0  VERBO DIVINO   \n",
       "\n",
       "   QUANTIDADE TAMANHO  VLR_UNIT  \n",
       "0         7.0      00      35.5  \n",
       "1         1.0      08      51.0  \n",
       "2         5.0      PP      37.5  \n",
       "3         1.0       M     115.0  \n",
       "4         1.0      GG     116.0  "
      ]
     },
     "execution_count": 3,
     "metadata": {},
     "output_type": "execute_result"
    }
   ],
   "source": [
    "vendas = vendas.replace(['ST', 'CORSÁRIO SUPLEX', 'ESP', 'ESPECIAL'], ['00','CORSARIO SUPLEX', 'GG', 'GG'])\n",
    "vendas.head()"
   ]
  },
  {
   "cell_type": "code",
   "execution_count": 4,
   "metadata": {},
   "outputs": [],
   "source": [
    "a = vendas.groupby(['ANO', 'MES', 'DESCRICAO', 'NOME', 'TAMANHO'])"
   ]
  },
  {
   "cell_type": "code",
   "execution_count": 5,
   "metadata": {},
   "outputs": [],
   "source": [
    "df = a.sum().reset_index().drop(['DIA', 'VLR_UNIT'], 1)\n",
    "df = df.sort_values(by=['ANO','MES', 'DESCRICAO', 'TAMANHO', 'NOME'])"
   ]
  },
  {
   "cell_type": "code",
   "execution_count": 6,
   "metadata": {},
   "outputs": [],
   "source": [
    "df_vlr_unit = vendas.groupby(['ANO', 'MES', 'DESCRICAO', 'NOME', 'TAMANHO']).mean()\n",
    "df = df.merge(df_vlr_unit.drop(['QUANTIDADE', 'DIA'], axis=1), on=['ANO', 'MES', 'DESCRICAO', 'NOME', 'TAMANHO'], how='left')"
   ]
  },
  {
   "cell_type": "code",
   "execution_count": 7,
   "metadata": {},
   "outputs": [],
   "source": [
    "cols = df.columns.tolist()\n",
    "y = cols.index('QUANTIDADE')\n",
    "cols = cols[:y] + cols[y+1:] + ['QUANTIDADE']\n",
    "df = df[cols]"
   ]
  },
  {
   "cell_type": "code",
   "execution_count": 8,
   "metadata": {},
   "outputs": [
    {
     "data": {
      "text/html": [
       "<div>\n",
       "<style scoped>\n",
       "    .dataframe tbody tr th:only-of-type {\n",
       "        vertical-align: middle;\n",
       "    }\n",
       "\n",
       "    .dataframe tbody tr th {\n",
       "        vertical-align: top;\n",
       "    }\n",
       "\n",
       "    .dataframe thead th {\n",
       "        text-align: right;\n",
       "    }\n",
       "</style>\n",
       "<table border=\"1\" class=\"dataframe\">\n",
       "  <thead>\n",
       "    <tr style=\"text-align: right;\">\n",
       "      <th></th>\n",
       "      <th>ANO</th>\n",
       "      <th>MES</th>\n",
       "      <th>DESCRICAO</th>\n",
       "      <th>NOME</th>\n",
       "      <th>TAMANHO</th>\n",
       "      <th>VLR_UNIT</th>\n",
       "      <th>QUANTIDADE</th>\n",
       "    </tr>\n",
       "  </thead>\n",
       "  <tbody>\n",
       "    <tr>\n",
       "      <th>0</th>\n",
       "      <td>2016.0</td>\n",
       "      <td>1.0</td>\n",
       "      <td>BERMUDA CICLISTA COLEGIAL</td>\n",
       "      <td>VERBO DIVINO</td>\n",
       "      <td>M</td>\n",
       "      <td>57.5</td>\n",
       "      <td>1.0</td>\n",
       "    </tr>\n",
       "    <tr>\n",
       "      <th>1</th>\n",
       "      <td>2016.0</td>\n",
       "      <td>1.0</td>\n",
       "      <td>BERMUDA CICLISTA COLEGIAL</td>\n",
       "      <td>ALDEIA DA SERRA</td>\n",
       "      <td>P</td>\n",
       "      <td>57.5</td>\n",
       "      <td>1.0</td>\n",
       "    </tr>\n",
       "    <tr>\n",
       "      <th>2</th>\n",
       "      <td>2016.0</td>\n",
       "      <td>1.0</td>\n",
       "      <td>BERMUDA CICLISTA COLEGIAL</td>\n",
       "      <td>VERBO DIVINO</td>\n",
       "      <td>P</td>\n",
       "      <td>57.5</td>\n",
       "      <td>1.0</td>\n",
       "    </tr>\n",
       "    <tr>\n",
       "      <th>3</th>\n",
       "      <td>2016.0</td>\n",
       "      <td>1.0</td>\n",
       "      <td>BERMUDA CICLISTA COLEGIAL</td>\n",
       "      <td>ALDEIA DA SERRA</td>\n",
       "      <td>PP</td>\n",
       "      <td>57.5</td>\n",
       "      <td>1.0</td>\n",
       "    </tr>\n",
       "    <tr>\n",
       "      <th>4</th>\n",
       "      <td>2016.0</td>\n",
       "      <td>1.0</td>\n",
       "      <td>BERMUDA CICLISTA COLEGIAL</td>\n",
       "      <td>ITAIM</td>\n",
       "      <td>PP</td>\n",
       "      <td>57.5</td>\n",
       "      <td>1.0</td>\n",
       "    </tr>\n",
       "  </tbody>\n",
       "</table>\n",
       "</div>"
      ],
      "text/plain": [
       "      ANO  MES                  DESCRICAO             NOME TAMANHO  VLR_UNIT  \\\n",
       "0  2016.0  1.0  BERMUDA CICLISTA COLEGIAL     VERBO DIVINO       M      57.5   \n",
       "1  2016.0  1.0  BERMUDA CICLISTA COLEGIAL  ALDEIA DA SERRA       P      57.5   \n",
       "2  2016.0  1.0  BERMUDA CICLISTA COLEGIAL     VERBO DIVINO       P      57.5   \n",
       "3  2016.0  1.0  BERMUDA CICLISTA COLEGIAL  ALDEIA DA SERRA      PP      57.5   \n",
       "4  2016.0  1.0  BERMUDA CICLISTA COLEGIAL            ITAIM      PP      57.5   \n",
       "\n",
       "   QUANTIDADE  \n",
       "0         1.0  \n",
       "1         1.0  \n",
       "2         1.0  \n",
       "3         1.0  \n",
       "4         1.0  "
      ]
     },
     "execution_count": 8,
     "metadata": {},
     "output_type": "execute_result"
    }
   ],
   "source": [
    "df.head()"
   ]
  },
  {
   "cell_type": "code",
   "execution_count": 9,
   "metadata": {},
   "outputs": [
    {
     "data": {
      "text/html": [
       "<div>\n",
       "<style scoped>\n",
       "    .dataframe tbody tr th:only-of-type {\n",
       "        vertical-align: middle;\n",
       "    }\n",
       "\n",
       "    .dataframe tbody tr th {\n",
       "        vertical-align: top;\n",
       "    }\n",
       "\n",
       "    .dataframe thead th {\n",
       "        text-align: right;\n",
       "    }\n",
       "</style>\n",
       "<table border=\"1\" class=\"dataframe\">\n",
       "  <thead>\n",
       "    <tr style=\"text-align: right;\">\n",
       "      <th></th>\n",
       "      <th>ANO</th>\n",
       "      <th>MES</th>\n",
       "      <th>DESCRICAO</th>\n",
       "      <th>NOME</th>\n",
       "      <th>TAMANHO</th>\n",
       "      <th>VLR_UNIT</th>\n",
       "      <th>QUANTIDADE</th>\n",
       "    </tr>\n",
       "  </thead>\n",
       "  <tbody>\n",
       "    <tr>\n",
       "      <th>0</th>\n",
       "      <td>2016.0</td>\n",
       "      <td>1.0</td>\n",
       "      <td>BERMUDA CICLISTA COLEGIAL</td>\n",
       "      <td>VERBO DIVINO</td>\n",
       "      <td>M</td>\n",
       "      <td>57.5</td>\n",
       "      <td>1.0</td>\n",
       "    </tr>\n",
       "    <tr>\n",
       "      <th>1</th>\n",
       "      <td>2016.0</td>\n",
       "      <td>1.0</td>\n",
       "      <td>BERMUDA CICLISTA COLEGIAL</td>\n",
       "      <td>ALDEIA DA SERRA</td>\n",
       "      <td>P</td>\n",
       "      <td>57.5</td>\n",
       "      <td>1.0</td>\n",
       "    </tr>\n",
       "    <tr>\n",
       "      <th>2</th>\n",
       "      <td>2016.0</td>\n",
       "      <td>1.0</td>\n",
       "      <td>BERMUDA CICLISTA COLEGIAL</td>\n",
       "      <td>VERBO DIVINO</td>\n",
       "      <td>P</td>\n",
       "      <td>57.5</td>\n",
       "      <td>1.0</td>\n",
       "    </tr>\n",
       "    <tr>\n",
       "      <th>3</th>\n",
       "      <td>2016.0</td>\n",
       "      <td>1.0</td>\n",
       "      <td>BERMUDA CICLISTA COLEGIAL</td>\n",
       "      <td>ALDEIA DA SERRA</td>\n",
       "      <td>PP</td>\n",
       "      <td>57.5</td>\n",
       "      <td>1.0</td>\n",
       "    </tr>\n",
       "    <tr>\n",
       "      <th>4</th>\n",
       "      <td>2016.0</td>\n",
       "      <td>1.0</td>\n",
       "      <td>BERMUDA CICLISTA COLEGIAL</td>\n",
       "      <td>ITAIM</td>\n",
       "      <td>PP</td>\n",
       "      <td>57.5</td>\n",
       "      <td>1.0</td>\n",
       "    </tr>\n",
       "  </tbody>\n",
       "</table>\n",
       "</div>"
      ],
      "text/plain": [
       "      ANO  MES                  DESCRICAO             NOME TAMANHO  VLR_UNIT  \\\n",
       "0  2016.0  1.0  BERMUDA CICLISTA COLEGIAL     VERBO DIVINO       M      57.5   \n",
       "1  2016.0  1.0  BERMUDA CICLISTA COLEGIAL  ALDEIA DA SERRA       P      57.5   \n",
       "2  2016.0  1.0  BERMUDA CICLISTA COLEGIAL     VERBO DIVINO       P      57.5   \n",
       "3  2016.0  1.0  BERMUDA CICLISTA COLEGIAL  ALDEIA DA SERRA      PP      57.5   \n",
       "4  2016.0  1.0  BERMUDA CICLISTA COLEGIAL            ITAIM      PP      57.5   \n",
       "\n",
       "   QUANTIDADE  \n",
       "0         1.0  \n",
       "1         1.0  \n",
       "2         1.0  \n",
       "3         1.0  \n",
       "4         1.0  "
      ]
     },
     "execution_count": 9,
     "metadata": {},
     "output_type": "execute_result"
    }
   ],
   "source": [
    "df.head()"
   ]
  },
  {
   "cell_type": "code",
   "execution_count": 10,
   "metadata": {},
   "outputs": [
    {
     "ename": "NameError",
     "evalue": "name 'treino' is not defined",
     "output_type": "error",
     "traceback": [
      "\u001b[0;31m---------------------------------------------------------------------------\u001b[0m",
      "\u001b[0;31mNameError\u001b[0m                                 Traceback (most recent call last)",
      "\u001b[0;32m<ipython-input-10-fe1944688bce>\u001b[0m in \u001b[0;36m<module>\u001b[0;34m()\u001b[0m\n\u001b[0;32m----> 1\u001b[0;31m \u001b[0mtreino\u001b[0m\u001b[0;34m.\u001b[0m\u001b[0mshape\u001b[0m\u001b[0;34m,\u001b[0m \u001b[0mvalidacao\u001b[0m\u001b[0;34m.\u001b[0m\u001b[0mshape\u001b[0m\u001b[0;34m\u001b[0m\u001b[0m\n\u001b[0m",
      "\u001b[0;31mNameError\u001b[0m: name 'treino' is not defined"
     ]
    }
   ],
   "source": [
    "treino.shape, validacao.shape"
   ]
  },
  {
   "cell_type": "code",
   "execution_count": 11,
   "metadata": {},
   "outputs": [],
   "source": [
    "from sklearn.preprocessing import LabelEncoder, OneHotEncoder, StandardScaler"
   ]
  },
  {
   "cell_type": "code",
   "execution_count": 12,
   "metadata": {},
   "outputs": [],
   "source": [
    "le_DESC = LabelEncoder()\n",
    "# treino['DESCRICAO'] = le_DESC.fit_transform(treino.DESCRICAO)\n",
    "# validacao['DESCRICAO'] = le_DESC.transform(validacao.DESCRICAO)\n",
    "df['DESCRICAO'] = le_DESC.fit_transform(df.DESCRICAO)"
   ]
  },
  {
   "cell_type": "code",
   "execution_count": 13,
   "metadata": {},
   "outputs": [],
   "source": [
    "tamanho_val = {\n",
    "    '00' : 0,\n",
    "    '02' : 1,\n",
    "    '04' : 2,\n",
    "    '06' : 3,\n",
    "    '08' : 4,\n",
    "    '10' : 5,\n",
    "    '12' : 6,\n",
    "    '14' : 7,\n",
    "    'PP' : 8,\n",
    "    'P' : 9,\n",
    "    'M' : 10,\n",
    "    'G' : 11,\n",
    "    'GG' : 12\n",
    "}\n",
    "# treino.TAMANHO = treino.TAMANHO.apply(lambda x: tamanho_val[x])\n",
    "# validacao.TAMANHO = validacao.TAMANHO.apply(lambda x: tamanho_val[x])\n",
    "df.TAMANHO = df.TAMANHO.apply(lambda x: tamanho_val[x])"
   ]
  },
  {
   "cell_type": "code",
   "execution_count": 14,
   "metadata": {},
   "outputs": [],
   "source": [
    "le_NOME = LabelEncoder()\n",
    "# treino['NOME'] = le_NOME.fit_transform(treino.NOME)\n",
    "# validacao['NOME'] = le_NOME.transform(validacao.NOME)\n",
    "df['NOME'] = le_NOME.fit_transform(df.NOME)"
   ]
  },
  {
   "cell_type": "code",
   "execution_count": 18,
   "metadata": {},
   "outputs": [],
   "source": [
    "sc = StandardScaler()\n",
    "df = sc.fit_transform(df)"
   ]
  },
  {
   "cell_type": "code",
   "execution_count": 20,
   "metadata": {},
   "outputs": [
    {
     "data": {
      "text/plain": [
       "array([[-1.02020802, -1.02077594, -1.80068256, ...,  1.45792144,\n",
       "         0.        , -0.42347879],\n",
       "       [-1.02020802, -1.02077594, -1.80068256, ...,  1.15511631,\n",
       "         0.        , -0.42347879],\n",
       "       [-1.02020802, -1.02077594, -1.80068256, ...,  1.15511631,\n",
       "         0.        , -0.42347879],\n",
       "       ...,\n",
       "       [ 1.67612761,  0.23759642,  1.79425871, ..., -0.66171446,\n",
       "         0.        , -0.25506377],\n",
       "       [ 1.67612761,  0.23759642,  1.79425871, ..., -0.35890933,\n",
       "         0.        , -0.08664876],\n",
       "       [ 1.67612761,  0.23759642,  1.79425871, ..., -0.0561042 ,\n",
       "         0.        , -0.33927128]])"
      ]
     },
     "execution_count": 20,
     "metadata": {},
     "output_type": "execute_result"
    }
   ],
   "source": [
    "df"
   ]
  },
  {
   "cell_type": "markdown",
   "metadata": {},
   "source": [
    "# FEATURES"
   ]
  },
  {
   "cell_type": "code",
   "execution_count": 40,
   "metadata": {},
   "outputs": [
    {
     "data": {
      "text/plain": [
       "Index(['ANO', 'MES', 'DESCRICAO', 'NOME', 'TAMANHO', 'QUANTIDADE'], dtype='object')"
      ]
     },
     "execution_count": 40,
     "metadata": {},
     "output_type": "execute_result"
    }
   ],
   "source": [
    "df.columns"
   ]
  },
  {
   "cell_type": "markdown",
   "metadata": {},
   "source": [
    "# TRAIN"
   ]
  },
  {
   "cell_type": "code",
   "execution_count": 31,
   "metadata": {},
   "outputs": [],
   "source": [
    "treino = df[df.ANO < 2018]\n",
    "validacao = df[df.ANO >= 2018]\n",
    "y_train = treino['QUANTIDADE']\n",
    "X_train = treino.drop('QUANTIDADE', 1)\n",
    "X_test = validacao.drop('QUANTIDADE', 1)\n",
    "Y_test = validacao['QUANTIDADE']"
   ]
  },
  {
   "cell_type": "code",
   "execution_count": 37,
   "metadata": {},
   "outputs": [],
   "source": [
    "from sklearn.ensemble import RandomForestRegressor, ExtraTreesRegressor, GradientBoostingRegressor \n",
    "from sklearn.linear_model import LogisticRegression\n",
    "from sklearn.metrics import mean_squared_error\n",
    "from xgboost import XGBRegressor\n",
    "from math import sqrt"
   ]
  },
  {
   "cell_type": "code",
   "execution_count": 38,
   "metadata": {},
   "outputs": [
    {
     "name": "stdout",
     "output_type": "stream",
     "text": [
      "LR 15.05185621890263\n",
      "RF 6.588094168389945\n",
      "XTREE 7.943733602865814\n",
      "GBR 9.097705257913706\n",
      "XGB 9.062065924958528\n"
     ]
    }
   ],
   "source": [
    "models = []\n",
    "models.append(('LR', LogisticRegression()))\n",
    "models.append(('RF', RandomForestRegressor()))\n",
    "models.append(('XTREE', ExtraTreesRegressor()))\n",
    "models.append(('GBR', GradientBoostingRegressor()))\n",
    "models.append(('XGB', XGBRegressor()))\n",
    "results = []\n",
    "for name, model in models:\n",
    "    model.fit(X_train, y_train)\n",
    "    Y_pred = model.predict(X_test)\n",
    "    print(name, sqrt(mean_squared_error(Y_test, Y_pred)))"
   ]
  },
  {
   "cell_type": "markdown",
   "metadata": {},
   "source": [
    "# RANDOM FOREST"
   ]
  },
  {
   "cell_type": "code",
   "execution_count": null,
   "metadata": {},
   "outputs": [],
   "source": []
  },
  {
   "cell_type": "markdown",
   "metadata": {},
   "source": [
    "# TESTES"
   ]
  },
  {
   "cell_type": "code",
   "execution_count": 28,
   "metadata": {},
   "outputs": [
    {
     "data": {
      "text/plain": [
       "array([ 7.,  1.,  5.,  6.,  2.,  3.,  4., 12.,  8.,  9., 10.])"
      ]
     },
     "execution_count": 28,
     "metadata": {},
     "output_type": "execute_result"
    }
   ],
   "source": [
    "vendas.QUANTIDADE.unique()"
   ]
  },
  {
   "cell_type": "code",
   "execution_count": null,
   "metadata": {},
   "outputs": [],
   "source": []
  }
 ],
 "metadata": {
  "kernelspec": {
   "display_name": "Python 3",
   "language": "python",
   "name": "python3"
  },
  "language_info": {
   "codemirror_mode": {
    "name": "ipython",
    "version": 3
   },
   "file_extension": ".py",
   "mimetype": "text/x-python",
   "name": "python",
   "nbconvert_exporter": "python",
   "pygments_lexer": "ipython3",
   "version": "3.6.5"
  }
 },
 "nbformat": 4,
 "nbformat_minor": 2
}
