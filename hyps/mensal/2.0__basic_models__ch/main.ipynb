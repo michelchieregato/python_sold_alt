{
 "cells": [
  {
   "cell_type": "markdown",
   "metadata": {},
   "source": [
    "# DATA"
   ]
  },
  {
   "cell_type": "code",
   "execution_count": 1,
   "metadata": {},
   "outputs": [],
   "source": [
    "import numpy as np\n",
    "import pandas as pd"
   ]
  },
  {
   "cell_type": "code",
   "execution_count": 12,
   "metadata": {},
   "outputs": [],
   "source": [
    "vendas = pd.read_csv('../../../data/interim/Vendas.csv', encoding='ISO-8859-1')"
   ]
  },
  {
   "cell_type": "code",
   "execution_count": 13,
   "metadata": {},
   "outputs": [],
   "source": [
    "vendas = vendas.replace(['ST', 'CORSÁRIO SUPLEX', 'ESP', 'ESPECIAL'], ['00','CORSARIO SUPLEX', 'GG', 'GG'])"
   ]
  },
  {
   "cell_type": "code",
   "execution_count": 14,
   "metadata": {},
   "outputs": [],
   "source": [
    "a = vendas.groupby(['ANO', 'MES', 'DESCRICAO', 'NOME', 'TAMANHO'])"
   ]
  },
  {
   "cell_type": "code",
   "execution_count": 15,
   "metadata": {},
   "outputs": [],
   "source": [
    "df = a.sum().reset_index().drop(['DIA', 'VLR_UNIT'], 1)\n",
    "df = df.sort_values(by=['ANO','MES', 'DESCRICAO', 'TAMANHO', 'NOME'])"
   ]
  },
  {
   "cell_type": "code",
   "execution_count": 66,
   "metadata": {},
   "outputs": [
    {
     "data": {
      "text/plain": [
       "DESCRICAO                  ANO     TAMANHO\n",
       "BERMUDA CICLISTA COLEGIAL  2016.0  8           57.500000\n",
       "                                   9           57.500000\n",
       "                                   10          57.500000\n",
       "                                   11          57.500000\n",
       "                           2017.0  8           63.900000\n",
       "                                   9           64.000000\n",
       "                                   10          64.000000\n",
       "                                   11          64.000000\n",
       "                           2018.0  8           70.000000\n",
       "                                   9           70.000000\n",
       "BERMUDA CICLISTA COTTON    2016.0  1           51.000000\n",
       "                                   2           51.000000\n",
       "                                   3           51.307692\n",
       "                                   4           51.000000\n",
       "                           2017.0  0           57.000000\n",
       "                                   1           57.000000\n",
       "                                   2           57.000000\n",
       "                                   3           57.000000\n",
       "                                   4           57.000000\n",
       "                           2018.0  1          359.412857\n",
       "                                   2          218.120769\n",
       "                                   3          299.443509\n",
       "                                   4          296.621071\n",
       "BERMUDA CICLISTA SUPLEX    2016.0  5           51.000000\n",
       "                                   6           51.000000\n",
       "                                   8           56.957143\n",
       "                                   9           56.444444\n",
       "                                   10          57.500000\n",
       "                                   11          38.500000\n",
       "                                   12          57.500000\n",
       "                                                 ...    \n",
       "REGATA                     2017.0  1           29.500000\n",
       "                                   2           29.500000\n",
       "                                   3           29.500000\n",
       "                                   4           29.500000\n",
       "                                   5           29.500000\n",
       "                                   6           29.500000\n",
       "                           2018.0  0          643.517143\n",
       "                                   1          252.931875\n",
       "                                   2          280.088800\n",
       "                                   3          267.411894\n",
       "                                   4          389.314286\n",
       "                                   5          140.763636\n",
       "                                   6          423.397333\n",
       "SHORT SAIA                 2016.0  0           55.000000\n",
       "                                   1           55.000000\n",
       "                                   2           55.000000\n",
       "                                   3           55.000000\n",
       "                                   4           55.000000\n",
       "                                   5           55.000000\n",
       "                           2017.0  0           61.000000\n",
       "                                   1           61.000000\n",
       "                                   2           61.000000\n",
       "                                   3           61.000000\n",
       "                                   4           61.000000\n",
       "                                   5           61.000000\n",
       "                           2018.0  1          322.309286\n",
       "                                   2          166.881701\n",
       "                                   3          174.274575\n",
       "                                   4          244.432260\n",
       "                                   5          248.320753\n",
       "Name: VLR_UNIT, Length: 527, dtype: float64"
      ]
     },
     "execution_count": 66,
     "metadata": {},
     "output_type": "execute_result"
    }
   ],
   "source": [
    "vendas.groupby(['DESCRICAO', 'ANO', 'TAMANHO']).mean()['VLR_UNIT']"
   ]
  },
  {
   "cell_type": "code",
   "execution_count": 64,
   "metadata": {},
   "outputs": [
    {
     "data": {
      "text/html": [
       "<div>\n",
       "<style scoped>\n",
       "    .dataframe tbody tr th:only-of-type {\n",
       "        vertical-align: middle;\n",
       "    }\n",
       "\n",
       "    .dataframe tbody tr th {\n",
       "        vertical-align: top;\n",
       "    }\n",
       "\n",
       "    .dataframe thead th {\n",
       "        text-align: right;\n",
       "    }\n",
       "</style>\n",
       "<table border=\"1\" class=\"dataframe\">\n",
       "  <thead>\n",
       "    <tr style=\"text-align: right;\">\n",
       "      <th></th>\n",
       "      <th>ANO</th>\n",
       "      <th>DESCRICAO</th>\n",
       "      <th>DIA</th>\n",
       "      <th>HORA</th>\n",
       "      <th>MES</th>\n",
       "      <th>NOME</th>\n",
       "      <th>QUANTIDADE</th>\n",
       "      <th>TAMANHO</th>\n",
       "      <th>VLR_UNIT</th>\n",
       "    </tr>\n",
       "  </thead>\n",
       "  <tbody>\n",
       "    <tr>\n",
       "      <th>149</th>\n",
       "      <td>2016.0</td>\n",
       "      <td>BERMUDA CICLISTA COLEGIAL</td>\n",
       "      <td>13.0</td>\n",
       "      <td>13:21</td>\n",
       "      <td>1.0</td>\n",
       "      <td>ITAIM</td>\n",
       "      <td>1.0</td>\n",
       "      <td>8</td>\n",
       "      <td>57.5</td>\n",
       "    </tr>\n",
       "    <tr>\n",
       "      <th>833</th>\n",
       "      <td>2016.0</td>\n",
       "      <td>BERMUDA CICLISTA COLEGIAL</td>\n",
       "      <td>19.0</td>\n",
       "      <td>07:56</td>\n",
       "      <td>1.0</td>\n",
       "      <td>ALDEIA DA SERRA</td>\n",
       "      <td>1.0</td>\n",
       "      <td>9</td>\n",
       "      <td>57.5</td>\n",
       "    </tr>\n",
       "    <tr>\n",
       "      <th>1044</th>\n",
       "      <td>2016.0</td>\n",
       "      <td>BERMUDA CICLISTA COLEGIAL</td>\n",
       "      <td>20.0</td>\n",
       "      <td>10:34</td>\n",
       "      <td>1.0</td>\n",
       "      <td>VERBO DIVINO</td>\n",
       "      <td>1.0</td>\n",
       "      <td>9</td>\n",
       "      <td>57.5</td>\n",
       "    </tr>\n",
       "    <tr>\n",
       "      <th>1067</th>\n",
       "      <td>2016.0</td>\n",
       "      <td>BERMUDA CICLISTA COLEGIAL</td>\n",
       "      <td>20.0</td>\n",
       "      <td>11:26</td>\n",
       "      <td>1.0</td>\n",
       "      <td>VERBO DIVINO</td>\n",
       "      <td>1.0</td>\n",
       "      <td>8</td>\n",
       "      <td>57.5</td>\n",
       "    </tr>\n",
       "    <tr>\n",
       "      <th>1093</th>\n",
       "      <td>2016.0</td>\n",
       "      <td>BERMUDA CICLISTA COLEGIAL</td>\n",
       "      <td>20.0</td>\n",
       "      <td>14:15</td>\n",
       "      <td>1.0</td>\n",
       "      <td>VERBO DIVINO</td>\n",
       "      <td>1.0</td>\n",
       "      <td>10</td>\n",
       "      <td>57.5</td>\n",
       "    </tr>\n",
       "    <tr>\n",
       "      <th>2020</th>\n",
       "      <td>2016.0</td>\n",
       "      <td>BERMUDA CICLISTA COLEGIAL</td>\n",
       "      <td>28.0</td>\n",
       "      <td>14:25</td>\n",
       "      <td>1.0</td>\n",
       "      <td>ALDEIA DA SERRA</td>\n",
       "      <td>1.0</td>\n",
       "      <td>8</td>\n",
       "      <td>57.5</td>\n",
       "    </tr>\n",
       "    <tr>\n",
       "      <th>4494</th>\n",
       "      <td>2016.0</td>\n",
       "      <td>BERMUDA CICLISTA COLEGIAL</td>\n",
       "      <td>10.0</td>\n",
       "      <td>11:05</td>\n",
       "      <td>3.0</td>\n",
       "      <td>VERBO DIVINO</td>\n",
       "      <td>1.0</td>\n",
       "      <td>11</td>\n",
       "      <td>57.5</td>\n",
       "    </tr>\n",
       "    <tr>\n",
       "      <th>7386</th>\n",
       "      <td>2016.0</td>\n",
       "      <td>BERMUDA CICLISTA COLEGIAL</td>\n",
       "      <td>19.0</td>\n",
       "      <td>10:08</td>\n",
       "      <td>10.0</td>\n",
       "      <td>VERBO DIVINO</td>\n",
       "      <td>1.0</td>\n",
       "      <td>10</td>\n",
       "      <td>57.5</td>\n",
       "    </tr>\n",
       "  </tbody>\n",
       "</table>\n",
       "</div>"
      ],
      "text/plain": [
       "         ANO                  DESCRICAO   DIA   HORA   MES             NOME  \\\n",
       "149   2016.0  BERMUDA CICLISTA COLEGIAL  13.0  13:21   1.0            ITAIM   \n",
       "833   2016.0  BERMUDA CICLISTA COLEGIAL  19.0  07:56   1.0  ALDEIA DA SERRA   \n",
       "1044  2016.0  BERMUDA CICLISTA COLEGIAL  20.0  10:34   1.0     VERBO DIVINO   \n",
       "1067  2016.0  BERMUDA CICLISTA COLEGIAL  20.0  11:26   1.0     VERBO DIVINO   \n",
       "1093  2016.0  BERMUDA CICLISTA COLEGIAL  20.0  14:15   1.0     VERBO DIVINO   \n",
       "2020  2016.0  BERMUDA CICLISTA COLEGIAL  28.0  14:25   1.0  ALDEIA DA SERRA   \n",
       "4494  2016.0  BERMUDA CICLISTA COLEGIAL  10.0  11:05   3.0     VERBO DIVINO   \n",
       "7386  2016.0  BERMUDA CICLISTA COLEGIAL  19.0  10:08  10.0     VERBO DIVINO   \n",
       "\n",
       "      QUANTIDADE  TAMANHO  VLR_UNIT  \n",
       "149          1.0        8      57.5  \n",
       "833          1.0        9      57.5  \n",
       "1044         1.0        9      57.5  \n",
       "1067         1.0        8      57.5  \n",
       "1093         1.0       10      57.5  \n",
       "2020         1.0        8      57.5  \n",
       "4494         1.0       11      57.5  \n",
       "7386         1.0       10      57.5  "
      ]
     },
     "execution_count": 64,
     "metadata": {},
     "output_type": "execute_result"
    }
   ],
   "source": [
    "vendas[(vendas.ANO == 2016) & (vendas.DESCRICAO == 'BERMUDA CICLISTA COTTON')]"
   ]
  },
  {
   "cell_type": "code",
   "execution_count": 56,
   "metadata": {},
   "outputs": [
    {
     "ename": "KeyError",
     "evalue": "('ANO', 'MES', 'DESCRICAO', 'TAMANHO', 'NOME', 'VLR_UNIT')",
     "output_type": "error",
     "traceback": [
      "\u001b[0;31m---------------------------------------------------------------\u001b[0m",
      "\u001b[0;31mKeyError\u001b[0m                      Traceback (most recent call last)",
      "\u001b[0;32m~/.virtualenvs/sold_alt/lib/python3.6/site-packages/pandas/core/indexes/base.py\u001b[0m in \u001b[0;36mget_loc\u001b[0;34m(self, key, method, tolerance)\u001b[0m\n\u001b[1;32m   3077\u001b[0m             \u001b[0;32mtry\u001b[0m\u001b[0;34m:\u001b[0m\u001b[0;34m\u001b[0m\u001b[0m\n\u001b[0;32m-> 3078\u001b[0;31m                 \u001b[0;32mreturn\u001b[0m \u001b[0mself\u001b[0m\u001b[0;34m.\u001b[0m\u001b[0m_engine\u001b[0m\u001b[0;34m.\u001b[0m\u001b[0mget_loc\u001b[0m\u001b[0;34m(\u001b[0m\u001b[0mkey\u001b[0m\u001b[0;34m)\u001b[0m\u001b[0;34m\u001b[0m\u001b[0m\n\u001b[0m\u001b[1;32m   3079\u001b[0m             \u001b[0;32mexcept\u001b[0m \u001b[0mKeyError\u001b[0m\u001b[0;34m:\u001b[0m\u001b[0;34m\u001b[0m\u001b[0m\n",
      "\u001b[0;32mpandas/_libs/index.pyx\u001b[0m in \u001b[0;36mpandas._libs.index.IndexEngine.get_loc\u001b[0;34m()\u001b[0m\n",
      "\u001b[0;32mpandas/_libs/index.pyx\u001b[0m in \u001b[0;36mpandas._libs.index.IndexEngine.get_loc\u001b[0;34m()\u001b[0m\n",
      "\u001b[0;32mpandas/_libs/hashtable_class_helper.pxi\u001b[0m in \u001b[0;36mpandas._libs.hashtable.PyObjectHashTable.get_item\u001b[0;34m()\u001b[0m\n",
      "\u001b[0;32mpandas/_libs/hashtable_class_helper.pxi\u001b[0m in \u001b[0;36mpandas._libs.hashtable.PyObjectHashTable.get_item\u001b[0;34m()\u001b[0m\n",
      "\u001b[0;31mKeyError\u001b[0m: ('ANO', 'MES', 'DESCRICAO', 'TAMANHO', 'NOME', 'VLR_UNIT')",
      "\nDuring handling of the above exception, another exception occurred:\n",
      "\u001b[0;31mKeyError\u001b[0m                      Traceback (most recent call last)",
      "\u001b[0;32m<ipython-input-56-1ab272a6c0a7>\u001b[0m in \u001b[0;36m<module>\u001b[0;34m()\u001b[0m\n\u001b[0;32m----> 1\u001b[0;31m df = df.merge(vendas['ANO', 'MES', 'DESCRICAO', 'TAMANHO', 'NOME', 'VLR_UNIT'], \n\u001b[0m\u001b[1;32m      2\u001b[0m               \u001b[0mon\u001b[0m\u001b[0;34m=\u001b[0m\u001b[0;34m[\u001b[0m\u001b[0;34m'ANO'\u001b[0m\u001b[0;34m,\u001b[0m \u001b[0;34m'MES'\u001b[0m\u001b[0;34m,\u001b[0m \u001b[0;34m'DESCRICAO'\u001b[0m\u001b[0;34m,\u001b[0m \u001b[0;34m'TAMANHO'\u001b[0m\u001b[0;34m,\u001b[0m \u001b[0;34m'NOME'\u001b[0m\u001b[0;34m]\u001b[0m\u001b[0;34m,\u001b[0m\u001b[0;34m\u001b[0m\u001b[0m\n\u001b[1;32m      3\u001b[0m              how='left')\n",
      "\u001b[0;32m~/.virtualenvs/sold_alt/lib/python3.6/site-packages/pandas/core/frame.py\u001b[0m in \u001b[0;36m__getitem__\u001b[0;34m(self, key)\u001b[0m\n\u001b[1;32m   2686\u001b[0m             \u001b[0;32mreturn\u001b[0m \u001b[0mself\u001b[0m\u001b[0;34m.\u001b[0m\u001b[0m_getitem_multilevel\u001b[0m\u001b[0;34m(\u001b[0m\u001b[0mkey\u001b[0m\u001b[0;34m)\u001b[0m\u001b[0;34m\u001b[0m\u001b[0m\n\u001b[1;32m   2687\u001b[0m         \u001b[0;32melse\u001b[0m\u001b[0;34m:\u001b[0m\u001b[0;34m\u001b[0m\u001b[0m\n\u001b[0;32m-> 2688\u001b[0;31m             \u001b[0;32mreturn\u001b[0m \u001b[0mself\u001b[0m\u001b[0;34m.\u001b[0m\u001b[0m_getitem_column\u001b[0m\u001b[0;34m(\u001b[0m\u001b[0mkey\u001b[0m\u001b[0;34m)\u001b[0m\u001b[0;34m\u001b[0m\u001b[0m\n\u001b[0m\u001b[1;32m   2689\u001b[0m \u001b[0;34m\u001b[0m\u001b[0m\n\u001b[1;32m   2690\u001b[0m     \u001b[0;32mdef\u001b[0m \u001b[0m_getitem_column\u001b[0m\u001b[0;34m(\u001b[0m\u001b[0mself\u001b[0m\u001b[0;34m,\u001b[0m \u001b[0mkey\u001b[0m\u001b[0;34m)\u001b[0m\u001b[0;34m:\u001b[0m\u001b[0;34m\u001b[0m\u001b[0m\n",
      "\u001b[0;32m~/.virtualenvs/sold_alt/lib/python3.6/site-packages/pandas/core/frame.py\u001b[0m in \u001b[0;36m_getitem_column\u001b[0;34m(self, key)\u001b[0m\n\u001b[1;32m   2693\u001b[0m         \u001b[0;31m# get column\u001b[0m\u001b[0;34m\u001b[0m\u001b[0;34m\u001b[0m\u001b[0m\n\u001b[1;32m   2694\u001b[0m         \u001b[0;32mif\u001b[0m \u001b[0mself\u001b[0m\u001b[0;34m.\u001b[0m\u001b[0mcolumns\u001b[0m\u001b[0;34m.\u001b[0m\u001b[0mis_unique\u001b[0m\u001b[0;34m:\u001b[0m\u001b[0;34m\u001b[0m\u001b[0m\n\u001b[0;32m-> 2695\u001b[0;31m             \u001b[0;32mreturn\u001b[0m \u001b[0mself\u001b[0m\u001b[0;34m.\u001b[0m\u001b[0m_get_item_cache\u001b[0m\u001b[0;34m(\u001b[0m\u001b[0mkey\u001b[0m\u001b[0;34m)\u001b[0m\u001b[0;34m\u001b[0m\u001b[0m\n\u001b[0m\u001b[1;32m   2696\u001b[0m \u001b[0;34m\u001b[0m\u001b[0m\n\u001b[1;32m   2697\u001b[0m         \u001b[0;31m# duplicate columns & possible reduce dimensionality\u001b[0m\u001b[0;34m\u001b[0m\u001b[0;34m\u001b[0m\u001b[0m\n",
      "\u001b[0;32m~/.virtualenvs/sold_alt/lib/python3.6/site-packages/pandas/core/generic.py\u001b[0m in \u001b[0;36m_get_item_cache\u001b[0;34m(self, item)\u001b[0m\n\u001b[1;32m   2487\u001b[0m         \u001b[0mres\u001b[0m \u001b[0;34m=\u001b[0m \u001b[0mcache\u001b[0m\u001b[0;34m.\u001b[0m\u001b[0mget\u001b[0m\u001b[0;34m(\u001b[0m\u001b[0mitem\u001b[0m\u001b[0;34m)\u001b[0m\u001b[0;34m\u001b[0m\u001b[0m\n\u001b[1;32m   2488\u001b[0m         \u001b[0;32mif\u001b[0m \u001b[0mres\u001b[0m \u001b[0;32mis\u001b[0m \u001b[0;32mNone\u001b[0m\u001b[0;34m:\u001b[0m\u001b[0;34m\u001b[0m\u001b[0m\n\u001b[0;32m-> 2489\u001b[0;31m             \u001b[0mvalues\u001b[0m \u001b[0;34m=\u001b[0m \u001b[0mself\u001b[0m\u001b[0;34m.\u001b[0m\u001b[0m_data\u001b[0m\u001b[0;34m.\u001b[0m\u001b[0mget\u001b[0m\u001b[0;34m(\u001b[0m\u001b[0mitem\u001b[0m\u001b[0;34m)\u001b[0m\u001b[0;34m\u001b[0m\u001b[0m\n\u001b[0m\u001b[1;32m   2490\u001b[0m             \u001b[0mres\u001b[0m \u001b[0;34m=\u001b[0m \u001b[0mself\u001b[0m\u001b[0;34m.\u001b[0m\u001b[0m_box_item_values\u001b[0m\u001b[0;34m(\u001b[0m\u001b[0mitem\u001b[0m\u001b[0;34m,\u001b[0m \u001b[0mvalues\u001b[0m\u001b[0;34m)\u001b[0m\u001b[0;34m\u001b[0m\u001b[0m\n\u001b[1;32m   2491\u001b[0m             \u001b[0mcache\u001b[0m\u001b[0;34m[\u001b[0m\u001b[0mitem\u001b[0m\u001b[0;34m]\u001b[0m \u001b[0;34m=\u001b[0m \u001b[0mres\u001b[0m\u001b[0;34m\u001b[0m\u001b[0m\n",
      "\u001b[0;32m~/.virtualenvs/sold_alt/lib/python3.6/site-packages/pandas/core/internals.py\u001b[0m in \u001b[0;36mget\u001b[0;34m(self, item, fastpath)\u001b[0m\n\u001b[1;32m   4113\u001b[0m \u001b[0;34m\u001b[0m\u001b[0m\n\u001b[1;32m   4114\u001b[0m             \u001b[0;32mif\u001b[0m \u001b[0;32mnot\u001b[0m \u001b[0misna\u001b[0m\u001b[0;34m(\u001b[0m\u001b[0mitem\u001b[0m\u001b[0;34m)\u001b[0m\u001b[0;34m:\u001b[0m\u001b[0;34m\u001b[0m\u001b[0m\n\u001b[0;32m-> 4115\u001b[0;31m                 \u001b[0mloc\u001b[0m \u001b[0;34m=\u001b[0m \u001b[0mself\u001b[0m\u001b[0;34m.\u001b[0m\u001b[0mitems\u001b[0m\u001b[0;34m.\u001b[0m\u001b[0mget_loc\u001b[0m\u001b[0;34m(\u001b[0m\u001b[0mitem\u001b[0m\u001b[0;34m)\u001b[0m\u001b[0;34m\u001b[0m\u001b[0m\n\u001b[0m\u001b[1;32m   4116\u001b[0m             \u001b[0;32melse\u001b[0m\u001b[0;34m:\u001b[0m\u001b[0;34m\u001b[0m\u001b[0m\n\u001b[1;32m   4117\u001b[0m                 \u001b[0mindexer\u001b[0m \u001b[0;34m=\u001b[0m \u001b[0mnp\u001b[0m\u001b[0;34m.\u001b[0m\u001b[0marange\u001b[0m\u001b[0;34m(\u001b[0m\u001b[0mlen\u001b[0m\u001b[0;34m(\u001b[0m\u001b[0mself\u001b[0m\u001b[0;34m.\u001b[0m\u001b[0mitems\u001b[0m\u001b[0;34m)\u001b[0m\u001b[0;34m)\u001b[0m\u001b[0;34m[\u001b[0m\u001b[0misna\u001b[0m\u001b[0;34m(\u001b[0m\u001b[0mself\u001b[0m\u001b[0;34m.\u001b[0m\u001b[0mitems\u001b[0m\u001b[0;34m)\u001b[0m\u001b[0;34m]\u001b[0m\u001b[0;34m\u001b[0m\u001b[0m\n",
      "\u001b[0;32m~/.virtualenvs/sold_alt/lib/python3.6/site-packages/pandas/core/indexes/base.py\u001b[0m in \u001b[0;36mget_loc\u001b[0;34m(self, key, method, tolerance)\u001b[0m\n\u001b[1;32m   3078\u001b[0m                 \u001b[0;32mreturn\u001b[0m \u001b[0mself\u001b[0m\u001b[0;34m.\u001b[0m\u001b[0m_engine\u001b[0m\u001b[0;34m.\u001b[0m\u001b[0mget_loc\u001b[0m\u001b[0;34m(\u001b[0m\u001b[0mkey\u001b[0m\u001b[0;34m)\u001b[0m\u001b[0;34m\u001b[0m\u001b[0m\n\u001b[1;32m   3079\u001b[0m             \u001b[0;32mexcept\u001b[0m \u001b[0mKeyError\u001b[0m\u001b[0;34m:\u001b[0m\u001b[0;34m\u001b[0m\u001b[0m\n\u001b[0;32m-> 3080\u001b[0;31m                 \u001b[0;32mreturn\u001b[0m \u001b[0mself\u001b[0m\u001b[0;34m.\u001b[0m\u001b[0m_engine\u001b[0m\u001b[0;34m.\u001b[0m\u001b[0mget_loc\u001b[0m\u001b[0;34m(\u001b[0m\u001b[0mself\u001b[0m\u001b[0;34m.\u001b[0m\u001b[0m_maybe_cast_indexer\u001b[0m\u001b[0;34m(\u001b[0m\u001b[0mkey\u001b[0m\u001b[0;34m)\u001b[0m\u001b[0;34m)\u001b[0m\u001b[0;34m\u001b[0m\u001b[0m\n\u001b[0m\u001b[1;32m   3081\u001b[0m \u001b[0;34m\u001b[0m\u001b[0m\n\u001b[1;32m   3082\u001b[0m         \u001b[0mindexer\u001b[0m \u001b[0;34m=\u001b[0m \u001b[0mself\u001b[0m\u001b[0;34m.\u001b[0m\u001b[0mget_indexer\u001b[0m\u001b[0;34m(\u001b[0m\u001b[0;34m[\u001b[0m\u001b[0mkey\u001b[0m\u001b[0;34m]\u001b[0m\u001b[0;34m,\u001b[0m \u001b[0mmethod\u001b[0m\u001b[0;34m=\u001b[0m\u001b[0mmethod\u001b[0m\u001b[0;34m,\u001b[0m \u001b[0mtolerance\u001b[0m\u001b[0;34m=\u001b[0m\u001b[0mtolerance\u001b[0m\u001b[0;34m)\u001b[0m\u001b[0;34m\u001b[0m\u001b[0m\n",
      "\u001b[0;32mpandas/_libs/index.pyx\u001b[0m in \u001b[0;36mpandas._libs.index.IndexEngine.get_loc\u001b[0;34m()\u001b[0m\n",
      "\u001b[0;32mpandas/_libs/index.pyx\u001b[0m in \u001b[0;36mpandas._libs.index.IndexEngine.get_loc\u001b[0;34m()\u001b[0m\n",
      "\u001b[0;32mpandas/_libs/hashtable_class_helper.pxi\u001b[0m in \u001b[0;36mpandas._libs.hashtable.PyObjectHashTable.get_item\u001b[0;34m()\u001b[0m\n",
      "\u001b[0;32mpandas/_libs/hashtable_class_helper.pxi\u001b[0m in \u001b[0;36mpandas._libs.hashtable.PyObjectHashTable.get_item\u001b[0;34m()\u001b[0m\n",
      "\u001b[0;31mKeyError\u001b[0m: ('ANO', 'MES', 'DESCRICAO', 'TAMANHO', 'NOME', 'VLR_UNIT')"
     ]
    }
   ],
   "source": [
    "df = df.merge(vendas['ANO', 'MES', 'DESCRICAO', 'TAMANHO', 'NOME', 'VLR_UNIT'], \n",
    "              on=['ANO', 'MES', 'DESCRICAO', 'TAMANHO', 'NOME'],\n",
    "             how='left')"
   ]
  },
  {
   "cell_type": "code",
   "execution_count": 16,
   "metadata": {},
   "outputs": [],
   "source": [
    "treino = df[df.ANO < 2018]\n",
    "validacao = df[df.ANO >= 2018]"
   ]
  },
  {
   "cell_type": "code",
   "execution_count": 54,
   "metadata": {},
   "outputs": [
    {
     "data": {
      "text/html": [
       "<div>\n",
       "<style scoped>\n",
       "    .dataframe tbody tr th:only-of-type {\n",
       "        vertical-align: middle;\n",
       "    }\n",
       "\n",
       "    .dataframe tbody tr th {\n",
       "        vertical-align: top;\n",
       "    }\n",
       "\n",
       "    .dataframe thead th {\n",
       "        text-align: right;\n",
       "    }\n",
       "</style>\n",
       "<table border=\"1\" class=\"dataframe\">\n",
       "  <thead>\n",
       "    <tr style=\"text-align: right;\">\n",
       "      <th></th>\n",
       "      <th>ANO</th>\n",
       "      <th>DESCRICAO</th>\n",
       "      <th>DIA</th>\n",
       "      <th>HORA</th>\n",
       "      <th>MES</th>\n",
       "      <th>NOME</th>\n",
       "      <th>QUANTIDADE</th>\n",
       "      <th>TAMANHO</th>\n",
       "      <th>VLR_UNIT</th>\n",
       "    </tr>\n",
       "  </thead>\n",
       "  <tbody>\n",
       "    <tr>\n",
       "      <th>0</th>\n",
       "      <td>2016.0</td>\n",
       "      <td>CAMISETA MANGA CURTA</td>\n",
       "      <td>12.0</td>\n",
       "      <td>14:54</td>\n",
       "      <td>1.0</td>\n",
       "      <td>VERBO DIVINO</td>\n",
       "      <td>7.0</td>\n",
       "      <td>0</td>\n",
       "      <td>35.5</td>\n",
       "    </tr>\n",
       "    <tr>\n",
       "      <th>1</th>\n",
       "      <td>2016.0</td>\n",
       "      <td>BERMUDA CICLISTA COTTON</td>\n",
       "      <td>12.0</td>\n",
       "      <td>15:08</td>\n",
       "      <td>1.0</td>\n",
       "      <td>VERBO DIVINO</td>\n",
       "      <td>1.0</td>\n",
       "      <td>4</td>\n",
       "      <td>51.0</td>\n",
       "    </tr>\n",
       "    <tr>\n",
       "      <th>2</th>\n",
       "      <td>2016.0</td>\n",
       "      <td>CAMISETA MANGA CURTA</td>\n",
       "      <td>12.0</td>\n",
       "      <td>15:08</td>\n",
       "      <td>1.0</td>\n",
       "      <td>VERBO DIVINO</td>\n",
       "      <td>5.0</td>\n",
       "      <td>8</td>\n",
       "      <td>37.5</td>\n",
       "    </tr>\n",
       "    <tr>\n",
       "      <th>3</th>\n",
       "      <td>2016.0</td>\n",
       "      <td>BLUSA MOLETOM FLANELADA</td>\n",
       "      <td>12.0</td>\n",
       "      <td>15:27</td>\n",
       "      <td>1.0</td>\n",
       "      <td>VERBO DIVINO</td>\n",
       "      <td>1.0</td>\n",
       "      <td>10</td>\n",
       "      <td>115.0</td>\n",
       "    </tr>\n",
       "    <tr>\n",
       "      <th>4</th>\n",
       "      <td>2016.0</td>\n",
       "      <td>CALÇA SARJA MASC</td>\n",
       "      <td>12.0</td>\n",
       "      <td>15:27</td>\n",
       "      <td>1.0</td>\n",
       "      <td>VERBO DIVINO</td>\n",
       "      <td>1.0</td>\n",
       "      <td>12</td>\n",
       "      <td>116.0</td>\n",
       "    </tr>\n",
       "  </tbody>\n",
       "</table>\n",
       "</div>"
      ],
      "text/plain": [
       "      ANO                DESCRICAO   DIA   HORA  MES          NOME  \\\n",
       "0  2016.0     CAMISETA MANGA CURTA  12.0  14:54  1.0  VERBO DIVINO   \n",
       "1  2016.0  BERMUDA CICLISTA COTTON  12.0  15:08  1.0  VERBO DIVINO   \n",
       "2  2016.0     CAMISETA MANGA CURTA  12.0  15:08  1.0  VERBO DIVINO   \n",
       "3  2016.0  BLUSA MOLETOM FLANELADA  12.0  15:27  1.0  VERBO DIVINO   \n",
       "4  2016.0         CALÇA SARJA MASC  12.0  15:27  1.0  VERBO DIVINO   \n",
       "\n",
       "   QUANTIDADE  TAMANHO  VLR_UNIT  \n",
       "0         7.0        0      35.5  \n",
       "1         1.0        4      51.0  \n",
       "2         5.0        8      37.5  \n",
       "3         1.0       10     115.0  \n",
       "4         1.0       12     116.0  "
      ]
     },
     "execution_count": 54,
     "metadata": {},
     "output_type": "execute_result"
    }
   ],
   "source": [
    "vendas.head()"
   ]
  },
  {
   "cell_type": "code",
   "execution_count": 55,
   "metadata": {},
   "outputs": [
    {
     "data": {
      "text/html": [
       "<div>\n",
       "<style scoped>\n",
       "    .dataframe tbody tr th:only-of-type {\n",
       "        vertical-align: middle;\n",
       "    }\n",
       "\n",
       "    .dataframe tbody tr th {\n",
       "        vertical-align: top;\n",
       "    }\n",
       "\n",
       "    .dataframe thead th {\n",
       "        text-align: right;\n",
       "    }\n",
       "</style>\n",
       "<table border=\"1\" class=\"dataframe\">\n",
       "  <thead>\n",
       "    <tr style=\"text-align: right;\">\n",
       "      <th></th>\n",
       "      <th>ANO</th>\n",
       "      <th>MES</th>\n",
       "      <th>DESCRICAO</th>\n",
       "      <th>NOME</th>\n",
       "      <th>TAMANHO</th>\n",
       "      <th>QUANTIDADE</th>\n",
       "    </tr>\n",
       "  </thead>\n",
       "  <tbody>\n",
       "    <tr>\n",
       "      <th>3</th>\n",
       "      <td>2016.0</td>\n",
       "      <td>1.0</td>\n",
       "      <td>BERMUDA CICLISTA COLEGIAL</td>\n",
       "      <td>VERBO DIVINO</td>\n",
       "      <td>M</td>\n",
       "      <td>1.0</td>\n",
       "    </tr>\n",
       "    <tr>\n",
       "      <th>0</th>\n",
       "      <td>2016.0</td>\n",
       "      <td>1.0</td>\n",
       "      <td>BERMUDA CICLISTA COLEGIAL</td>\n",
       "      <td>ALDEIA DA SERRA</td>\n",
       "      <td>P</td>\n",
       "      <td>1.0</td>\n",
       "    </tr>\n",
       "    <tr>\n",
       "      <th>4</th>\n",
       "      <td>2016.0</td>\n",
       "      <td>1.0</td>\n",
       "      <td>BERMUDA CICLISTA COLEGIAL</td>\n",
       "      <td>VERBO DIVINO</td>\n",
       "      <td>P</td>\n",
       "      <td>1.0</td>\n",
       "    </tr>\n",
       "    <tr>\n",
       "      <th>1</th>\n",
       "      <td>2016.0</td>\n",
       "      <td>1.0</td>\n",
       "      <td>BERMUDA CICLISTA COLEGIAL</td>\n",
       "      <td>ALDEIA DA SERRA</td>\n",
       "      <td>PP</td>\n",
       "      <td>1.0</td>\n",
       "    </tr>\n",
       "    <tr>\n",
       "      <th>2</th>\n",
       "      <td>2016.0</td>\n",
       "      <td>1.0</td>\n",
       "      <td>BERMUDA CICLISTA COLEGIAL</td>\n",
       "      <td>ITAIM</td>\n",
       "      <td>PP</td>\n",
       "      <td>1.0</td>\n",
       "    </tr>\n",
       "  </tbody>\n",
       "</table>\n",
       "</div>"
      ],
      "text/plain": [
       "      ANO  MES                  DESCRICAO             NOME TAMANHO  QUANTIDADE\n",
       "3  2016.0  1.0  BERMUDA CICLISTA COLEGIAL     VERBO DIVINO       M         1.0\n",
       "0  2016.0  1.0  BERMUDA CICLISTA COLEGIAL  ALDEIA DA SERRA       P         1.0\n",
       "4  2016.0  1.0  BERMUDA CICLISTA COLEGIAL     VERBO DIVINO       P         1.0\n",
       "1  2016.0  1.0  BERMUDA CICLISTA COLEGIAL  ALDEIA DA SERRA      PP         1.0\n",
       "2  2016.0  1.0  BERMUDA CICLISTA COLEGIAL            ITAIM      PP         1.0"
      ]
     },
     "execution_count": 55,
     "metadata": {},
     "output_type": "execute_result"
    }
   ],
   "source": [
    "df.head()"
   ]
  },
  {
   "cell_type": "code",
   "execution_count": 18,
   "metadata": {},
   "outputs": [
    {
     "data": {
      "text/plain": [
       "((4396, 6), (985, 6))"
      ]
     },
     "execution_count": 18,
     "metadata": {},
     "output_type": "execute_result"
    }
   ],
   "source": [
    "treino.shape, validacao.shape"
   ]
  },
  {
   "cell_type": "code",
   "execution_count": 19,
   "metadata": {},
   "outputs": [],
   "source": [
    "from sklearn.preprocessing import LabelEncoder, OneHotEncoder"
   ]
  },
  {
   "cell_type": "code",
   "execution_count": 20,
   "metadata": {},
   "outputs": [
    {
     "name": "stderr",
     "output_type": "stream",
     "text": [
      "/Users/chazanas/.virtualenvs/sold_alt/lib/python3.6/site-packages/ipykernel_launcher.py:2: SettingWithCopyWarning: \n",
      "A value is trying to be set on a copy of a slice from a DataFrame.\n",
      "Try using .loc[row_indexer,col_indexer] = value instead\n",
      "\n",
      "See the caveats in the documentation: http://pandas.pydata.org/pandas-docs/stable/indexing.html#indexing-view-versus-copy\n",
      "  \n",
      "/Users/chazanas/.virtualenvs/sold_alt/lib/python3.6/site-packages/ipykernel_launcher.py:3: SettingWithCopyWarning: \n",
      "A value is trying to be set on a copy of a slice from a DataFrame.\n",
      "Try using .loc[row_indexer,col_indexer] = value instead\n",
      "\n",
      "See the caveats in the documentation: http://pandas.pydata.org/pandas-docs/stable/indexing.html#indexing-view-versus-copy\n",
      "  This is separate from the ipykernel package so we can avoid doing imports until\n"
     ]
    }
   ],
   "source": [
    "le_DESC = LabelEncoder()\n",
    "treino['DESCRICAO'] = le_DESC.fit_transform(treino.DESCRICAO)\n",
    "validacao['DESCRICAO'] = le_DESC.transform(validacao.DESCRICAO)"
   ]
  },
  {
   "cell_type": "code",
   "execution_count": 25,
   "metadata": {},
   "outputs": [
    {
     "name": "stderr",
     "output_type": "stream",
     "text": [
      "/Users/chazanas/.virtualenvs/sold_alt/lib/python3.6/site-packages/pandas/core/generic.py:4405: SettingWithCopyWarning: \n",
      "A value is trying to be set on a copy of a slice from a DataFrame.\n",
      "Try using .loc[row_indexer,col_indexer] = value instead\n",
      "\n",
      "See the caveats in the documentation: http://pandas.pydata.org/pandas-docs/stable/indexing.html#indexing-view-versus-copy\n",
      "  self[name] = value\n"
     ]
    }
   ],
   "source": [
    "tamanho_val = {\n",
    "    '00' : 0,\n",
    "    '02' : 1,\n",
    "    '04' : 2,\n",
    "    '06' : 3,\n",
    "    '08' : 4,\n",
    "    '10' : 5,\n",
    "    '12' : 6,\n",
    "    '14' : 7,\n",
    "    'PP' : 8,\n",
    "    'P' : 9,\n",
    "    'M' : 10,\n",
    "    'G' : 11,\n",
    "    'GG' : 12\n",
    "}\n",
    "treino.TAMANHO = treino.TAMANHO.apply(lambda x: tamanho_val[x])\n",
    "validacao.TAMANHO = validacao.TAMANHO.apply(lambda x: tamanho_val[x])"
   ]
  },
  {
   "cell_type": "code",
   "execution_count": 28,
   "metadata": {},
   "outputs": [
    {
     "name": "stderr",
     "output_type": "stream",
     "text": [
      "/Users/chazanas/.virtualenvs/sold_alt/lib/python3.6/site-packages/ipykernel_launcher.py:2: SettingWithCopyWarning: \n",
      "A value is trying to be set on a copy of a slice from a DataFrame.\n",
      "Try using .loc[row_indexer,col_indexer] = value instead\n",
      "\n",
      "See the caveats in the documentation: http://pandas.pydata.org/pandas-docs/stable/indexing.html#indexing-view-versus-copy\n",
      "  \n",
      "/Users/chazanas/.virtualenvs/sold_alt/lib/python3.6/site-packages/ipykernel_launcher.py:3: SettingWithCopyWarning: \n",
      "A value is trying to be set on a copy of a slice from a DataFrame.\n",
      "Try using .loc[row_indexer,col_indexer] = value instead\n",
      "\n",
      "See the caveats in the documentation: http://pandas.pydata.org/pandas-docs/stable/indexing.html#indexing-view-versus-copy\n",
      "  This is separate from the ipykernel package so we can avoid doing imports until\n"
     ]
    }
   ],
   "source": [
    "le_NOME = LabelEncoder()\n",
    "treino['NOME'] = le_NOME.fit_transform(treino.NOME)\n",
    "validacao['NOME'] = le_NOME.transform(validacao.NOME)"
   ]
  },
  {
   "cell_type": "code",
   "execution_count": 51,
   "metadata": {},
   "outputs": [],
   "source": [
    "y_train = treino['QUANTIDADE']\n",
    "X_train = treino.drop('QUANTIDADE', 1)\n",
    "X_test = validacao.drop('QUANTIDADE', 1)\n",
    "Y_test = validacao['QUANTIDADE']"
   ]
  },
  {
   "cell_type": "markdown",
   "metadata": {},
   "source": [
    "# FEATURES"
   ]
  },
  {
   "cell_type": "code",
   "execution_count": null,
   "metadata": {},
   "outputs": [],
   "source": []
  },
  {
   "cell_type": "markdown",
   "metadata": {},
   "source": [
    "# TRAIN"
   ]
  },
  {
   "cell_type": "code",
   "execution_count": 48,
   "metadata": {},
   "outputs": [],
   "source": [
    "from sklearn.ensemble import RandomForestRegressor, ExtraTreesRegressor, GradientBoostingRegressor \n",
    "from sklearn.linear_model import LogisticRegression\n",
    "from sklearn.metrics import mean_squared_error\n",
    "from xgboost import XGBClassifier"
   ]
  },
  {
   "cell_type": "code",
   "execution_count": 49,
   "metadata": {},
   "outputs": [
    {
     "name": "stdout",
     "output_type": "stream",
     "text": [
      "LR 226.55837563451777\n",
      "RF 56.31938071065989\n",
      "XTREE 62.91501522842639\n",
      "GBR 82.76824095987064\n",
      "XGB 154.7055837563452\n"
     ]
    },
    {
     "name": "stderr",
     "output_type": "stream",
     "text": [
      "/Users/chazanas/.virtualenvs/sold_alt/lib/python3.6/site-packages/sklearn/preprocessing/label.py:151: DeprecationWarning: The truth value of an empty array is ambiguous. Returning False, but in future this will result in an error. Use `array.size > 0` to check that an array is not empty.\n",
      "  if diff:\n"
     ]
    }
   ],
   "source": [
    "models = []\n",
    "models.append(('LR', LogisticRegression()))\n",
    "models.append(('RF', RandomForestRegressor()))\n",
    "models.append(('XTREE', ExtraTreesRegressor()))\n",
    "models.append(('GBR', GradientBoostingRegressor()))\n",
    "models.append(('XGB', XGBClassifier()))\n",
    "results = []\n",
    "for name, model in models:\n",
    "    model.fit(X_train, y_train)\n",
    "    Y_pred = model.predict(X_test)\n",
    "    print(name, mean_squared_error(Y_test, Y_pred))"
   ]
  },
  {
   "cell_type": "markdown",
   "metadata": {},
   "source": [
    "# RANDOM FOREST"
   ]
  },
  {
   "cell_type": "code",
   "execution_count": null,
   "metadata": {},
   "outputs": [],
   "source": []
  },
  {
   "cell_type": "code",
   "execution_count": null,
   "metadata": {},
   "outputs": [],
   "source": []
  }
 ],
 "metadata": {
  "kernelspec": {
   "display_name": "Python 3",
   "language": "python",
   "name": "python3"
  },
  "language_info": {
   "codemirror_mode": {
    "name": "ipython",
    "version": 3
   },
   "file_extension": ".py",
   "mimetype": "text/x-python",
   "name": "python",
   "nbconvert_exporter": "python",
   "pygments_lexer": "ipython3",
   "version": "3.6.5"
  }
 },
 "nbformat": 4,
 "nbformat_minor": 2
}
